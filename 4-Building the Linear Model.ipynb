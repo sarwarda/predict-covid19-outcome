{
 "cells": [
  {
   "cell_type": "code",
   "execution_count": 1,
   "id": "87852bae-fb0c-4f1e-9d6c-f856934fcdd0",
   "metadata": {},
   "outputs": [],
   "source": [
    "import warnings\n",
    "warnings.filterwarnings(\"ignore\")"
   ]
  },
  {
   "cell_type": "code",
   "execution_count": 2,
   "id": "798564eb-f620-458b-8b04-2b253baa04a2",
   "metadata": {},
   "outputs": [],
   "source": [
    "%matplotlib inline"
   ]
  },
  {
   "cell_type": "markdown",
   "id": "3b173f46-0320-468f-8a31-576da900e938",
   "metadata": {},
   "source": [
    "<a id=\"00\"></a>\n",
    "# Building the Linear Model\n",
    "\n",
    "The purpose of this notebook is to take a methodological approach to building the Logistic Regression Model for the Covid-19 data, which was thoroughly explored in the EDA notebook. In addition, we will use machine learning techniques to evaluate the model as well as use the model to make predictions about patient mortality as a result of Covid-19 infection.\n",
    "1. [Load the data](#0)\n",
    "2. [Mean Model (null model)](#1)\n",
    "3. [Building the Linear Model](#2)\n",
    "4. [Evaluating the Final Model](#3)\n",
    "    - [Cross Validation](#3a)\n",
    "    - [Learning Curves](#3b)\n",
    "5. [Describe the Linear Model](#4)\n",
    "6. [Using the Linear Model](#5)\n"
   ]
  },
  {
   "cell_type": "code",
   "execution_count": 3,
   "id": "835f9794-afb9-42d0-9b55-15231bc5f334",
   "metadata": {},
   "outputs": [],
   "source": [
    "import models\n",
    "import sqlite3\n",
    "import pandas as pd\n",
    "from tabulate import tabulate\n",
    "import numpy as np\n",
    "import seaborn as sns\n",
    "import matplotlib.pyplot as plt\n",
    "import scipy.stats as stats\n",
    "import random\n",
    "import patsy\n",
    "from collections import defaultdict\n",
    "\n",
    "sns.set(style=\"whitegrid\")\n",
    "pd.options.display.float_format = '{:20,.4f}'.format\n",
    "pd.set_option('display.latex.repr', True)\n",
    "pd.set_option('display.latex.longtable', True)"
   ]
  },
  {
   "cell_type": "code",
   "execution_count": 4,
   "id": "014f2847-bef5-451a-bb9d-c5a80c9a4005",
   "metadata": {},
   "outputs": [],
   "source": [
    "np.random.seed(23671489)\n",
    "random.seed(4629378)"
   ]
  },
  {
   "cell_type": "markdown",
   "id": "a0b34194-5ba7-46c1-8f84-a6dc51a8c922",
   "metadata": {},
   "source": [
    "<a id=\"0\"></a>\n",
    "## Load the Data"
   ]
  },
  {
   "cell_type": "markdown",
   "id": "eb0f97bc-342e-4e2d-bee3-e78261663244",
   "metadata": {},
   "source": [
    "Many of the decisions for the data are based on result from ETL and EDA, including columns and rows to drop from the data set.\n",
    "\n",
    "First, we can pull the necessary data from the database as follows, similar to the query from ETL:"
   ]
  },
  {
   "cell_type": "code",
   "execution_count": 5,
   "id": "14bd7ea0-4843-4823-a08a-b19aaa497ce7",
   "metadata": {},
   "outputs": [],
   "source": [
    "con = sqlite3.connect('data.db')"
   ]
  },
  {
   "cell_type": "code",
   "execution_count": 6,
   "id": "b1320d70-3811-455b-8df9-fbfdfc965daa",
   "metadata": {},
   "outputs": [],
   "source": [
    "query = \"\"\"\n",
    "SELECT * \n",
    "FROM patient\n",
    "INNER JOIN blood on blood.patient_id = patient.id\n",
    "\"\"\"\n",
    "\n",
    "df = pd.read_sql_query(query, con)"
   ]
  },
  {
   "cell_type": "markdown",
   "id": "7993660c-3fd9-42cf-8d0e-e8d9f4cf5bcf",
   "metadata": {},
   "source": [
    "Next, we implement any basic transformations or drop any columns that aren't needed for analysis:"
   ]
  },
  {
   "cell_type": "code",
   "execution_count": 7,
   "id": "9c74d643-c551-4b0d-bcee-2d9b8486a0d4",
   "metadata": {},
   "outputs": [],
   "source": [
    "df = df.drop(['id', 'patient_id', 'ferritin', 'glucose'], axis=1) #get rid of id columns and columns with half missing values or more\n",
    "\n",
    "df['temp_F'] = ((9/5) * df.temperature) + 32 #convert celsius to fahrenheit\n",
    "\n",
    "x = pd.DataFrame(df.iloc[:, 4:8]) #undo dummy variables in a new column\n",
    "df['race'] = x.idxmax(axis=1)"
   ]
  },
  {
   "cell_type": "markdown",
   "id": "96beeec8-9abc-4668-9be7-7e20aec7ee15",
   "metadata": {},
   "source": [
    "Next, we can drop rows according to our results in EDA where patients were missing multiple values across many variables. This includes instances where blood panel results are missing so we do not have any numerical data for the patient, or values are unrealistic according to domain knowledge which may be an error:"
   ]
  },
  {
   "cell_type": "code",
   "execution_count": 8,
   "id": "a62c726f-d00d-4612-93b1-fb95cdd434e4",
   "metadata": {},
   "outputs": [],
   "source": [
    "data = df[((df.temp_F >= 95) & (df.temp_F <= 108)) & (df.mean_arterial_pressure != 0) & (df.aspartate_aminotransferase != 0)]"
   ]
  },
  {
   "cell_type": "markdown",
   "id": "cb33d2f5-5d61-4032-8e81-1f79313f8383",
   "metadata": {},
   "source": [
    "Since we are using **logistic regression**, scaling the data is not favorable since it will affect the interpretability of the model. Therefore, KNNImputer or any distance based methods for missing value imputation may not be ideal. Let's see how many values are still missing from significant variables, according to EDA:"
   ]
  },
  {
   "cell_type": "code",
   "execution_count": 9,
   "id": "defa04f2-7725-48dd-8077-caf7ea91d20c",
   "metadata": {},
   "outputs": [
    {
     "data": {
      "text/html": [
       "<div>\n",
       "<style scoped>\n",
       "    .dataframe tbody tr th:only-of-type {\n",
       "        vertical-align: middle;\n",
       "    }\n",
       "\n",
       "    .dataframe tbody tr th {\n",
       "        vertical-align: top;\n",
       "    }\n",
       "\n",
       "    .dataframe thead th {\n",
       "        text-align: right;\n",
       "    }\n",
       "</style>\n",
       "<table border=\"1\" class=\"dataframe\">\n",
       "  <thead>\n",
       "    <tr style=\"text-align: right;\">\n",
       "      <th></th>\n",
       "      <th>0</th>\n",
       "    </tr>\n",
       "  </thead>\n",
       "  <tbody>\n",
       "    <tr>\n",
       "      <th>length_of_stay</th>\n",
       "      <td>0</td>\n",
       "    </tr>\n",
       "    <tr>\n",
       "      <th>age</th>\n",
       "      <td>0</td>\n",
       "    </tr>\n",
       "    <tr>\n",
       "      <th>death</th>\n",
       "      <td>0</td>\n",
       "    </tr>\n",
       "    <tr>\n",
       "      <th>severity</th>\n",
       "      <td>0</td>\n",
       "    </tr>\n",
       "    <tr>\n",
       "      <th>black</th>\n",
       "      <td>0</td>\n",
       "    </tr>\n",
       "    <tr>\n",
       "      <th>white</th>\n",
       "      <td>0</td>\n",
       "    </tr>\n",
       "    <tr>\n",
       "      <th>asian</th>\n",
       "      <td>0</td>\n",
       "    </tr>\n",
       "    <tr>\n",
       "      <th>latino</th>\n",
       "      <td>0</td>\n",
       "    </tr>\n",
       "    <tr>\n",
       "      <th>myocardial_infarction</th>\n",
       "      <td>0</td>\n",
       "    </tr>\n",
       "    <tr>\n",
       "      <th>peripheral_vascular_disease</th>\n",
       "      <td>0</td>\n",
       "    </tr>\n",
       "    <tr>\n",
       "      <th>congestive_heart_disease</th>\n",
       "      <td>0</td>\n",
       "    </tr>\n",
       "    <tr>\n",
       "      <th>cardiovascular_disease</th>\n",
       "      <td>0</td>\n",
       "    </tr>\n",
       "    <tr>\n",
       "      <th>dementia</th>\n",
       "      <td>0</td>\n",
       "    </tr>\n",
       "    <tr>\n",
       "      <th>chronic_obstructive_pulmonary_disease</th>\n",
       "      <td>0</td>\n",
       "    </tr>\n",
       "    <tr>\n",
       "      <th>diabetes_mellitus_complicated</th>\n",
       "      <td>0</td>\n",
       "    </tr>\n",
       "    <tr>\n",
       "      <th>diabetes_mellitus_simple</th>\n",
       "      <td>0</td>\n",
       "    </tr>\n",
       "    <tr>\n",
       "      <th>renal_disease</th>\n",
       "      <td>0</td>\n",
       "    </tr>\n",
       "    <tr>\n",
       "      <th>all_central_nervous_system_disease</th>\n",
       "      <td>0</td>\n",
       "    </tr>\n",
       "    <tr>\n",
       "      <th>pure_central_nervous_system_disease</th>\n",
       "      <td>0</td>\n",
       "    </tr>\n",
       "    <tr>\n",
       "      <th>stroke</th>\n",
       "      <td>0</td>\n",
       "    </tr>\n",
       "    <tr>\n",
       "      <th>seizure</th>\n",
       "      <td>0</td>\n",
       "    </tr>\n",
       "    <tr>\n",
       "      <th>oxygen_saturation</th>\n",
       "      <td>3</td>\n",
       "    </tr>\n",
       "    <tr>\n",
       "      <th>temperature</th>\n",
       "      <td>0</td>\n",
       "    </tr>\n",
       "    <tr>\n",
       "      <th>mean_arterial_pressure</th>\n",
       "      <td>0</td>\n",
       "    </tr>\n",
       "    <tr>\n",
       "      <th>D_dimer</th>\n",
       "      <td>0</td>\n",
       "    </tr>\n",
       "    <tr>\n",
       "      <th>platelets</th>\n",
       "      <td>7</td>\n",
       "    </tr>\n",
       "    <tr>\n",
       "      <th>international_normalized_ratio</th>\n",
       "      <td>0</td>\n",
       "    </tr>\n",
       "    <tr>\n",
       "      <th>blood_urea_nitrogen</th>\n",
       "      <td>0</td>\n",
       "    </tr>\n",
       "    <tr>\n",
       "      <th>creatinine</th>\n",
       "      <td>0</td>\n",
       "    </tr>\n",
       "    <tr>\n",
       "      <th>sodium</th>\n",
       "      <td>41</td>\n",
       "    </tr>\n",
       "    <tr>\n",
       "      <th>aspartate_aminotransferase</th>\n",
       "      <td>0</td>\n",
       "    </tr>\n",
       "    <tr>\n",
       "      <th>alanine_aminotransferase</th>\n",
       "      <td>0</td>\n",
       "    </tr>\n",
       "    <tr>\n",
       "      <th>white_blood_cell</th>\n",
       "      <td>7</td>\n",
       "    </tr>\n",
       "    <tr>\n",
       "      <th>lymphocytes</th>\n",
       "      <td>7</td>\n",
       "    </tr>\n",
       "    <tr>\n",
       "      <th>interleukin6</th>\n",
       "      <td>0</td>\n",
       "    </tr>\n",
       "    <tr>\n",
       "      <th>C_reactive_protein</th>\n",
       "      <td>0</td>\n",
       "    </tr>\n",
       "    <tr>\n",
       "      <th>procalcitonin</th>\n",
       "      <td>0</td>\n",
       "    </tr>\n",
       "    <tr>\n",
       "      <th>troponin</th>\n",
       "      <td>0</td>\n",
       "    </tr>\n",
       "    <tr>\n",
       "      <th>temp_F</th>\n",
       "      <td>0</td>\n",
       "    </tr>\n",
       "    <tr>\n",
       "      <th>race</th>\n",
       "      <td>0</td>\n",
       "    </tr>\n",
       "  </tbody>\n",
       "</table>\n",
       "</div>"
      ],
      "text/latex": [
       "\\begin{longtable}{lr}\n",
       "\\toprule\n",
       "{} &   0 \\\\\n",
       "\\midrule\n",
       "\\endfirsthead\n",
       "\n",
       "\\toprule\n",
       "{} &   0 \\\\\n",
       "\\midrule\n",
       "\\endhead\n",
       "\\midrule\n",
       "\\multicolumn{2}{r}{{Continued on next page}} \\\\\n",
       "\\midrule\n",
       "\\endfoot\n",
       "\n",
       "\\bottomrule\n",
       "\\endlastfoot\n",
       "length\\_of\\_stay                        &   0 \\\\\n",
       "age                                   &   0 \\\\\n",
       "death                                 &   0 \\\\\n",
       "severity                              &   0 \\\\\n",
       "black                                 &   0 \\\\\n",
       "white                                 &   0 \\\\\n",
       "asian                                 &   0 \\\\\n",
       "latino                                &   0 \\\\\n",
       "myocardial\\_infarction                 &   0 \\\\\n",
       "peripheral\\_vascular\\_disease           &   0 \\\\\n",
       "congestive\\_heart\\_disease              &   0 \\\\\n",
       "cardiovascular\\_disease                &   0 \\\\\n",
       "dementia                              &   0 \\\\\n",
       "chronic\\_obstructive\\_pulmonary\\_disease &   0 \\\\\n",
       "diabetes\\_mellitus\\_complicated         &   0 \\\\\n",
       "diabetes\\_mellitus\\_simple              &   0 \\\\\n",
       "renal\\_disease                         &   0 \\\\\n",
       "all\\_central\\_nervous\\_system\\_disease    &   0 \\\\\n",
       "pure\\_central\\_nervous\\_system\\_disease   &   0 \\\\\n",
       "stroke                                &   0 \\\\\n",
       "seizure                               &   0 \\\\\n",
       "oxygen\\_saturation                     &   3 \\\\\n",
       "temperature                           &   0 \\\\\n",
       "mean\\_arterial\\_pressure                &   0 \\\\\n",
       "D\\_dimer                               &   0 \\\\\n",
       "platelets                             &   7 \\\\\n",
       "international\\_normalized\\_ratio        &   0 \\\\\n",
       "blood\\_urea\\_nitrogen                   &   0 \\\\\n",
       "creatinine                            &   0 \\\\\n",
       "sodium                                &  41 \\\\\n",
       "aspartate\\_aminotransferase            &   0 \\\\\n",
       "alanine\\_aminotransferase              &   0 \\\\\n",
       "white\\_blood\\_cell                      &   7 \\\\\n",
       "lymphocytes                           &   7 \\\\\n",
       "interleukin6                          &   0 \\\\\n",
       "C\\_reactive\\_protein                    &   0 \\\\\n",
       "procalcitonin                         &   0 \\\\\n",
       "troponin                              &   0 \\\\\n",
       "temp\\_F                                &   0 \\\\\n",
       "race                                  &   0 \\\\\n",
       "\\end{longtable}\n"
      ],
      "text/plain": [
       "                                        0\n",
       "length_of_stay                          0\n",
       "age                                     0\n",
       "death                                   0\n",
       "severity                                0\n",
       "black                                   0\n",
       "white                                   0\n",
       "asian                                   0\n",
       "latino                                  0\n",
       "myocardial_infarction                   0\n",
       "peripheral_vascular_disease             0\n",
       "congestive_heart_disease                0\n",
       "cardiovascular_disease                  0\n",
       "dementia                                0\n",
       "chronic_obstructive_pulmonary_disease   0\n",
       "diabetes_mellitus_complicated           0\n",
       "diabetes_mellitus_simple                0\n",
       "renal_disease                           0\n",
       "all_central_nervous_system_disease      0\n",
       "pure_central_nervous_system_disease     0\n",
       "stroke                                  0\n",
       "seizure                                 0\n",
       "oxygen_saturation                       3\n",
       "temperature                             0\n",
       "mean_arterial_pressure                  0\n",
       "D_dimer                                 0\n",
       "platelets                               7\n",
       "international_normalized_ratio          0\n",
       "blood_urea_nitrogen                     0\n",
       "creatinine                              0\n",
       "sodium                                 41\n",
       "aspartate_aminotransferase              0\n",
       "alanine_aminotransferase                0\n",
       "white_blood_cell                        7\n",
       "lymphocytes                             7\n",
       "interleukin6                            0\n",
       "C_reactive_protein                      0\n",
       "procalcitonin                           0\n",
       "troponin                                0\n",
       "temp_F                                  0\n",
       "race                                    0"
      ]
     },
     "execution_count": 9,
     "metadata": {},
     "output_type": "execute_result"
    }
   ],
   "source": [
    "col = ['oxygen_saturation', 'sodium', 'white_blood_cell', 'platelets', 'lymphocytes']\n",
    "data[col] = data[col].replace(0, np.NaN)\n",
    "pd.DataFrame(data.isnull().sum())"
   ]
  },
  {
   "cell_type": "markdown",
   "id": "c1d6f8f0-4c84-480c-a8a0-5070203579ee",
   "metadata": {},
   "source": [
    "We have less that ~50 missing values after removing the rows that were missing blood panel results or had errors for the patient data. Therefore, we are better off dropping these rows, as well, since we will still have over 4000 patients in our sample. "
   ]
  },
  {
   "cell_type": "code",
   "execution_count": 10,
   "id": "af4334e2-8a22-43e5-98bc-764bbaf66b05",
   "metadata": {},
   "outputs": [],
   "source": [
    "data = data.dropna()"
   ]
  },
  {
   "cell_type": "markdown",
   "id": "c8256f69-3b71-4d7d-9547-fd8a6829ffb3",
   "metadata": {},
   "source": [
    "Finally, we can make sure our data was loaded correctly:"
   ]
  },
  {
   "cell_type": "code",
   "execution_count": 11,
   "id": "78bc15ca-3769-408e-8ae0-5b1c6c636a0c",
   "metadata": {},
   "outputs": [
    {
     "name": "stdout",
     "output_type": "stream",
     "text": [
      "<class 'pandas.core.frame.DataFrame'>\n",
      "Int64Index: 4175 entries, 0 to 4709\n",
      "Data columns (total 40 columns):\n",
      " #   Column                                 Non-Null Count  Dtype  \n",
      "---  ------                                 --------------  -----  \n",
      " 0   length_of_stay                         4175 non-null   int64  \n",
      " 1   age                                    4175 non-null   int64  \n",
      " 2   death                                  4175 non-null   int64  \n",
      " 3   severity                               4175 non-null   int64  \n",
      " 4   black                                  4175 non-null   int64  \n",
      " 5   white                                  4175 non-null   int64  \n",
      " 6   asian                                  4175 non-null   int64  \n",
      " 7   latino                                 4175 non-null   int64  \n",
      " 8   myocardial_infarction                  4175 non-null   int64  \n",
      " 9   peripheral_vascular_disease            4175 non-null   int64  \n",
      " 10  congestive_heart_disease               4175 non-null   int64  \n",
      " 11  cardiovascular_disease                 4175 non-null   int64  \n",
      " 12  dementia                               4175 non-null   int64  \n",
      " 13  chronic_obstructive_pulmonary_disease  4175 non-null   int64  \n",
      " 14  diabetes_mellitus_complicated          4175 non-null   int64  \n",
      " 15  diabetes_mellitus_simple               4175 non-null   int64  \n",
      " 16  renal_disease                          4175 non-null   int64  \n",
      " 17  all_central_nervous_system_disease     4175 non-null   int64  \n",
      " 18  pure_central_nervous_system_disease    4175 non-null   int64  \n",
      " 19  stroke                                 4175 non-null   int64  \n",
      " 20  seizure                                4175 non-null   int64  \n",
      " 21  oxygen_saturation                      4175 non-null   float64\n",
      " 22  temperature                            4175 non-null   float64\n",
      " 23  mean_arterial_pressure                 4175 non-null   float64\n",
      " 24  D_dimer                                4175 non-null   float64\n",
      " 25  platelets                              4175 non-null   float64\n",
      " 26  international_normalized_ratio         4175 non-null   float64\n",
      " 27  blood_urea_nitrogen                    4175 non-null   float64\n",
      " 28  creatinine                             4175 non-null   float64\n",
      " 29  sodium                                 4175 non-null   float64\n",
      " 30  aspartate_aminotransferase             4175 non-null   float64\n",
      " 31  alanine_aminotransferase               4175 non-null   float64\n",
      " 32  white_blood_cell                       4175 non-null   float64\n",
      " 33  lymphocytes                            4175 non-null   float64\n",
      " 34  interleukin6                           4175 non-null   float64\n",
      " 35  C_reactive_protein                     4175 non-null   float64\n",
      " 36  procalcitonin                          4175 non-null   float64\n",
      " 37  troponin                               4175 non-null   float64\n",
      " 38  temp_F                                 4175 non-null   float64\n",
      " 39  race                                   4175 non-null   object \n",
      "dtypes: float64(18), int64(21), object(1)\n",
      "memory usage: 1.3+ MB\n"
     ]
    }
   ],
   "source": [
    "data.info()"
   ]
  },
  {
   "cell_type": "code",
   "execution_count": 12,
   "id": "357fbbe4-ed40-4840-87ea-13cbddcb1047",
   "metadata": {},
   "outputs": [
    {
     "data": {
      "text/html": [
       "<div>\n",
       "<style scoped>\n",
       "    .dataframe tbody tr th:only-of-type {\n",
       "        vertical-align: middle;\n",
       "    }\n",
       "\n",
       "    .dataframe tbody tr th {\n",
       "        vertical-align: top;\n",
       "    }\n",
       "\n",
       "    .dataframe thead th {\n",
       "        text-align: right;\n",
       "    }\n",
       "</style>\n",
       "<table border=\"1\" class=\"dataframe\">\n",
       "  <thead>\n",
       "    <tr style=\"text-align: right;\">\n",
       "      <th></th>\n",
       "      <th>length_of_stay</th>\n",
       "      <th>age</th>\n",
       "      <th>death</th>\n",
       "      <th>severity</th>\n",
       "      <th>black</th>\n",
       "      <th>white</th>\n",
       "      <th>asian</th>\n",
       "      <th>latino</th>\n",
       "      <th>myocardial_infarction</th>\n",
       "      <th>peripheral_vascular_disease</th>\n",
       "      <th>...</th>\n",
       "      <th>aspartate_aminotransferase</th>\n",
       "      <th>alanine_aminotransferase</th>\n",
       "      <th>white_blood_cell</th>\n",
       "      <th>lymphocytes</th>\n",
       "      <th>interleukin6</th>\n",
       "      <th>C_reactive_protein</th>\n",
       "      <th>procalcitonin</th>\n",
       "      <th>troponin</th>\n",
       "      <th>temp_F</th>\n",
       "      <th>race</th>\n",
       "    </tr>\n",
       "  </thead>\n",
       "  <tbody>\n",
       "    <tr>\n",
       "      <th>0</th>\n",
       "      <td>1</td>\n",
       "      <td>89</td>\n",
       "      <td>0</td>\n",
       "      <td>3</td>\n",
       "      <td>0</td>\n",
       "      <td>0</td>\n",
       "      <td>0</td>\n",
       "      <td>0</td>\n",
       "      <td>0</td>\n",
       "      <td>0</td>\n",
       "      <td>...</td>\n",
       "      <td>26.0000</td>\n",
       "      <td>14.0000</td>\n",
       "      <td>5.6000</td>\n",
       "      <td>1.4000</td>\n",
       "      <td>0.0000</td>\n",
       "      <td>0.4999</td>\n",
       "      <td>0.0000</td>\n",
       "      <td>0.0100</td>\n",
       "      <td>98.4000</td>\n",
       "      <td>black</td>\n",
       "    </tr>\n",
       "    <tr>\n",
       "      <th>1</th>\n",
       "      <td>2</td>\n",
       "      <td>67</td>\n",
       "      <td>1</td>\n",
       "      <td>7</td>\n",
       "      <td>0</td>\n",
       "      <td>1</td>\n",
       "      <td>0</td>\n",
       "      <td>0</td>\n",
       "      <td>0</td>\n",
       "      <td>1</td>\n",
       "      <td>...</td>\n",
       "      <td>85.0000</td>\n",
       "      <td>32.0000</td>\n",
       "      <td>12.2000</td>\n",
       "      <td>0.3000</td>\n",
       "      <td>0.0000</td>\n",
       "      <td>14.9000</td>\n",
       "      <td>0.6000</td>\n",
       "      <td>1.2000</td>\n",
       "      <td>97.4000</td>\n",
       "      <td>white</td>\n",
       "    </tr>\n",
       "    <tr>\n",
       "      <th>2</th>\n",
       "      <td>2</td>\n",
       "      <td>94</td>\n",
       "      <td>1</td>\n",
       "      <td>7</td>\n",
       "      <td>0</td>\n",
       "      <td>1</td>\n",
       "      <td>0</td>\n",
       "      <td>0</td>\n",
       "      <td>0</td>\n",
       "      <td>1</td>\n",
       "      <td>...</td>\n",
       "      <td>32.0000</td>\n",
       "      <td>18.0000</td>\n",
       "      <td>6.1000</td>\n",
       "      <td>0.5000</td>\n",
       "      <td>324.1000</td>\n",
       "      <td>33.9000</td>\n",
       "      <td>1.2000</td>\n",
       "      <td>0.0000</td>\n",
       "      <td>102.6000</td>\n",
       "      <td>white</td>\n",
       "    </tr>\n",
       "    <tr>\n",
       "      <th>3</th>\n",
       "      <td>15</td>\n",
       "      <td>72</td>\n",
       "      <td>0</td>\n",
       "      <td>9</td>\n",
       "      <td>1</td>\n",
       "      <td>0</td>\n",
       "      <td>0</td>\n",
       "      <td>0</td>\n",
       "      <td>1</td>\n",
       "      <td>0</td>\n",
       "      <td>...</td>\n",
       "      <td>44.0000</td>\n",
       "      <td>17.0000</td>\n",
       "      <td>3.7000</td>\n",
       "      <td>0.5000</td>\n",
       "      <td>0.0000</td>\n",
       "      <td>18.4000</td>\n",
       "      <td>7.3000</td>\n",
       "      <td>0.0500</td>\n",
       "      <td>102.0000</td>\n",
       "      <td>black</td>\n",
       "    </tr>\n",
       "    <tr>\n",
       "      <th>4</th>\n",
       "      <td>9</td>\n",
       "      <td>71</td>\n",
       "      <td>0</td>\n",
       "      <td>7</td>\n",
       "      <td>1</td>\n",
       "      <td>0</td>\n",
       "      <td>0</td>\n",
       "      <td>0</td>\n",
       "      <td>0</td>\n",
       "      <td>0</td>\n",
       "      <td>...</td>\n",
       "      <td>38.0000</td>\n",
       "      <td>28.0000</td>\n",
       "      <td>5.7000</td>\n",
       "      <td>1.4000</td>\n",
       "      <td>39.4000</td>\n",
       "      <td>11.6000</td>\n",
       "      <td>0.0000</td>\n",
       "      <td>0.0100</td>\n",
       "      <td>100.5000</td>\n",
       "      <td>black</td>\n",
       "    </tr>\n",
       "  </tbody>\n",
       "</table>\n",
       "<p>5 rows × 40 columns</p>\n",
       "</div>"
      ],
      "text/latex": [
       "\\begin{longtable}{lrrrrrrrrrrrrrrrrrrrrrrrrrrrrrrrrrrrrrrrl}\n",
       "\\toprule\n",
       "{} &  length\\_of\\_stay &  age &  death &  severity &  black &  white &  asian &  latino &  myocardial\\_infarction &  peripheral\\_vascular\\_disease &  congestive\\_heart\\_disease &  cardiovascular\\_disease &  dementia &  chronic\\_obstructive\\_pulmonary\\_disease &  diabetes\\_mellitus\\_complicated &  diabetes\\_mellitus\\_simple &  renal\\_disease &  all\\_central\\_nervous\\_system\\_disease &  pure\\_central\\_nervous\\_system\\_disease &  stroke &  seizure &    oxygen\\_saturation &          temperature &  mean\\_arterial\\_pressure &              D\\_dimer &            platelets &  international\\_normalized\\_ratio &  blood\\_urea\\_nitrogen &           creatinine &               sodium &  aspartate\\_aminotransferase &  alanine\\_aminotransferase &     white\\_blood\\_cell &          lymphocytes &         interleukin6 &   C\\_reactive\\_protein &        procalcitonin &             troponin &               temp\\_F &   race \\\\\n",
       "\\midrule\n",
       "\\endfirsthead\n",
       "\n",
       "\\toprule\n",
       "{} &  length\\_of\\_stay &  age &  death &  severity &  black &  white &  asian &  latino &  myocardial\\_infarction &  peripheral\\_vascular\\_disease &  congestive\\_heart\\_disease &  cardiovascular\\_disease &  dementia &  chronic\\_obstructive\\_pulmonary\\_disease &  diabetes\\_mellitus\\_complicated &  diabetes\\_mellitus\\_simple &  renal\\_disease &  all\\_central\\_nervous\\_system\\_disease &  pure\\_central\\_nervous\\_system\\_disease &  stroke &  seizure &    oxygen\\_saturation &          temperature &  mean\\_arterial\\_pressure &              D\\_dimer &            platelets &  international\\_normalized\\_ratio &  blood\\_urea\\_nitrogen &           creatinine &               sodium &  aspartate\\_aminotransferase &  alanine\\_aminotransferase &     white\\_blood\\_cell &          lymphocytes &         interleukin6 &   C\\_reactive\\_protein &        procalcitonin &             troponin &               temp\\_F &   race \\\\\n",
       "\\midrule\n",
       "\\endhead\n",
       "\\midrule\n",
       "\\multicolumn{41}{r}{{Continued on next page}} \\\\\n",
       "\\midrule\n",
       "\\endfoot\n",
       "\n",
       "\\bottomrule\n",
       "\\endlastfoot\n",
       "0 &               1 &   89 &      0 &         3 &      0 &      0 &      0 &       0 &                      0 &                            0 &                         0 &                       0 &         0 &                                      0 &                              0 &                         0 &              0 &                                   0 &                                    0 &       0 &        0 &              95.0000 &              36.8889 &                102.6667 &               0.6300 &             205.0000 &                          1.1000 &              16.0000 &               0.7000 &             135.0000 &                     26.0000 &                   14.0000 &               5.6000 &               1.4000 &               0.0000 &               0.4999 &               0.0000 &               0.0100 &              98.4000 &  black \\\\\n",
       "1 &               2 &   67 &      1 &         7 &      0 &      1 &      0 &       0 &                      0 &                            1 &                         0 &                       0 &         0 &                                      0 &                              0 &                         0 &              0 &                                   0 &                                    0 &       0 &        0 &              89.0000 &              36.3333 &                 86.0000 &               2.8600 &             254.0000 &                          1.4000 &             206.0000 &               9.2000 &             137.0000 &                     85.0000 &                   32.0000 &              12.2000 &               0.3000 &               0.0000 &              14.9000 &               0.6000 &               1.2000 &              97.4000 &  white \\\\\n",
       "2 &               2 &   94 &      1 &         7 &      0 &      1 &      0 &       0 &                      0 &                            1 &                         1 &                       1 &         1 &                                      1 &                              0 &                         0 &              1 &                                   0 &                                    0 &       0 &        0 &              99.0000 &              39.2222 &                 67.3333 &               2.7800 &             137.0000 &                          1.0000 &              85.0000 &               3.4600 &             140.0000 &                     32.0000 &                   18.0000 &               6.1000 &               0.5000 &             324.1000 &              33.9000 &               1.2000 &               0.0000 &             102.6000 &  white \\\\\n",
       "3 &              15 &   72 &      0 &         9 &      1 &      0 &      0 &       0 &                      1 &                            0 &                         0 &                       0 &         1 &                                      0 &                              0 &                         1 &              0 &                                   1 &                                    1 &       0 &        0 &              86.0000 &              38.8889 &                102.6667 &               3.0200 &             223.0000 &                          1.3000 &               0.0000 &               8.3000 &             132.0000 &                     44.0000 &                   17.0000 &               3.7000 &               0.5000 &               0.0000 &              18.4000 &               7.3000 &               0.0500 &             102.0000 &  black \\\\\n",
       "4 &               9 &   71 &      0 &         7 &      1 &      0 &      0 &       0 &                      0 &                            0 &                         0 &                       0 &         0 &                                      0 &                              0 &                         0 &              0 &                                   0 &                                    0 &       0 &        0 &              93.0000 &              38.0556 &                104.3333 &               1.6500 &             125.0000 &                          1.0000 &               0.0000 &               2.6000 &             149.0000 &                     38.0000 &                   28.0000 &               5.7000 &               1.4000 &              39.4000 &              11.6000 &               0.0000 &               0.0100 &             100.5000 &  black \\\\\n",
       "\\end{longtable}\n"
      ],
      "text/plain": [
       "   length_of_stay  age  death  severity  black  white  asian  latino  \\\n",
       "0               1   89      0         3      0      0      0       0   \n",
       "1               2   67      1         7      0      1      0       0   \n",
       "2               2   94      1         7      0      1      0       0   \n",
       "3              15   72      0         9      1      0      0       0   \n",
       "4               9   71      0         7      1      0      0       0   \n",
       "\n",
       "   myocardial_infarction  peripheral_vascular_disease  ...  \\\n",
       "0                      0                            0  ...   \n",
       "1                      0                            1  ...   \n",
       "2                      0                            1  ...   \n",
       "3                      1                            0  ...   \n",
       "4                      0                            0  ...   \n",
       "\n",
       "   aspartate_aminotransferase  alanine_aminotransferase     white_blood_cell  \\\n",
       "0                     26.0000                   14.0000               5.6000   \n",
       "1                     85.0000                   32.0000              12.2000   \n",
       "2                     32.0000                   18.0000               6.1000   \n",
       "3                     44.0000                   17.0000               3.7000   \n",
       "4                     38.0000                   28.0000               5.7000   \n",
       "\n",
       "           lymphocytes         interleukin6   C_reactive_protein  \\\n",
       "0               1.4000               0.0000               0.4999   \n",
       "1               0.3000               0.0000              14.9000   \n",
       "2               0.5000             324.1000              33.9000   \n",
       "3               0.5000               0.0000              18.4000   \n",
       "4               1.4000              39.4000              11.6000   \n",
       "\n",
       "         procalcitonin             troponin               temp_F   race  \n",
       "0               0.0000               0.0100              98.4000  black  \n",
       "1               0.6000               1.2000              97.4000  white  \n",
       "2               1.2000               0.0000             102.6000  white  \n",
       "3               7.3000               0.0500             102.0000  black  \n",
       "4               0.0000               0.0100             100.5000  black  \n",
       "\n",
       "[5 rows x 40 columns]"
      ]
     },
     "execution_count": 12,
     "metadata": {},
     "output_type": "execute_result"
    }
   ],
   "source": [
    "data.head()"
   ]
  },
  {
   "cell_type": "markdown",
   "id": "43079a97-aeb4-4eaf-8408-fff195d0b48f",
   "metadata": {},
   "source": [
    "For future use, we can store this fully cleaned and transformed data into a new table in our database:"
   ]
  },
  {
   "cell_type": "code",
   "execution_count": 13,
   "id": "30eaeca4-71a4-4e57-8e8a-36b215af8350",
   "metadata": {},
   "outputs": [],
   "source": [
    "cursor = con.cursor()\n",
    "\n",
    "query = \"\"\"\n",
    "DROP TABLE IF EXISTS Covid_19_patient_data\n",
    "\"\"\"\n",
    "\n",
    "cursor.execute(query)\n",
    "con.commit()"
   ]
  },
  {
   "cell_type": "code",
   "execution_count": 14,
   "id": "f74e592c-e9bf-4f50-ae32-6a00599a8a9c",
   "metadata": {},
   "outputs": [],
   "source": [
    "data.to_sql(name='Covid_19_patient_data', con=con);"
   ]
  },
  {
   "cell_type": "markdown",
   "id": "fb3c9d9f-319a-4fb9-be12-3114f32c99f5",
   "metadata": {},
   "source": [
    "<a id=\"1\"></a>\n",
    "## Mean (null) Model \n",
    "\n",
    "[Back to Contents](#00)"
   ]
  },
  {
   "cell_type": "markdown",
   "id": "a9b6c5c4-dcd1-4deb-a68f-1a428f5530c8",
   "metadata": {},
   "source": [
    "The null model and the error rate are as follows:"
   ]
  },
  {
   "cell_type": "code",
   "execution_count": 15,
   "id": "16637cde-f57b-41ec-adb1-6c7f08bfffa1",
   "metadata": {},
   "outputs": [
    {
     "name": "stdout",
     "output_type": "stream",
     "text": [
      "P(death=1) = 0.24 (0.76)\n"
     ]
    }
   ],
   "source": [
    "mean = np.mean(data.death)\n",
    "print(\"P(death=1) = {0:.2f} ({1:.2f})\".format(mean, 1-mean))"
   ]
  },
  {
   "cell_type": "markdown",
   "id": "91f5f338-51e8-422f-9af5-b1c7e27655da",
   "metadata": {},
   "source": [
    "The null model is that $P(death = 1) = 0.24$ which leads to an error rate of 76%. "
   ]
  },
  {
   "cell_type": "markdown",
   "id": "c22e96b1-f28f-44d9-af19-93424f7c3cfc",
   "metadata": {},
   "source": [
    "<a id=\"2\"></a>\n",
    "## Building the Linear Model\n",
    "\n",
    "[Back to Contents](#00)"
   ]
  },
  {
   "cell_type": "markdown",
   "id": "60bf07f8-9dd4-48da-ad0f-49f95802fb57",
   "metadata": {},
   "source": [
    "Before attempting an \"all-in\" model, we will summarize the results from EDA. We started with over 40 variables and narrowed it down to 22 variables that either contained enough data or showed some level of correlation with the target variable, `death`. \n",
    "\n",
    "Before summarizing all of the relationships, let's look at all the relavent correlation coefficients in our data set:"
   ]
  },
  {
   "cell_type": "code",
   "execution_count": 16,
   "id": "75d34e2e-ccc9-4f30-adff-a1d795a34137",
   "metadata": {},
   "outputs": [],
   "source": [
    "def correlations(data, y, xs):\n",
    "    rs = []\n",
    "    rhos = []\n",
    "    for x in xs:\n",
    "        r = stats.pearsonr(data[y], data[x])[0]\n",
    "        rs.append(r)\n",
    "        rho = stats.spearmanr(data[y], data[x])[0]\n",
    "        rhos.append(rho)\n",
    "    return pd.DataFrame({\"feature\": xs, \"r\": rs, \"rho\": rhos})"
   ]
  },
  {
   "cell_type": "code",
   "execution_count": 17,
   "id": "1de63fd7-ad70-4e60-b6a4-5a535dde2020",
   "metadata": {},
   "outputs": [
    {
     "data": {
      "text/html": [
       "<div>\n",
       "<style scoped>\n",
       "    .dataframe tbody tr th:only-of-type {\n",
       "        vertical-align: middle;\n",
       "    }\n",
       "\n",
       "    .dataframe tbody tr th {\n",
       "        vertical-align: top;\n",
       "    }\n",
       "\n",
       "    .dataframe thead th {\n",
       "        text-align: right;\n",
       "    }\n",
       "</style>\n",
       "<table border=\"1\" class=\"dataframe\">\n",
       "  <thead>\n",
       "    <tr style=\"text-align: right;\">\n",
       "      <th></th>\n",
       "      <th>feature</th>\n",
       "      <th>r</th>\n",
       "      <th>rho</th>\n",
       "    </tr>\n",
       "  </thead>\n",
       "  <tbody>\n",
       "    <tr>\n",
       "      <th>0</th>\n",
       "      <td>age</td>\n",
       "      <td>0.2906</td>\n",
       "      <td>0.2998</td>\n",
       "    </tr>\n",
       "    <tr>\n",
       "      <th>1</th>\n",
       "      <td>oxygen_saturation</td>\n",
       "      <td>-0.2188</td>\n",
       "      <td>-0.1771</td>\n",
       "    </tr>\n",
       "    <tr>\n",
       "      <th>2</th>\n",
       "      <td>temp_F</td>\n",
       "      <td>0.0184</td>\n",
       "      <td>0.0154</td>\n",
       "    </tr>\n",
       "    <tr>\n",
       "      <th>3</th>\n",
       "      <td>mean_arterial_pressure</td>\n",
       "      <td>-0.3715</td>\n",
       "      <td>-0.3048</td>\n",
       "    </tr>\n",
       "    <tr>\n",
       "      <th>4</th>\n",
       "      <td>D_dimer</td>\n",
       "      <td>0.1777</td>\n",
       "      <td>0.1245</td>\n",
       "    </tr>\n",
       "    <tr>\n",
       "      <th>5</th>\n",
       "      <td>platelets</td>\n",
       "      <td>-0.0803</td>\n",
       "      <td>-0.0883</td>\n",
       "    </tr>\n",
       "    <tr>\n",
       "      <th>6</th>\n",
       "      <td>creatinine</td>\n",
       "      <td>0.1385</td>\n",
       "      <td>0.2431</td>\n",
       "    </tr>\n",
       "    <tr>\n",
       "      <th>7</th>\n",
       "      <td>sodium</td>\n",
       "      <td>0.1205</td>\n",
       "      <td>0.0832</td>\n",
       "    </tr>\n",
       "    <tr>\n",
       "      <th>8</th>\n",
       "      <td>aspartate_aminotransferase</td>\n",
       "      <td>0.0952</td>\n",
       "      <td>0.1654</td>\n",
       "    </tr>\n",
       "    <tr>\n",
       "      <th>9</th>\n",
       "      <td>alanine_aminotransferase</td>\n",
       "      <td>0.0555</td>\n",
       "      <td>0.0198</td>\n",
       "    </tr>\n",
       "    <tr>\n",
       "      <th>10</th>\n",
       "      <td>white_blood_cell</td>\n",
       "      <td>0.0635</td>\n",
       "      <td>0.0940</td>\n",
       "    </tr>\n",
       "    <tr>\n",
       "      <th>11</th>\n",
       "      <td>interleukin6</td>\n",
       "      <td>0.0407</td>\n",
       "      <td>0.0608</td>\n",
       "    </tr>\n",
       "    <tr>\n",
       "      <th>12</th>\n",
       "      <td>C_reactive_protein</td>\n",
       "      <td>0.2173</td>\n",
       "      <td>0.1782</td>\n",
       "    </tr>\n",
       "    <tr>\n",
       "      <th>13</th>\n",
       "      <td>procalcitonin</td>\n",
       "      <td>0.1716</td>\n",
       "      <td>0.1837</td>\n",
       "    </tr>\n",
       "    <tr>\n",
       "      <th>14</th>\n",
       "      <td>troponin</td>\n",
       "      <td>0.1139</td>\n",
       "      <td>0.2337</td>\n",
       "    </tr>\n",
       "    <tr>\n",
       "      <th>15</th>\n",
       "      <td>length_of_stay</td>\n",
       "      <td>0.1337</td>\n",
       "      <td>0.1499</td>\n",
       "    </tr>\n",
       "  </tbody>\n",
       "</table>\n",
       "</div>"
      ],
      "text/latex": [
       "\\begin{longtable}{llrr}\n",
       "\\toprule\n",
       "{} &                     feature &                    r &                  rho \\\\\n",
       "\\midrule\n",
       "\\endfirsthead\n",
       "\n",
       "\\toprule\n",
       "{} &                     feature &                    r &                  rho \\\\\n",
       "\\midrule\n",
       "\\endhead\n",
       "\\midrule\n",
       "\\multicolumn{4}{r}{{Continued on next page}} \\\\\n",
       "\\midrule\n",
       "\\endfoot\n",
       "\n",
       "\\bottomrule\n",
       "\\endlastfoot\n",
       "0  &                         age &               0.2906 &               0.2998 \\\\\n",
       "1  &           oxygen\\_saturation &              -0.2188 &              -0.1771 \\\\\n",
       "2  &                      temp\\_F &               0.0184 &               0.0154 \\\\\n",
       "3  &      mean\\_arterial\\_pressure &              -0.3715 &              -0.3048 \\\\\n",
       "4  &                     D\\_dimer &               0.1777 &               0.1245 \\\\\n",
       "5  &                   platelets &              -0.0803 &              -0.0883 \\\\\n",
       "6  &                  creatinine &               0.1385 &               0.2431 \\\\\n",
       "7  &                      sodium &               0.1205 &               0.0832 \\\\\n",
       "8  &  aspartate\\_aminotransferase &               0.0952 &               0.1654 \\\\\n",
       "9  &    alanine\\_aminotransferase &               0.0555 &               0.0198 \\\\\n",
       "10 &            white\\_blood\\_cell &               0.0635 &               0.0940 \\\\\n",
       "11 &                interleukin6 &               0.0407 &               0.0608 \\\\\n",
       "12 &          C\\_reactive\\_protein &               0.2173 &               0.1782 \\\\\n",
       "13 &               procalcitonin &               0.1716 &               0.1837 \\\\\n",
       "14 &                    troponin &               0.1139 &               0.2337 \\\\\n",
       "15 &              length\\_of\\_stay &               0.1337 &               0.1499 \\\\\n",
       "\\end{longtable}\n"
      ],
      "text/plain": [
       "                       feature                    r                  rho\n",
       "0                          age               0.2906               0.2998\n",
       "1            oxygen_saturation              -0.2188              -0.1771\n",
       "2                       temp_F               0.0184               0.0154\n",
       "3       mean_arterial_pressure              -0.3715              -0.3048\n",
       "4                      D_dimer               0.1777               0.1245\n",
       "5                    platelets              -0.0803              -0.0883\n",
       "6                   creatinine               0.1385               0.2431\n",
       "7                       sodium               0.1205               0.0832\n",
       "8   aspartate_aminotransferase               0.0952               0.1654\n",
       "9     alanine_aminotransferase               0.0555               0.0198\n",
       "10            white_blood_cell               0.0635               0.0940\n",
       "11                interleukin6               0.0407               0.0608\n",
       "12          C_reactive_protein               0.2173               0.1782\n",
       "13               procalcitonin               0.1716               0.1837\n",
       "14                    troponin               0.1139               0.2337\n",
       "15              length_of_stay               0.1337               0.1499"
      ]
     },
     "execution_count": 17,
     "metadata": {},
     "output_type": "execute_result"
    }
   ],
   "source": [
    "correlations(data, 'death', [\"age\", \"oxygen_saturation\", \"temp_F\", \"mean_arterial_pressure\", \\\n",
    "            \"D_dimer\", \"platelets\", \"creatinine\", \"sodium\", \"aspartate_aminotransferase\", \"alanine_aminotransferase\", \"white_blood_cell\", \\\n",
    "            \"interleukin6\", \"C_reactive_protein\", \"procalcitonin\", \"troponin\", \"length_of_stay\"])"
   ]
  },
  {
   "cell_type": "markdown",
   "id": "b7f18ca9-3c16-4e63-8c91-68e2d19faddb",
   "metadata": {},
   "source": [
    "Using these correlation coefficients, we can summarize the relationships found in EDA as follows:\n",
    "\n",
    "**Death vs. Age**: There is a medium linear relationship, as indicated by the Pearson coefficient of 0.29, and a slightly stronger nonlinear relationship, as indicated by the Spearman coefficient of 0.30. Patients who died from Covid-19 were older than patients who survived.\n",
    "\n",
    "**Death vs. Race**: There does not seem to be an obvious relationship between race and death. Black and latino individuals made up a majority of patients in the data set, but the proportion of individuals who died from Covid-19 are pretty similar (about one fourth for all groups).\n",
    "\n",
    "**Death vs. myocardial infarction**: There does not seem to be a significant relationship since one fourth of patients who had myocardial infarctions died from Covid-19 and one fourth of patients who did not have myocardial infarctions died from Covid-19. \n",
    "\n",
    "**Death vs. peripheral vascular disease(PVD)**: There does not seem to be a significant relationship since about 18% of patients who had either Grade I or Grade II PVD died from Covid-19 and one fourth of patients without PVD died from Covid-19.  \n",
    "\n",
    "**Death vs. congestive heart disease**: There seems to be a weak relationships since 27% of patients with congestive heart failure died from Covid-19 and 23% of patients without congestive heart failure died from Covid-19. \n",
    "\n",
    "**Death vs. chronic obstructive pulmonary disease(COPD)**: There is a significant relationship between COPD and patient outcome from Covid-19. About one third of patients with COPD died from Covid-19 compared to about one fourth of patients without COPD who died from Covid-19.\n",
    "\n",
    "**Death vs. diabetes mellitus simple**: There does not seem to be a significant relationship, since one fourth of patients with and without diabetes died from Covid-19.\n",
    "\n",
    "**Death vs. renal disease**: There is a significant relationship between renal disease and poor patient outcome from Covid-19, since one third of patients with renal disease died from Covid-19 and only one fourth of patients without renal disease died from Covid-19. \n",
    "\n",
    "**Death vs. central nervous system disease(CNS)**: There is a significant relationship between CNS diseases and poor patient outcome from Covid-19. About one third of patients with a CNS disease died from Covid-19, compared to less than a fourth of patients who did not have a CNS disease and died from Covid-19.\n",
    "\n",
    "**Death vs. stroke**: There is a very significant relationship between strokes and patient outcomes from Covid-19, since half of patients who suffered from a stroke died from Covid-19, compared to one fourth of patients who did not suffer from a stroke who died. There is an issue, however, since only about 50 patients in the data-set had a stroke which is a small sample size.\n",
    "\n",
    "**Death vs. seizure**: There is a relationship since about one third of patients who suffered from seizures died from Covid-19, compared to about one fourth of patients who did not suffer from seizures and died from Covid-19. \n",
    "\n",
    "**Death vs. oxygen saturation**: There is a negative linear relationship, as indicated by the Pearsons coefficent of -0.22, and negative nonlinear relationship, as indicated by the Spearmans coefficient of -0.18. Patients who died from Covid-19 had a lower oxygen saturation level on average that was below the normal range compared to patients who survived.\n",
    "\n",
    "**Death vs. temperature**: The relationship between poor patient outcomes as a result of Covid-19 and temperature is very weak, which is expected since temperature was not a required symptom since many patients did not develop fevers. Both the Pearson and Spearman coefficients are only 0.02, which implies a very weak relationship. \n",
    "\n",
    "**Death vs. mean arterial pressure(MAP)**: There is a significant, negative linear relationship, as indicated by the Pearson coefficient of -0.38, and a significant, negative nonlinear relationship, as indicated by the Spearman coefficient of -0.31. Patient's who died from Covid-19 had a lower MAP level, on average. \n",
    "\n",
    "**Death vs. D-dimer**: There is a somewhat significant linear relationship, as indicated by the Pearson's coefficient of 0.18, and a somewhat significant nonlinear relationship, as indicated by the Spearmans coefficient of 0.13. Patients who died from Covid-19 had a higher D-dimer level, on average. \n",
    "\n",
    "**Death vs. platelets**: There seems to be a somewhat significant relationship between patient outcome and platelet counts, where patients who died from Covid-19 had lower platelets counts. There is a somewhat significant, negative, linear relationship, as indicated by the Pearson's coefficient of -0.08, and a somewhat significant, negative, nonlinear relationship, as indicated by the Spearmans coefficient of -0.09.\n",
    "\n",
    "**Death vs. creatinine**: There is a somewhat weak linear relationship (r = 0.13) and a stronger nonlinear relationship (rho = 0.24). Patients who died from Covid-19 had a higher creatinine level, on average, but the distribution of creatinine levels for patients who survived is more dispersed. Therefore, creatinine may be a good candidate for an *interaction term*. \n",
    "\n",
    "**Death vs. Sodium**: There is a somewhat significant linear relationship between sodium and death from Covid-19 (r = 0.12), and a less significant nonlinear relationship (rho = 0.08). Patients who died from Covid-19 had higher sodium levels, on average. \n",
    "\n",
    "**Death vs. Asparate aminotransferase**: There is a somewhat significant linear relationship (r = 0.09) and a stronger nonlinear relationship (rho = 0.17) between AST and death. Patients who died from Covid-19 had higher levels of AST than patients who survived. \n",
    "\n",
    "**Death vs. Alanine aminotransferase**: There is a weak linear relationship (r = 0.05) and a weaker nonlinear relationship (rho = 0.02) between ALT and death. Patients who died from Covid-19 had higher levels of ALT than patients who survived, but it is not as significant as AST. \n",
    "\n",
    "**Death vs. White blood cells**: There is a weak linear relationship (r = 0.06) and a stronger nonlinear relationship (rho = 0.09) between WBC counts and death. Patients who died from Covid-19 had more elevated WBC counts compared to patients who survived, but both mean WBC counts were within the normal range. \n",
    "\n",
    "**Death vs. Interleukin-6**: There is a weak linear relationship (r = 0.04) and a stronger nonlinear relationship (rho = 0.07) between IL-6 and death. When we removed the three extreme values, the Pearson's coefficent increased to 0.09. Patients who died from Covid-19 had a much higher IL-6 level, on average, compared to patients who survived.\n",
    "\n",
    "**Death vs. C-reactive Protein**: There is a significant linear relationship, as indicated by the Pearson's coefficient of 0.22, and a slightly weaker nonlinear relationship, as indicated by the Spearman's coefficient of 0.18. Patients who died from Covid-19 had higher c-reactive protein levels compared to patients who survived.\n",
    "\n",
    "**Death vs. Procalcitonin**: There is a medium to weak relationship (r = 0.17) and a slightly stronger nonlinear relationship (rho = 0.19) between death and procalcitonin. Patients who died from Covid-19 had more elevated levels of procalcitonin compared to patients who survived. \n",
    "\n",
    "**Death vs. Troponin**: There is a medium to weak linear relationship (r = 0.12) and a stronger nonlinear relationship (rho = 0.24) between troponin and death. Patients who died from Covid-19 had higher troponin levels, on average. \n",
    "\n",
    "**Death vs. Length of Stay**: There is a medium to weak linear relationship (r = 0.14) and a stronger nonlinear relationship (rho = 0.16) between the length of the hospital stay and death. Patients who died from Covid-19 stayed in the hospital longer than patients who survived, on average. \n"
   ]
  },
  {
   "cell_type": "markdown",
   "id": "3457872b-21d7-4920-8e8c-8699de261707",
   "metadata": {},
   "source": [
    "Based on the exploration during EDA, we may not need all of these variables, such as race. This is especially the case for some of the categorical variables since many of the blood panel results are used to diagnose these conditions. To start, we will try an all in model so we may reference back to it as we make adjustments. "
   ]
  },
  {
   "cell_type": "code",
   "execution_count": 18,
   "id": "b5cf8ea4-3b0a-4488-a674-649ceb9f5854",
   "metadata": {},
   "outputs": [
    {
     "data": {
      "text/html": [
       "<p><strong>Model: death ~ age + myocardial_infarction + peripheral_vascular_disease + congestive_heart_disease + chronic_obstructive_pulmonary_disease                 + all_central_nervous_system_disease + diabetes_mellitus_simple + renal_disease + stroke + seizure + oxygen_saturation + temp_F + mean_arterial_pressure                 + D_dimer + platelets + creatinine + sodium + aspartate_aminotransferase + alanine_aminotransferase + white_blood_cell                 + interleukin6 + C_reactive_protein + procalcitonin + troponin + length_of_stay</strong><br/><table>\n",
       "<tbody>\n",
       "<tr><td>                                     </td><td>                     </td><td>                     </td><td><strong>95% BCI</strong</td><td>                   </td><td>                       </td></tr>\n",
       "<tr><td><strong>Coefficients</strong        </td><td>                     </td><td><strong>Mean</strong</td><td><strong>Lo</strong     </td><td><strong>Hi</strong</td><td><strong>P(y=1)</strong</td></tr>\n",
       "<tr><td>                                     </td><td>$\\beta_{0}$          </td><td>0.00001              </td><td>-0.00034                </td><td>0.00023            </td><td>0.50000                </td></tr>\n",
       "<tr><td>age                                  </td><td>$\\beta_{1}$          </td><td>0.05061              </td><td>0.04580                 </td><td>0.05789            </td><td>0.01265                </td></tr>\n",
       "<tr><td>myocardial_infarction                </td><td>$\\beta_{2}$          </td><td>-0.00004             </td><td>-0.00451                </td><td>0.00221            </td><td>-0.00001               </td></tr>\n",
       "<tr><td>peripheral_vascular_disease          </td><td>$\\beta_{3}$          </td><td>-0.00412             </td><td>-0.02529                </td><td>-0.00187           </td><td>-0.00103               </td></tr>\n",
       "<tr><td>congestive_heart_disease             </td><td>$\\beta_{4}$          </td><td>0.00035              </td><td>-0.00316                </td><td>0.00516            </td><td>0.00009                </td></tr>\n",
       "<tr><td>chronic_obstructive_pulmonary_disease</td><td>$\\beta_{5}$          </td><td>0.00034              </td><td>-0.00161                </td><td>0.00577            </td><td>0.00009                </td></tr>\n",
       "<tr><td>all_central_nervous_system_disease   </td><td>$\\beta_{6}$          </td><td>0.00210              </td><td>0.00055                 </td><td>0.01623            </td><td>0.00053                </td></tr>\n",
       "<tr><td>diabetes_mellitus_simple             </td><td>$\\beta_{7}$          </td><td>-0.00023             </td><td>-0.00817                </td><td>0.00216            </td><td>-0.00006               </td></tr>\n",
       "<tr><td>renal_disease                        </td><td>$\\beta_{8}$          </td><td>0.00196              </td><td>0.00011                 </td><td>0.01464            </td><td>0.00049                </td></tr>\n",
       "<tr><td>stroke                               </td><td>$\\beta_{9}$          </td><td>0.00070              </td><td>0.00024                 </td><td>0.00630            </td><td>0.00017                </td></tr>\n",
       "<tr><td>seizure                              </td><td>$\\beta_{10}$         </td><td>0.00019              </td><td>-0.00028                </td><td>0.00300            </td><td>0.00005                </td></tr>\n",
       "<tr><td>oxygen_saturation                    </td><td>$\\beta_{11}$         </td><td>-0.03848             </td><td>-0.05455                </td><td>-0.03292           </td><td>-0.00962               </td></tr>\n",
       "<tr><td>temp_F                               </td><td>$\\beta_{12}$         </td><td>0.00629              </td><td>-0.00843                </td><td>0.02799            </td><td>0.00157                </td></tr>\n",
       "<tr><td>mean_arterial_pressure               </td><td>$\\beta_{13}$         </td><td>-0.04463             </td><td>-0.05095                </td><td>-0.03854           </td><td>-0.01116               </td></tr>\n",
       "<tr><td>D_dimer                              </td><td>$\\beta_{14}$         </td><td>0.01366              </td><td>-0.00419                </td><td>0.02928            </td><td>0.00341                </td></tr>\n",
       "<tr><td>platelets                            </td><td>$\\beta_{15}$         </td><td>-0.00193             </td><td>-0.00288                </td><td>-0.00121           </td><td>-0.00048               </td></tr>\n",
       "<tr><td>creatinine                           </td><td>$\\beta_{16}$         </td><td>0.01915              </td><td>0.00858                 </td><td>0.07258            </td><td>0.00479                </td></tr>\n",
       "<tr><td>sodium                               </td><td>$\\beta_{17}$         </td><td>0.01286              </td><td>0.00053                 </td><td>0.02290            </td><td>0.00322                </td></tr>\n",
       "<tr><td>aspartate_aminotransferase           </td><td>$\\beta_{18}$         </td><td>0.00067              </td><td>0.00012                 </td><td>0.00299            </td><td>0.00017                </td></tr>\n",
       "<tr><td>alanine_aminotransferase             </td><td>$\\beta_{19}$         </td><td>0.00053              </td><td>-0.00349                </td><td>0.00102            </td><td>0.00013                </td></tr>\n",
       "<tr><td>white_blood_cell                     </td><td>$\\beta_{20}$         </td><td>0.00180              </td><td>-0.00853                </td><td>0.01418            </td><td>0.00045                </td></tr>\n",
       "<tr><td>interleukin6                         </td><td>$\\beta_{21}$         </td><td>0.00001              </td><td>-0.00002                </td><td>0.00069            </td><td>0.00000                </td></tr>\n",
       "<tr><td>C_reactive_protein                   </td><td>$\\beta_{22}$         </td><td>0.01898              </td><td>0.00945                 </td><td>0.02663            </td><td>0.00474                </td></tr>\n",
       "<tr><td>procalcitonin                        </td><td>$\\beta_{23}$         </td><td>0.03190              </td><td>0.01874                 </td><td>0.04783            </td><td>0.00798                </td></tr>\n",
       "<tr><td>troponin                             </td><td>$\\beta_{24}$         </td><td>0.00288              </td><td>0.00097                 </td><td>0.02023            </td><td>0.00072                </td></tr>\n",
       "<tr><td>length_of_stay                       </td><td>$\\beta_{25}$         </td><td>0.03426              </td><td>0.02170                 </td><td>0.04632            </td><td>0.00856                </td></tr>\n",
       "<tr><td>                                     </td><td>                     </td><td>                     </td><td>                        </td><td>                   </td><td>                       </td></tr>\n",
       "<tr><td><strong>Metrics</strong             </td><td><strong>Mean</strong</td><td><strong>Lo</strong  </td><td><strong>Hi</strong     </td><td>                   </td><td>                       </td></tr>\n",
       "<tr><td>Error (%)                            </td><td>17.72455             </td><td>15.96240             </td><td>18.73737                </td><td>                   </td><td>                       </td></tr>\n",
       "<tr><td>Efron&#x27;s $R^2$                        </td><td>0.29478              </td><td>0.26928              </td><td>0.33443                 </td><td>                   </td><td>                       </td></tr>\n",
       "</tbody>\n",
       "</table></p>"
      ],
      "text/latex": [
       "\\textbf{Model: death \\(\\sim\\) age + myocardial\\_infarction + peripheral\\_vascular\\_disease + congestive\\_heart\\_disease + chronic\\_obstructive\\_pulmonary\\_disease                 + all\\_central\\_nervous\\_system\\_disease + diabetes\\_mellitus\\_simple + renal\\_disease + stroke + seizure + oxygen\\_saturation + temp\\_F + mean\\_arterial\\_pressure                 + D\\_dimer + platelets + creatinine + sodium + aspartate\\_aminotransferase + alanine\\_aminotransferase + white\\_blood\\_cell                 + interleukin6 + C\\_reactive\\_protein + procalcitonin + troponin + length\\_of\\_stay}\n",
       "\n",
       "\\begin{tabular}{llllll}\n",
       "\\toprule\n",
       "                                          &                &               & \\textbf{95\\% BCI} &             &                 \\\\\n",
       " \\textbf{Coefficients}                    &                & \\textbf{Mean} & \\textbf{Lo}      & \\textbf{Hi} & \\textbf{P(y=1)} \\\\\n",
       "                                          & \\(\\beta_{0}\\)  & 0.00001       & -0.00034         & 0.00023     & 0.50000         \\\\\n",
       " age                                      & \\(\\beta_{1}\\)  & 0.05061       & 0.04580          & 0.05789     & 0.01265         \\\\\n",
       " myocardial\\_infarction                   & \\(\\beta_{2}\\)  & -0.00004      & -0.00451         & 0.00221     & -0.00001        \\\\\n",
       " peripheral\\_vascular\\_disease            & \\(\\beta_{3}\\)  & -0.00412      & -0.02529         & -0.00187    & -0.00103        \\\\\n",
       " congestive\\_heart\\_disease               & \\(\\beta_{4}\\)  & 0.00035       & -0.00316         & 0.00516     & 0.00009         \\\\\n",
       " chronic\\_obstructive\\_pulmonary\\_disease & \\(\\beta_{5}\\)  & 0.00034       & -0.00161         & 0.00577     & 0.00009         \\\\\n",
       " all\\_central\\_nervous\\_system\\_disease   & \\(\\beta_{6}\\)  & 0.00210       & 0.00055          & 0.01623     & 0.00053         \\\\\n",
       " diabetes\\_mellitus\\_simple               & \\(\\beta_{7}\\)  & -0.00023      & -0.00817         & 0.00216     & -0.00006        \\\\\n",
       " renal\\_disease                           & \\(\\beta_{8}\\)  & 0.00196       & 0.00011          & 0.01464     & 0.00049         \\\\\n",
       " stroke                                   & \\(\\beta_{9}\\)  & 0.00070       & 0.00024          & 0.00630     & 0.00017         \\\\\n",
       " seizure                                  & \\(\\beta_{10}\\) & 0.00019       & -0.00028         & 0.00300     & 0.00005         \\\\\n",
       " oxygen\\_saturation                       & \\(\\beta_{11}\\) & -0.03848      & -0.05455         & -0.03292    & -0.00962        \\\\\n",
       " temp\\_F                                  & \\(\\beta_{12}\\) & 0.00629       & -0.00843         & 0.02799     & 0.00157         \\\\\n",
       " mean\\_arterial\\_pressure                 & \\(\\beta_{13}\\) & -0.04463      & -0.05095         & -0.03854    & -0.01116        \\\\\n",
       " D\\_dimer                                 & \\(\\beta_{14}\\) & 0.01366       & -0.00419         & 0.02928     & 0.00341         \\\\\n",
       " platelets                                & \\(\\beta_{15}\\) & -0.00193      & -0.00288         & -0.00121    & -0.00048        \\\\\n",
       " creatinine                               & \\(\\beta_{16}\\) & 0.01915       & 0.00858          & 0.07258     & 0.00479         \\\\\n",
       " sodium                                   & \\(\\beta_{17}\\) & 0.01286       & 0.00053          & 0.02290     & 0.00322         \\\\\n",
       " aspartate\\_aminotransferase              & \\(\\beta_{18}\\) & 0.00067       & 0.00012          & 0.00299     & 0.00017         \\\\\n",
       " alanine\\_aminotransferase                & \\(\\beta_{19}\\) & 0.00053       & -0.00349         & 0.00102     & 0.00013         \\\\\n",
       " white\\_blood\\_cell                       & \\(\\beta_{20}\\) & 0.00180       & -0.00853         & 0.01418     & 0.00045         \\\\\n",
       " interleukin6                             & \\(\\beta_{21}\\) & 0.00001       & -0.00002         & 0.00069     & 0.00000         \\\\\n",
       " C\\_reactive\\_protein                     & \\(\\beta_{22}\\) & 0.01898       & 0.00945          & 0.02663     & 0.00474         \\\\\n",
       " procalcitonin                            & \\(\\beta_{23}\\) & 0.03190       & 0.01874          & 0.04783     & 0.00798         \\\\\n",
       " troponin                                 & \\(\\beta_{24}\\) & 0.00288       & 0.00097          & 0.02023     & 0.00072         \\\\\n",
       " length\\_of\\_stay                         & \\(\\beta_{25}\\) & 0.03426       & 0.02170          & 0.04632     & 0.00856         \\\\\n",
       "                                          &                &               &                  &             &                 \\\\\n",
       " \\textbf{Metrics}                         & \\textbf{Mean}  & \\textbf{Lo}   & \\textbf{Hi}      &             &                 \\\\\n",
       " Error (\\%)                                & 17.72455       & 15.96240      & 18.73737         &             &                 \\\\\n",
       " Efron's \\(R^2\\)                          & 0.29478        & 0.26928       & 0.33443          &             &                 \\\\\n",
       "\\bottomrule\n",
       "\\end{tabular}"
      ],
      "text/markdown": [
       "Model: death ~ age + myocardial_infarction + peripheral_vascular_disease + congestive_heart_disease + chronic_obstructive_pulmonary_disease                 + all_central_nervous_system_disease + diabetes_mellitus_simple + renal_disease + stroke + seizure + oxygen_saturation + temp_F + mean_arterial_pressure                 + D_dimer + platelets + creatinine + sodium + aspartate_aminotransferase + alanine_aminotransferase + white_blood_cell                 + interleukin6 + C_reactive_protein + procalcitonin + troponin + length_of_stay\n",
       "|---------------------------------------|--------------|----------|-------------|----------|------------|\n",
       "|                                       |              |          | **95% BCI** |          |            |\n",
       "| **Coefficients**                      |              | **Mean** | **Lo**      | **Hi**   | **P(y=1)** |\n",
       "|                                       | $\\beta_{0}$  | 0.00001  | -0.00034    | 0.00023  | 0.50000    |\n",
       "| age                                   | $\\beta_{1}$  | 0.05061  | 0.04580     | 0.05789  | 0.01265    |\n",
       "| myocardial_infarction                 | $\\beta_{2}$  | -0.00004 | -0.00451    | 0.00221  | -0.00001   |\n",
       "| peripheral_vascular_disease           | $\\beta_{3}$  | -0.00412 | -0.02529    | -0.00187 | -0.00103   |\n",
       "| congestive_heart_disease              | $\\beta_{4}$  | 0.00035  | -0.00316    | 0.00516  | 0.00009    |\n",
       "| chronic_obstructive_pulmonary_disease | $\\beta_{5}$  | 0.00034  | -0.00161    | 0.00577  | 0.00009    |\n",
       "| all_central_nervous_system_disease    | $\\beta_{6}$  | 0.00210  | 0.00055     | 0.01623  | 0.00053    |\n",
       "| diabetes_mellitus_simple              | $\\beta_{7}$  | -0.00023 | -0.00817    | 0.00216  | -0.00006   |\n",
       "| renal_disease                         | $\\beta_{8}$  | 0.00196  | 0.00011     | 0.01464  | 0.00049    |\n",
       "| stroke                                | $\\beta_{9}$  | 0.00070  | 0.00024     | 0.00630  | 0.00017    |\n",
       "| seizure                               | $\\beta_{10}$ | 0.00019  | -0.00028    | 0.00300  | 0.00005    |\n",
       "| oxygen_saturation                     | $\\beta_{11}$ | -0.03848 | -0.05455    | -0.03292 | -0.00962   |\n",
       "| temp_F                                | $\\beta_{12}$ | 0.00629  | -0.00843    | 0.02799  | 0.00157    |\n",
       "| mean_arterial_pressure                | $\\beta_{13}$ | -0.04463 | -0.05095    | -0.03854 | -0.01116   |\n",
       "| D_dimer                               | $\\beta_{14}$ | 0.01366  | -0.00419    | 0.02928  | 0.00341    |\n",
       "| platelets                             | $\\beta_{15}$ | -0.00193 | -0.00288    | -0.00121 | -0.00048   |\n",
       "| creatinine                            | $\\beta_{16}$ | 0.01915  | 0.00858     | 0.07258  | 0.00479    |\n",
       "| sodium                                | $\\beta_{17}$ | 0.01286  | 0.00053     | 0.02290  | 0.00322    |\n",
       "| aspartate_aminotransferase            | $\\beta_{18}$ | 0.00067  | 0.00012     | 0.00299  | 0.00017    |\n",
       "| alanine_aminotransferase              | $\\beta_{19}$ | 0.00053  | -0.00349    | 0.00102  | 0.00013    |\n",
       "| white_blood_cell                      | $\\beta_{20}$ | 0.00180  | -0.00853    | 0.01418  | 0.00045    |\n",
       "| interleukin6                          | $\\beta_{21}$ | 0.00001  | -0.00002    | 0.00069  | 0.00000    |\n",
       "| C_reactive_protein                    | $\\beta_{22}$ | 0.01898  | 0.00945     | 0.02663  | 0.00474    |\n",
       "| procalcitonin                         | $\\beta_{23}$ | 0.03190  | 0.01874     | 0.04783  | 0.00798    |\n",
       "| troponin                              | $\\beta_{24}$ | 0.00288  | 0.00097     | 0.02023  | 0.00072    |\n",
       "| length_of_stay                        | $\\beta_{25}$ | 0.03426  | 0.02170     | 0.04632  | 0.00856    |\n",
       "|                                       |              |          |             |          |            |\n",
       "| **Metrics**                           | **Mean**     | **Lo**   | **Hi**      |          |            |\n",
       "| Error (%)                             | 17.72455     | 15.96240 | 18.73737    |          |            |\n",
       "| Efron's $R^2$                         | 0.29478      | 0.26928  | 0.33443     |          |            |"
      ],
      "text/plain": [
       "<models.ResultsWrapper at 0xffff69d03c70>"
      ]
     },
     "execution_count": 18,
     "metadata": {},
     "output_type": "execute_result"
    }
   ],
   "source": [
    "model1 =  \"death ~ age + myocardial_infarction + peripheral_vascular_disease + congestive_heart_disease + chronic_obstructive_pulmonary_disease \\\n",
    "                + all_central_nervous_system_disease + diabetes_mellitus_simple + renal_disease + stroke + seizure + oxygen_saturation + temp_F + mean_arterial_pressure \\\n",
    "                + D_dimer + platelets + creatinine + sodium + aspartate_aminotransferase + alanine_aminotransferase + white_blood_cell \\\n",
    "                + interleukin6 + C_reactive_protein + procalcitonin + troponin + length_of_stay\"\n",
    "result1 = models.bootstrap_logistic_regression(model1, data)\n",
    "models.describe_bootstrap_lgr(result1, sd=5)"
   ]
  },
  {
   "cell_type": "markdown",
   "id": "7c2be2c2-e873-4f84-ade3-538f47a0056f",
   "metadata": {},
   "source": [
    "The error rate is 17.73% and the pseudo $R^2$ is 0.29, which is *okay*, but maybe we can do better. We can evaluate the coefficients as follows:\n",
    "\n",
    "- **age:** For every one year increase in a patients age, the *log odds* of death increases by 0.05061. The coefficient sign is *expected* and is strongly supported by the 95% BCI. \n",
    "\n",
    "- **myocardial_infarction:** When a patient has myocardial infarction, the *log odds* of death decreases by -0.00004. The coefficient sign is *unexpected* and the 95% BCI includes zero. Therefore, we can drop this variable from our model since there is greater than a 50% chance that the coefficient is zero, although the evidence is not strong.\n",
    "\n",
    "- **peripheral_vascular_disease:** When a patient has PVD, the *log odds* of death decreases by -0.00412. This coefficient sign is *expected*, according to results from EDA, and is strongly supported by the 95% BCI. According to domain knowledge, however, the sign is not expected and the variable in general was troublesome for this reason. I included it in the model to also confirm if the coefficient would *actually* be negative. Since it is, we will drop this variable from the model since it does not align with domain knowledge and trends seen in other related variables. \n",
    "\n",
    "- **congestive_heart_disease:** When a patient has congestive heart disease, the *log odds* of death increases by 0.00035. The coefficient sign is *expected* and has mixed support from the data based on the 95% credible interval. \n",
    "\n",
    "- **chronic_obstructive_pulmonary_disease:** When a patient has COPD, the *log odds* of death increases by 0.00034. The coefficient sign is *expected* and has mixed support from the data. \n",
    "\n",
    "- **all_central_nervous_system_disease:** When a patient has a CNS disease, the *log odds* of death increases by 0.00210. The coefficient sign is *expected* and has strong support from the data. \n",
    "\n",
    "- **diabetes_mellitus_simple:** When a patient has diabetes, the *log odds* of death decreases by -0.00023. The coefficient sign is *unexpected* and has mixed support from the data since the 95% BCI includes zero. Therefore, we can drop this variable from our model.\n",
    "\n",
    "- **renal_disease:** When a patient has renal disease, the *log odds* of death increases by 0.00196. The coefficient sign is *expected* and is strongly supported by the 95% BCI. \n",
    "\n",
    "- **stroke:** When a patient has had a stroke, the *log odds* of death increases by 0.00070. The coefficient sign is *expected* and has strong support from the data.\n",
    "\n",
    "- **seizure:** When a patient has had a seizure, the *log odds* of death increase by 0.00019. The coefficient sign is *expected* and has mixed support from the data.\n",
    "\n",
    "- **oxygen_saturation:** When the oxygen saturation increases by one unit, the *log odds* of death decreases by -0.03848. The coefficient sign is *expected* and is strongly supported by the data.\n",
    "\n",
    "- **temp_F:** When the temperature increases by one unit, the *log odds* of death increases by 0.00629. The coefficient sign is *expected* and has mixed support from the data. \n",
    "\n",
    "- **mean_arterial_pressure:** For every one unit increase in MAP, the *log odds* of death decreases by -0.04463. The coefficient sign is *expected* and is strongly supported by the data. *(remember that patients who died from Covid-19 had **low** MAP levels compared to patients who survived)* \n",
    "\n",
    "- **D_dimer:** For every one unit increase in the D-dimer level, the *log odds* of death increases by 0.01366. The coefficient sign is *expected* and has mixed support from the data.\n",
    "\n",
    "- **platelets:** For every one unit increase in the platelet counts, the *log odds* of death decrease by -0.00193. The coefficient sign is *expected* and is strongly supported by the data.\n",
    "\n",
    "- **creatinine:** For every one unit increase in the creatinine level, the *log odds* of death increases by 0.01915. The coefficient sign is *expected* and is strongly supported by the data.\n",
    "\n",
    "- **sodium:** For every one unit increase in the sodium level, the *log odds* of death increases by 0.01286. The coefficient sign is *expected* and is strongly supported by the data.\n",
    "\n",
    "- **aspartate_aminotransferase:** For every one unit increase in the AST level, the *log odds* of death increases by 0.00067. The coefficient sign is *expected* and is strongly supported by the data, based on the 95% BCI.\n",
    "\n",
    "- **alanine_aminotransferase:** For every one unit increase in the ALT level, the *log odds* of death increases by 0.00053. The coefficient sign is *expected* and has mixed support from the data.\n",
    "\n",
    "- **white_blood_cell:** For every one unit increase in the WBC counts, the *log odds* of death increases by 0.00180. The coefficient sign is *expected* and has mixed support from the data.\n",
    "\n",
    "- **interleukin6:** For every one unit increase in the IL-6 level, the *log odds* of death increases by 0.000001 (I checked for this very small value by increasing the significant digits but reverted back since it becomes hard to read the model results with so many digits). The coefficient sign is *expected* and has mixed support from the data.\n",
    "\n",
    "- **C_reactive_protein:** For every one unit increase in the c-reactive protein level, the *log odds* of death increases by 0.01898. The coefficient sign is *expected* and is strongly supported by the data, based on the 95% BCI.\n",
    "\n",
    "- **procalcitonin:** For every one unit increase in the procalcitonin level, the *log odds* of death increases by 0.03190. The coefficient sign is *expected* and is strongly supported by the data.\n",
    "\n",
    "- **troponin:** For every one unit increase in the troponin level, the *log odds* of death increases by 0.00288. The coefficient sign is *expected* and is strongly supported by the data.\n",
    "\n",
    "- **length_of_stay:** For addition day that a patient stays in the hospital for Covid-19, the *log odds* of death increases by 0.03426. The coefficient sign is *expected* and is strongly supported by the data.\n",
    "\n",
    "Before assessing a new model without the variables we indicated we would drop, we can look at the binary confusion matrix as well as the metrics for evaluating classification models."
   ]
  },
  {
   "cell_type": "code",
   "execution_count": 19,
   "id": "0b0c5051-309f-49ec-b687-33a042553f4a",
   "metadata": {},
   "outputs": [],
   "source": [
    "def binary_confusion_matrix(result, metrics = False):\n",
    "    tp = 0; tn = 0; fn = 0; fp = 0\n",
    "    for y, y_hat in zip(result[\"y\"], result[\"y_hat\"]):\n",
    "        if y == 0 and y_hat == 0:\n",
    "            tn += 1\n",
    "        elif y == 0 and y_hat == 1:\n",
    "            fp += 1\n",
    "        elif y == 1 and y_hat == 1:\n",
    "            tp += 1\n",
    "        else:\n",
    "            fn += 1\n",
    "    if metrics is True:\n",
    "        accuracy = (tp + tn) / (tp + fp + fn + tn)\n",
    "        error_rate = (fp + fn) / (tp + fp + fn + tn)\n",
    "        sensitivity = tp/(tp + fn)\n",
    "        false_neg = 1 - sensitivity\n",
    "        specificity = tn/(tn + fp)\n",
    "        false_pos = 1 - specificity\n",
    "        precision = tp/(tp + fp) #positive prediciton value \n",
    "        f1 = (2 * tp) / ((2 * tp) + fp + fn)\n",
    "        return tabulate([[\"Accuracy\", accuracy], [\"Error Rate\", error_rate], [\"Sensitivity\", sensitivity],\n",
    "                         [\"False Negative\", false_neg] ,[\"Specificity\", specificity],[\"False Positive\", false_pos],\n",
    "                         [\"Precision\", precision], [\"F1\", f1]], headers = [\"Metrics\", \"Result\"],tablefmt='html')\n",
    "    else:\n",
    "        return tabulate([[\"Predicted 1\", tp, fp], [\"Predicted 0\", fn, tn]], headers=[\"\", \"Actual 1\", \"Actual 0\"], tablefmt='html')"
   ]
  },
  {
   "cell_type": "code",
   "execution_count": 20,
   "id": "1addfe97-903b-4924-8705-bbcfd85fb52b",
   "metadata": {},
   "outputs": [
    {
     "data": {
      "text/html": [
       "<table>\n",
       "<thead>\n",
       "<tr><th>           </th><th style=\"text-align: right;\">  Actual 1</th><th style=\"text-align: right;\">  Actual 0</th></tr>\n",
       "</thead>\n",
       "<tbody>\n",
       "<tr><td>Predicted 1</td><td style=\"text-align: right;\">       432</td><td style=\"text-align: right;\">       169</td></tr>\n",
       "<tr><td>Predicted 0</td><td style=\"text-align: right;\">       571</td><td style=\"text-align: right;\">      3003</td></tr>\n",
       "</tbody>\n",
       "</table>"
      ],
      "text/plain": [
       "'<table>\\n<thead>\\n<tr><th>           </th><th style=\"text-align: right;\">  Actual 1</th><th style=\"text-align: right;\">  Actual 0</th></tr>\\n</thead>\\n<tbody>\\n<tr><td>Predicted 1</td><td style=\"text-align: right;\">       432</td><td style=\"text-align: right;\">       169</td></tr>\\n<tr><td>Predicted 0</td><td style=\"text-align: right;\">       571</td><td style=\"text-align: right;\">      3003</td></tr>\\n</tbody>\\n</table>'"
      ]
     },
     "execution_count": 20,
     "metadata": {},
     "output_type": "execute_result"
    }
   ],
   "source": [
    "binary_confusion_matrix(result1)"
   ]
  },
  {
   "cell_type": "markdown",
   "id": "c1df6e15-cbc0-4a1d-9523-7c3e61e8fe84",
   "metadata": {},
   "source": [
    "The model seems to classify negative cases pretty efficiently, but has an issue with false negatives. Let's look at the metrics based on these classification counts:"
   ]
  },
  {
   "cell_type": "code",
   "execution_count": 21,
   "id": "2b8dc130-804e-4131-af40-f7d2b022c2f8",
   "metadata": {},
   "outputs": [
    {
     "data": {
      "text/html": [
       "<table>\n",
       "<thead>\n",
       "<tr><th>Metrics       </th><th style=\"text-align: right;\">   Result</th></tr>\n",
       "</thead>\n",
       "<tbody>\n",
       "<tr><td>Accuracy      </td><td style=\"text-align: right;\">0.822754 </td></tr>\n",
       "<tr><td>Error Rate    </td><td style=\"text-align: right;\">0.177246 </td></tr>\n",
       "<tr><td>Sensitivity   </td><td style=\"text-align: right;\">0.430708 </td></tr>\n",
       "<tr><td>False Negative</td><td style=\"text-align: right;\">0.569292 </td></tr>\n",
       "<tr><td>Specificity   </td><td style=\"text-align: right;\">0.946721 </td></tr>\n",
       "<tr><td>False Positive</td><td style=\"text-align: right;\">0.0532787</td></tr>\n",
       "<tr><td>Precision     </td><td style=\"text-align: right;\">0.718802 </td></tr>\n",
       "<tr><td>F1            </td><td style=\"text-align: right;\">0.538653 </td></tr>\n",
       "</tbody>\n",
       "</table>"
      ],
      "text/plain": [
       "'<table>\\n<thead>\\n<tr><th>Metrics       </th><th style=\"text-align: right;\">   Result</th></tr>\\n</thead>\\n<tbody>\\n<tr><td>Accuracy      </td><td style=\"text-align: right;\">0.822754 </td></tr>\\n<tr><td>Error Rate    </td><td style=\"text-align: right;\">0.177246 </td></tr>\\n<tr><td>Sensitivity   </td><td style=\"text-align: right;\">0.430708 </td></tr>\\n<tr><td>False Negative</td><td style=\"text-align: right;\">0.569292 </td></tr>\\n<tr><td>Specificity   </td><td style=\"text-align: right;\">0.946721 </td></tr>\\n<tr><td>False Positive</td><td style=\"text-align: right;\">0.0532787</td></tr>\\n<tr><td>Precision     </td><td style=\"text-align: right;\">0.718802 </td></tr>\\n<tr><td>F1            </td><td style=\"text-align: right;\">0.538653 </td></tr>\\n</tbody>\\n</table>'"
      ]
     },
     "execution_count": 21,
     "metadata": {},
     "output_type": "execute_result"
    }
   ],
   "source": [
    "binary_confusion_matrix(result1, metrics = True)"
   ]
  },
  {
   "cell_type": "markdown",
   "id": "4f3e9bc6-c548-4388-b578-214470e0c0dd",
   "metadata": {},
   "source": [
    "As stated above, the false positive rate is very low, at only 5.32%, but the false negative rate is pretty high, at 56.92%. The precision of the model is relatively good, at 71.88%.\n",
    "\n",
    "Let's try generating a model without the variables that we specified we would drop:"
   ]
  },
  {
   "cell_type": "code",
   "execution_count": 22,
   "id": "ba9e4e92-45c3-4fee-963c-c82eb540dcf5",
   "metadata": {},
   "outputs": [
    {
     "data": {
      "text/html": [
       "<p><strong>Model: death ~ age + congestive_heart_disease + chronic_obstructive_pulmonary_disease + all_central_nervous_system_disease                 + renal_disease + stroke + seizure + temp_F + oxygen_saturation + mean_arterial_pressure                 + D_dimer + platelets + creatinine + sodium + aspartate_aminotransferase + alanine_aminotransferase + white_blood_cell                 + interleukin6 + C_reactive_protein + procalcitonin + troponin + length_of_stay</strong><br/><table>\n",
       "<tbody>\n",
       "<tr><td>                                     </td><td>                     </td><td>                     </td><td><strong>95% BCI</strong</td><td>                   </td><td>                       </td></tr>\n",
       "<tr><td><strong>Coefficients</strong        </td><td>                     </td><td><strong>Mean</strong</td><td><strong>Lo</strong     </td><td><strong>Hi</strong</td><td><strong>P(y=1)</strong</td></tr>\n",
       "<tr><td>                                     </td><td>$\\beta_{0}$          </td><td>0.00002              </td><td>-0.00021                </td><td>0.00017            </td><td>0.50000                </td></tr>\n",
       "<tr><td>age                                  </td><td>$\\beta_{1}$          </td><td>0.05047              </td><td>0.04368                 </td><td>0.05769            </td><td>0.01262                </td></tr>\n",
       "<tr><td>congestive_heart_disease             </td><td>$\\beta_{2}$          </td><td>0.00027              </td><td>-0.00128                </td><td>0.00542            </td><td>0.00007                </td></tr>\n",
       "<tr><td>chronic_obstructive_pulmonary_disease</td><td>$\\beta_{3}$          </td><td>0.00022              </td><td>-0.00108                </td><td>0.00418            </td><td>0.00006                </td></tr>\n",
       "<tr><td>all_central_nervous_system_disease   </td><td>$\\beta_{4}$          </td><td>0.00145              </td><td>0.00081                 </td><td>0.01414            </td><td>0.00036                </td></tr>\n",
       "<tr><td>renal_disease                        </td><td>$\\beta_{5}$          </td><td>0.00124              </td><td>0.00039                 </td><td>0.01210            </td><td>0.00031                </td></tr>\n",
       "<tr><td>stroke                               </td><td>$\\beta_{6}$          </td><td>0.00045              </td><td>0.00020                 </td><td>0.00523            </td><td>0.00011                </td></tr>\n",
       "<tr><td>seizure                              </td><td>$\\beta_{7}$          </td><td>0.00012              </td><td>-0.00035                </td><td>0.00156            </td><td>0.00003                </td></tr>\n",
       "<tr><td>temp_F                               </td><td>$\\beta_{8}$          </td><td>0.00500              </td><td>-0.00613                </td><td>0.02644            </td><td>0.00125                </td></tr>\n",
       "<tr><td>oxygen_saturation                    </td><td>$\\beta_{9}$          </td><td>-0.04188             </td><td>-0.05315                </td><td>-0.03227           </td><td>-0.01047               </td></tr>\n",
       "<tr><td>mean_arterial_pressure               </td><td>$\\beta_{10}$         </td><td>-0.04455             </td><td>-0.04968                </td><td>-0.03884           </td><td>-0.01114               </td></tr>\n",
       "<tr><td>D_dimer                              </td><td>$\\beta_{11}$         </td><td>0.01463              </td><td>-0.00144                </td><td>0.03352            </td><td>0.00366                </td></tr>\n",
       "<tr><td>platelets                            </td><td>$\\beta_{12}$         </td><td>-0.00208             </td><td>-0.00298                </td><td>-0.00112           </td><td>-0.00052               </td></tr>\n",
       "<tr><td>creatinine                           </td><td>$\\beta_{13}$         </td><td>0.01398              </td><td>0.00955                 </td><td>0.07137            </td><td>0.00350                </td></tr>\n",
       "<tr><td>sodium                               </td><td>$\\beta_{14}$         </td><td>0.01608              </td><td>0.00108                 </td><td>0.02187            </td><td>0.00402                </td></tr>\n",
       "<tr><td>aspartate_aminotransferase           </td><td>$\\beta_{15}$         </td><td>0.00078              </td><td>0.00030                 </td><td>0.00284            </td><td>0.00019                </td></tr>\n",
       "<tr><td>alanine_aminotransferase             </td><td>$\\beta_{16}$         </td><td>0.00035              </td><td>-0.00304                </td><td>0.00113            </td><td>0.00009                </td></tr>\n",
       "<tr><td>white_blood_cell                     </td><td>$\\beta_{17}$         </td><td>0.00231              </td><td>-0.01227                </td><td>0.01442            </td><td>0.00058                </td></tr>\n",
       "<tr><td>interleukin6                         </td><td>$\\beta_{18}$         </td><td>0.00000              </td><td>-0.00002                </td><td>0.00064            </td><td>0.00000                </td></tr>\n",
       "<tr><td>C_reactive_protein                   </td><td>$\\beta_{19}$         </td><td>0.01898              </td><td>0.01137                 </td><td>0.02677            </td><td>0.00475                </td></tr>\n",
       "<tr><td>procalcitonin                        </td><td>$\\beta_{20}$         </td><td>0.03148              </td><td>0.02052                 </td><td>0.04454            </td><td>0.00787                </td></tr>\n",
       "<tr><td>troponin                             </td><td>$\\beta_{21}$         </td><td>0.00184              </td><td>0.00128                 </td><td>0.01734            </td><td>0.00046                </td></tr>\n",
       "<tr><td>length_of_stay                       </td><td>$\\beta_{22}$         </td><td>0.03642              </td><td>0.02224                 </td><td>0.04852            </td><td>0.00911                </td></tr>\n",
       "<tr><td>                                     </td><td>                     </td><td>                     </td><td>                        </td><td>                   </td><td>                       </td></tr>\n",
       "<tr><td><strong>Metrics</strong             </td><td><strong>Mean</strong</td><td><strong>Lo</strong  </td><td><strong>Hi</strong     </td><td>                   </td><td>                       </td></tr>\n",
       "<tr><td>Error (%)                            </td><td>17.82036             </td><td>16.06850             </td><td>18.34958                </td><td>                   </td><td>                       </td></tr>\n",
       "<tr><td>Efron&#x27;s $R^2$                        </td><td>0.29409              </td><td>0.26842              </td><td>0.33017                 </td><td>                   </td><td>                       </td></tr>\n",
       "</tbody>\n",
       "</table></p>"
      ],
      "text/latex": [
       "\\textbf{Model: death \\(\\sim\\) age + congestive\\_heart\\_disease + chronic\\_obstructive\\_pulmonary\\_disease + all\\_central\\_nervous\\_system\\_disease                 + renal\\_disease + stroke + seizure + temp\\_F + oxygen\\_saturation + mean\\_arterial\\_pressure                 + D\\_dimer + platelets + creatinine + sodium + aspartate\\_aminotransferase + alanine\\_aminotransferase + white\\_blood\\_cell                 + interleukin6 + C\\_reactive\\_protein + procalcitonin + troponin + length\\_of\\_stay}\n",
       "\n",
       "\\begin{tabular}{llllll}\n",
       "\\toprule\n",
       "                                          &                &               & \\textbf{95\\% BCI} &             &                 \\\\\n",
       " \\textbf{Coefficients}                    &                & \\textbf{Mean} & \\textbf{Lo}      & \\textbf{Hi} & \\textbf{P(y=1)} \\\\\n",
       "                                          & \\(\\beta_{0}\\)  & 0.00002       & -0.00021         & 0.00017     & 0.50000         \\\\\n",
       " age                                      & \\(\\beta_{1}\\)  & 0.05047       & 0.04368          & 0.05769     & 0.01262         \\\\\n",
       " congestive\\_heart\\_disease               & \\(\\beta_{2}\\)  & 0.00027       & -0.00128         & 0.00542     & 0.00007         \\\\\n",
       " chronic\\_obstructive\\_pulmonary\\_disease & \\(\\beta_{3}\\)  & 0.00022       & -0.00108         & 0.00418     & 0.00006         \\\\\n",
       " all\\_central\\_nervous\\_system\\_disease   & \\(\\beta_{4}\\)  & 0.00145       & 0.00081          & 0.01414     & 0.00036         \\\\\n",
       " renal\\_disease                           & \\(\\beta_{5}\\)  & 0.00124       & 0.00039          & 0.01210     & 0.00031         \\\\\n",
       " stroke                                   & \\(\\beta_{6}\\)  & 0.00045       & 0.00020          & 0.00523     & 0.00011         \\\\\n",
       " seizure                                  & \\(\\beta_{7}\\)  & 0.00012       & -0.00035         & 0.00156     & 0.00003         \\\\\n",
       " temp\\_F                                  & \\(\\beta_{8}\\)  & 0.00500       & -0.00613         & 0.02644     & 0.00125         \\\\\n",
       " oxygen\\_saturation                       & \\(\\beta_{9}\\)  & -0.04188      & -0.05315         & -0.03227    & -0.01047        \\\\\n",
       " mean\\_arterial\\_pressure                 & \\(\\beta_{10}\\) & -0.04455      & -0.04968         & -0.03884    & -0.01114        \\\\\n",
       " D\\_dimer                                 & \\(\\beta_{11}\\) & 0.01463       & -0.00144         & 0.03352     & 0.00366         \\\\\n",
       " platelets                                & \\(\\beta_{12}\\) & -0.00208      & -0.00298         & -0.00112    & -0.00052        \\\\\n",
       " creatinine                               & \\(\\beta_{13}\\) & 0.01398       & 0.00955          & 0.07137     & 0.00350         \\\\\n",
       " sodium                                   & \\(\\beta_{14}\\) & 0.01608       & 0.00108          & 0.02187     & 0.00402         \\\\\n",
       " aspartate\\_aminotransferase              & \\(\\beta_{15}\\) & 0.00078       & 0.00030          & 0.00284     & 0.00019         \\\\\n",
       " alanine\\_aminotransferase                & \\(\\beta_{16}\\) & 0.00035       & -0.00304         & 0.00113     & 0.00009         \\\\\n",
       " white\\_blood\\_cell                       & \\(\\beta_{17}\\) & 0.00231       & -0.01227         & 0.01442     & 0.00058         \\\\\n",
       " interleukin6                             & \\(\\beta_{18}\\) & 0.00000       & -0.00002         & 0.00064     & 0.00000         \\\\\n",
       " C\\_reactive\\_protein                     & \\(\\beta_{19}\\) & 0.01898       & 0.01137          & 0.02677     & 0.00475         \\\\\n",
       " procalcitonin                            & \\(\\beta_{20}\\) & 0.03148       & 0.02052          & 0.04454     & 0.00787         \\\\\n",
       " troponin                                 & \\(\\beta_{21}\\) & 0.00184       & 0.00128          & 0.01734     & 0.00046         \\\\\n",
       " length\\_of\\_stay                         & \\(\\beta_{22}\\) & 0.03642       & 0.02224          & 0.04852     & 0.00911         \\\\\n",
       "                                          &                &               &                  &             &                 \\\\\n",
       " \\textbf{Metrics}                         & \\textbf{Mean}  & \\textbf{Lo}   & \\textbf{Hi}      &             &                 \\\\\n",
       " Error (\\%)                                & 17.82036       & 16.06850      & 18.34958         &             &                 \\\\\n",
       " Efron's \\(R^2\\)                          & 0.29409        & 0.26842       & 0.33017          &             &                 \\\\\n",
       "\\bottomrule\n",
       "\\end{tabular}"
      ],
      "text/markdown": [
       "Model: death ~ age + congestive_heart_disease + chronic_obstructive_pulmonary_disease + all_central_nervous_system_disease                 + renal_disease + stroke + seizure + temp_F + oxygen_saturation + mean_arterial_pressure                 + D_dimer + platelets + creatinine + sodium + aspartate_aminotransferase + alanine_aminotransferase + white_blood_cell                 + interleukin6 + C_reactive_protein + procalcitonin + troponin + length_of_stay\n",
       "|---------------------------------------|--------------|----------|-------------|----------|------------|\n",
       "|                                       |              |          | **95% BCI** |          |            |\n",
       "| **Coefficients**                      |              | **Mean** | **Lo**      | **Hi**   | **P(y=1)** |\n",
       "|                                       | $\\beta_{0}$  | 0.00002  | -0.00021    | 0.00017  | 0.50000    |\n",
       "| age                                   | $\\beta_{1}$  | 0.05047  | 0.04368     | 0.05769  | 0.01262    |\n",
       "| congestive_heart_disease              | $\\beta_{2}$  | 0.00027  | -0.00128    | 0.00542  | 0.00007    |\n",
       "| chronic_obstructive_pulmonary_disease | $\\beta_{3}$  | 0.00022  | -0.00108    | 0.00418  | 0.00006    |\n",
       "| all_central_nervous_system_disease    | $\\beta_{4}$  | 0.00145  | 0.00081     | 0.01414  | 0.00036    |\n",
       "| renal_disease                         | $\\beta_{5}$  | 0.00124  | 0.00039     | 0.01210  | 0.00031    |\n",
       "| stroke                                | $\\beta_{6}$  | 0.00045  | 0.00020     | 0.00523  | 0.00011    |\n",
       "| seizure                               | $\\beta_{7}$  | 0.00012  | -0.00035    | 0.00156  | 0.00003    |\n",
       "| temp_F                                | $\\beta_{8}$  | 0.00500  | -0.00613    | 0.02644  | 0.00125    |\n",
       "| oxygen_saturation                     | $\\beta_{9}$  | -0.04188 | -0.05315    | -0.03227 | -0.01047   |\n",
       "| mean_arterial_pressure                | $\\beta_{10}$ | -0.04455 | -0.04968    | -0.03884 | -0.01114   |\n",
       "| D_dimer                               | $\\beta_{11}$ | 0.01463  | -0.00144    | 0.03352  | 0.00366    |\n",
       "| platelets                             | $\\beta_{12}$ | -0.00208 | -0.00298    | -0.00112 | -0.00052   |\n",
       "| creatinine                            | $\\beta_{13}$ | 0.01398  | 0.00955     | 0.07137  | 0.00350    |\n",
       "| sodium                                | $\\beta_{14}$ | 0.01608  | 0.00108     | 0.02187  | 0.00402    |\n",
       "| aspartate_aminotransferase            | $\\beta_{15}$ | 0.00078  | 0.00030     | 0.00284  | 0.00019    |\n",
       "| alanine_aminotransferase              | $\\beta_{16}$ | 0.00035  | -0.00304    | 0.00113  | 0.00009    |\n",
       "| white_blood_cell                      | $\\beta_{17}$ | 0.00231  | -0.01227    | 0.01442  | 0.00058    |\n",
       "| interleukin6                          | $\\beta_{18}$ | 0.00000  | -0.00002    | 0.00064  | 0.00000    |\n",
       "| C_reactive_protein                    | $\\beta_{19}$ | 0.01898  | 0.01137     | 0.02677  | 0.00475    |\n",
       "| procalcitonin                         | $\\beta_{20}$ | 0.03148  | 0.02052     | 0.04454  | 0.00787    |\n",
       "| troponin                              | $\\beta_{21}$ | 0.00184  | 0.00128     | 0.01734  | 0.00046    |\n",
       "| length_of_stay                        | $\\beta_{22}$ | 0.03642  | 0.02224     | 0.04852  | 0.00911    |\n",
       "|                                       |              |          |             |          |            |\n",
       "| **Metrics**                           | **Mean**     | **Lo**   | **Hi**      |          |            |\n",
       "| Error (%)                             | 17.82036     | 16.06850 | 18.34958    |          |            |\n",
       "| Efron's $R^2$                         | 0.29409      | 0.26842  | 0.33017     |          |            |"
      ],
      "text/plain": [
       "<models.ResultsWrapper at 0xffff69c899a0>"
      ]
     },
     "execution_count": 22,
     "metadata": {},
     "output_type": "execute_result"
    }
   ],
   "source": [
    "model2 =  \"death ~ age + congestive_heart_disease + chronic_obstructive_pulmonary_disease + all_central_nervous_system_disease \\\n",
    "                + renal_disease + stroke + seizure + temp_F + oxygen_saturation + mean_arterial_pressure \\\n",
    "                + D_dimer + platelets + creatinine + sodium + aspartate_aminotransferase + alanine_aminotransferase + white_blood_cell \\\n",
    "                + interleukin6 + C_reactive_protein + procalcitonin + troponin + length_of_stay\"\n",
    "result2 = models.bootstrap_logistic_regression(model2, data)\n",
    "models.describe_bootstrap_lgr(result2, sd=5)"
   ]
  },
  {
   "cell_type": "markdown",
   "id": "34941875-76e5-40eb-9f30-db6f4a23d0bd",
   "metadata": {},
   "source": [
    "The error rate is 17.82%, which is a slight improvement from the previous model, and the pseudo $R^2$ is unchanged at 0.29. We can evaluate the coefficients as follows:\n",
    "\n",
    "- **age:** For every one year increase in a patients age, the *log odds* of death increases by 0.05047. The coefficient sign is *expected* and is strongly supported by the 95% BCI. \n",
    "\n",
    "- **congestive_heart_disease:** When a patient has congestive heart disease, the *log odds* of death increases by 0.00027. The coefficient sign is *expected* and has mixed support from the data based on the 95% credible interval. \n",
    "\n",
    "- **chronic_obstructive_pulmonary_disease:** When a patient has COPD, the *log odds* of death increases by 0.00022. The coefficient sign is *expected* and has mixed support from the data. \n",
    "\n",
    "- **all_central_nervous_system_disease:** When a patient has a CNS disease, the *log odds* of death increases by 0.00145. The coefficient sign is *expected* and has strong support from the data.\n",
    "\n",
    "- **renal_disease:** When a patient has renal disease, the *log odds* of death increases by 0.00124. The coefficient sign is *expected* and is strongly supported by the 95% BCI. \n",
    "\n",
    "- **stroke:** When a patient has had a stroke, the *log odds* of death increases by 0.00045. The coefficient sign is *expected* and has strong support from the data.\n",
    "\n",
    "- **seizure:** When a patient has had a seizure, the *log odds* of death increase by 0.00012. The coefficient sign is *expected* and has mixed support from the data.\n",
    "\n",
    "- **temp_F:** When the temperature increases by one unit, the *log odds* of death increases by 0.00500. The coefficient sign is *expected* and has mixed support from the data.\n",
    "\n",
    "- **oxygen_saturation:** When the oxygen saturation increases by one unit, the *log odds* of death decreases by -0.04188. The coefficient sign is *expected* and is strongly supported by the data.\n",
    "\n",
    "- **mean_arterial_pressure:** For every one unit increase in MAP, the *log odds* of death decreases by -0.04455. The coefficient sign is *expected* and is strongly supported by the data. \n",
    "\n",
    "- **D_dimer:** For every one unit increase in the D-dimer level, the *log odds* of death increases by 0.01463. The coefficient sign is *expected* and has mixed support from the data.\n",
    "\n",
    "- **platelets:** For every one unit increase in the platelet counts, the *log odds* of death decrease by -0.00208. The coefficient sign is *expected* and is strongly supported by the data.\n",
    "\n",
    "- **creatinine:** For every one unit increase in the creatinine level, the *log odds* of death increases by 0.01398. The coefficient sign is *expected* and is strongly supported by the data.\n",
    "\n",
    "- **sodium:** For every one unit increase in the sodium level, the *log odds* of death increases by 0.01608. The coefficient sign is *expected* and is strongly supported by the data.\n",
    "\n",
    "- **aspartate_aminotransferase:** For every one unit increase in the AST level, the *log odds* of death increases by 0.00078. The coefficient sign is *expected* and is strongly supported by the data, based on the 95% BCI.\n",
    "\n",
    "- **alanine_aminotransferase:** For every one unit increase in the ALT level, the *log odds* of death increases by 0.00035. The coefficient sign is *expected* and has mixed support from the data.\n",
    "\n",
    "- **white_blood_cell:** For every one unit increase in the WBC counts, the *log odds* of death increases by 0.00231. The coefficient sign is *expected* and has mixed support from the data.\n",
    "\n",
    "- **interleukin6:** For every one unit increase in the IL-6 level, the *log odds* of death increases by 0.000001. The coefficient sign is *expected* and has mixed support from the data.\n",
    "\n",
    "- **C_reactive_protein:** For every one unit increase in the c-reactive protein level, the *log odds* of death increases by 0.01898. The coefficient sign is *expected* and is strongly supported by the data, based on the 95% BCI.\n",
    "\n",
    "- **procalcitonin:** For every one unit increase in the procalcitonin level, the *log odds* of death increases by 0.03148. The coefficient sign is *expected* and is strongly supported by the data.\n",
    "\n",
    "- **troponin:** For every one unit increase in the troponin level, the *log odds* of death increases by 0.00184. The coefficient sign is *expected* and is strongly supported by the data.\n",
    "\n",
    "- **length_of_stay:** For addition day that a patient stays in the hospital for Covid-19, the *log odds* of death increases by 0.03642. The coefficient sign is *expected* and is strongly supported by the data.\n",
    "\n",
    "Overall, none of the coefficient's changed significantly from the previous model. Next, we can look at the binary confusion matrix as well as the metrics for evaluating classification models."
   ]
  },
  {
   "cell_type": "code",
   "execution_count": 23,
   "id": "c70e4296-add9-4019-a7c7-94ccd13afed1",
   "metadata": {},
   "outputs": [
    {
     "data": {
      "text/html": [
       "<table>\n",
       "<thead>\n",
       "<tr><th>           </th><th style=\"text-align: right;\">  Actual 1</th><th style=\"text-align: right;\">  Actual 0</th></tr>\n",
       "</thead>\n",
       "<tbody>\n",
       "<tr><td>Predicted 1</td><td style=\"text-align: right;\">       429</td><td style=\"text-align: right;\">       170</td></tr>\n",
       "<tr><td>Predicted 0</td><td style=\"text-align: right;\">       574</td><td style=\"text-align: right;\">      3002</td></tr>\n",
       "</tbody>\n",
       "</table>"
      ],
      "text/plain": [
       "'<table>\\n<thead>\\n<tr><th>           </th><th style=\"text-align: right;\">  Actual 1</th><th style=\"text-align: right;\">  Actual 0</th></tr>\\n</thead>\\n<tbody>\\n<tr><td>Predicted 1</td><td style=\"text-align: right;\">       429</td><td style=\"text-align: right;\">       170</td></tr>\\n<tr><td>Predicted 0</td><td style=\"text-align: right;\">       574</td><td style=\"text-align: right;\">      3002</td></tr>\\n</tbody>\\n</table>'"
      ]
     },
     "execution_count": 23,
     "metadata": {},
     "output_type": "execute_result"
    }
   ],
   "source": [
    "binary_confusion_matrix(result2)"
   ]
  },
  {
   "cell_type": "markdown",
   "id": "f3d62a8b-04d7-4440-b772-c744a20162cf",
   "metadata": {},
   "source": [
    "Compared to model #1, there isn't a significant difference in the confusion matrix. We correctly classify a few more cases where patients died and misclassify a few more cases where patients survived, so the false positive and false negative rate converged a bit. Let's look at the metrics:"
   ]
  },
  {
   "cell_type": "code",
   "execution_count": 24,
   "id": "47c75aa9-7478-4465-a0bc-35ab7ff5e19c",
   "metadata": {},
   "outputs": [
    {
     "data": {
      "text/html": [
       "<table>\n",
       "<thead>\n",
       "<tr><th>Metrics       </th><th style=\"text-align: right;\">   Result</th></tr>\n",
       "</thead>\n",
       "<tbody>\n",
       "<tr><td>Accuracy      </td><td style=\"text-align: right;\">0.821796 </td></tr>\n",
       "<tr><td>Error Rate    </td><td style=\"text-align: right;\">0.178204 </td></tr>\n",
       "<tr><td>Sensitivity   </td><td style=\"text-align: right;\">0.427717 </td></tr>\n",
       "<tr><td>False Negative</td><td style=\"text-align: right;\">0.572283 </td></tr>\n",
       "<tr><td>Specificity   </td><td style=\"text-align: right;\">0.946406 </td></tr>\n",
       "<tr><td>False Positive</td><td style=\"text-align: right;\">0.0535939</td></tr>\n",
       "<tr><td>Precision     </td><td style=\"text-align: right;\">0.716194 </td></tr>\n",
       "<tr><td>F1            </td><td style=\"text-align: right;\">0.535581 </td></tr>\n",
       "</tbody>\n",
       "</table>"
      ],
      "text/plain": [
       "'<table>\\n<thead>\\n<tr><th>Metrics       </th><th style=\"text-align: right;\">   Result</th></tr>\\n</thead>\\n<tbody>\\n<tr><td>Accuracy      </td><td style=\"text-align: right;\">0.821796 </td></tr>\\n<tr><td>Error Rate    </td><td style=\"text-align: right;\">0.178204 </td></tr>\\n<tr><td>Sensitivity   </td><td style=\"text-align: right;\">0.427717 </td></tr>\\n<tr><td>False Negative</td><td style=\"text-align: right;\">0.572283 </td></tr>\\n<tr><td>Specificity   </td><td style=\"text-align: right;\">0.946406 </td></tr>\\n<tr><td>False Positive</td><td style=\"text-align: right;\">0.0535939</td></tr>\\n<tr><td>Precision     </td><td style=\"text-align: right;\">0.716194 </td></tr>\\n<tr><td>F1            </td><td style=\"text-align: right;\">0.535581 </td></tr>\\n</tbody>\\n</table>'"
      ]
     },
     "execution_count": 24,
     "metadata": {},
     "output_type": "execute_result"
    }
   ],
   "source": [
    "binary_confusion_matrix(result2, metrics = True)"
   ]
  },
  {
   "cell_type": "markdown",
   "id": "8a015aa8-f92f-47b9-93d4-44cbe9be827f",
   "metadata": {},
   "source": [
    "The accuracy increased slightly, which is expected since the error rate decreased. The false negative rate is unchanged at 0.57 and the false positive rate increased from 0.0532 to 0.0536, which is negligible. The precision decreased from 0.719 to about 0.716, which again, is a bit negligible. The model seems a bit better after dropping the variables but it is not significant.\n",
    "\n",
    "Let's try mean centering all of the numerical variables to see if this improves the sensitivity of the model, in order to reduce instances of false negatives."
   ]
  },
  {
   "cell_type": "code",
   "execution_count": 25,
   "id": "53e3d938-d07b-4564-b2dd-f5d9653ddbbf",
   "metadata": {},
   "outputs": [],
   "source": [
    "def mean_center( df, variable):\n",
    "    x_bar = df[ variable].mean()\n",
    "    scaled_variable = df[ variable] - x_bar\n",
    "    df[ variable + \"_cen\"] = scaled_variable"
   ]
  },
  {
   "cell_type": "code",
   "execution_count": 26,
   "id": "a1ac9a47-7a7c-42ab-8bdc-6fc62fe2791a",
   "metadata": {},
   "outputs": [],
   "source": [
    "var_to_center = [\"age\", \"oxygen_saturation\", \"mean_arterial_pressure\", \"D_dimer\", \"platelets\", \"creatinine\", \"sodium\", \n",
    "                 \"aspartate_aminotransferase\", \"alanine_aminotransferase\", \"white_blood_cell\", \"interleukin6\", \"C_reactive_protein\", \n",
    "                 \"procalcitonin\", \"troponin\", \"length_of_stay\"]\n",
    "\n",
    "for var in var_to_center:\n",
    "    mean_center(data, var)"
   ]
  },
  {
   "cell_type": "code",
   "execution_count": 27,
   "id": "fbfeb58b-6f3c-4892-872b-917a42c7b3ed",
   "metadata": {},
   "outputs": [
    {
     "data": {
      "text/html": [
       "<div>\n",
       "<style scoped>\n",
       "    .dataframe tbody tr th:only-of-type {\n",
       "        vertical-align: middle;\n",
       "    }\n",
       "\n",
       "    .dataframe tbody tr th {\n",
       "        vertical-align: top;\n",
       "    }\n",
       "\n",
       "    .dataframe thead th {\n",
       "        text-align: right;\n",
       "    }\n",
       "</style>\n",
       "<table border=\"1\" class=\"dataframe\">\n",
       "  <thead>\n",
       "    <tr style=\"text-align: right;\">\n",
       "      <th></th>\n",
       "      <th>length_of_stay</th>\n",
       "      <th>age</th>\n",
       "      <th>death</th>\n",
       "      <th>severity</th>\n",
       "      <th>black</th>\n",
       "      <th>white</th>\n",
       "      <th>asian</th>\n",
       "      <th>latino</th>\n",
       "      <th>myocardial_infarction</th>\n",
       "      <th>peripheral_vascular_disease</th>\n",
       "      <th>...</th>\n",
       "      <th>creatinine_cen</th>\n",
       "      <th>sodium_cen</th>\n",
       "      <th>aspartate_aminotransferase_cen</th>\n",
       "      <th>alanine_aminotransferase_cen</th>\n",
       "      <th>white_blood_cell_cen</th>\n",
       "      <th>interleukin6_cen</th>\n",
       "      <th>C_reactive_protein_cen</th>\n",
       "      <th>procalcitonin_cen</th>\n",
       "      <th>troponin_cen</th>\n",
       "      <th>length_of_stay_cen</th>\n",
       "    </tr>\n",
       "  </thead>\n",
       "  <tbody>\n",
       "    <tr>\n",
       "      <th>0</th>\n",
       "      <td>1</td>\n",
       "      <td>89</td>\n",
       "      <td>0</td>\n",
       "      <td>3</td>\n",
       "      <td>0</td>\n",
       "      <td>0</td>\n",
       "      <td>0</td>\n",
       "      <td>0</td>\n",
       "      <td>0</td>\n",
       "      <td>0</td>\n",
       "      <td>...</td>\n",
       "      <td>-1.2882</td>\n",
       "      <td>-3.0767</td>\n",
       "      <td>-38.5925</td>\n",
       "      <td>-30.8902</td>\n",
       "      <td>-3.1687</td>\n",
       "      <td>-123.6834</td>\n",
       "      <td>-10.3102</td>\n",
       "      <td>-1.6078</td>\n",
       "      <td>-0.0429</td>\n",
       "      <td>-6.0925</td>\n",
       "    </tr>\n",
       "    <tr>\n",
       "      <th>1</th>\n",
       "      <td>2</td>\n",
       "      <td>67</td>\n",
       "      <td>1</td>\n",
       "      <td>7</td>\n",
       "      <td>0</td>\n",
       "      <td>1</td>\n",
       "      <td>0</td>\n",
       "      <td>0</td>\n",
       "      <td>0</td>\n",
       "      <td>1</td>\n",
       "      <td>...</td>\n",
       "      <td>7.2118</td>\n",
       "      <td>-1.0767</td>\n",
       "      <td>20.4075</td>\n",
       "      <td>-12.8902</td>\n",
       "      <td>3.4313</td>\n",
       "      <td>-123.6834</td>\n",
       "      <td>4.0899</td>\n",
       "      <td>-1.0078</td>\n",
       "      <td>1.1471</td>\n",
       "      <td>-5.0925</td>\n",
       "    </tr>\n",
       "    <tr>\n",
       "      <th>2</th>\n",
       "      <td>2</td>\n",
       "      <td>94</td>\n",
       "      <td>1</td>\n",
       "      <td>7</td>\n",
       "      <td>0</td>\n",
       "      <td>1</td>\n",
       "      <td>0</td>\n",
       "      <td>0</td>\n",
       "      <td>0</td>\n",
       "      <td>1</td>\n",
       "      <td>...</td>\n",
       "      <td>1.4718</td>\n",
       "      <td>1.9233</td>\n",
       "      <td>-32.5925</td>\n",
       "      <td>-26.8902</td>\n",
       "      <td>-2.6687</td>\n",
       "      <td>200.4166</td>\n",
       "      <td>23.0899</td>\n",
       "      <td>-0.4078</td>\n",
       "      <td>-0.0529</td>\n",
       "      <td>-5.0925</td>\n",
       "    </tr>\n",
       "    <tr>\n",
       "      <th>3</th>\n",
       "      <td>15</td>\n",
       "      <td>72</td>\n",
       "      <td>0</td>\n",
       "      <td>9</td>\n",
       "      <td>1</td>\n",
       "      <td>0</td>\n",
       "      <td>0</td>\n",
       "      <td>0</td>\n",
       "      <td>1</td>\n",
       "      <td>0</td>\n",
       "      <td>...</td>\n",
       "      <td>6.3118</td>\n",
       "      <td>-6.0767</td>\n",
       "      <td>-20.5925</td>\n",
       "      <td>-27.8902</td>\n",
       "      <td>-5.0687</td>\n",
       "      <td>-123.6834</td>\n",
       "      <td>7.5899</td>\n",
       "      <td>5.6922</td>\n",
       "      <td>-0.0029</td>\n",
       "      <td>7.9075</td>\n",
       "    </tr>\n",
       "    <tr>\n",
       "      <th>4</th>\n",
       "      <td>9</td>\n",
       "      <td>71</td>\n",
       "      <td>0</td>\n",
       "      <td>7</td>\n",
       "      <td>1</td>\n",
       "      <td>0</td>\n",
       "      <td>0</td>\n",
       "      <td>0</td>\n",
       "      <td>0</td>\n",
       "      <td>0</td>\n",
       "      <td>...</td>\n",
       "      <td>0.6118</td>\n",
       "      <td>10.9233</td>\n",
       "      <td>-26.5925</td>\n",
       "      <td>-16.8902</td>\n",
       "      <td>-3.0687</td>\n",
       "      <td>-84.2834</td>\n",
       "      <td>0.7899</td>\n",
       "      <td>-1.6078</td>\n",
       "      <td>-0.0429</td>\n",
       "      <td>1.9075</td>\n",
       "    </tr>\n",
       "  </tbody>\n",
       "</table>\n",
       "<p>5 rows × 55 columns</p>\n",
       "</div>"
      ],
      "text/latex": [
       "\\begin{longtable}{lrrrrrrrrrrrrrrrrrrrrrrrrrrrrrrrrrrrrrrrlrrrrrrrrrrrrrrr}\n",
       "\\toprule\n",
       "{} &  length\\_of\\_stay &  age &  death &  severity &  black &  white &  asian &  latino &  myocardial\\_infarction &  peripheral\\_vascular\\_disease &  congestive\\_heart\\_disease &  cardiovascular\\_disease &  dementia &  chronic\\_obstructive\\_pulmonary\\_disease &  diabetes\\_mellitus\\_complicated &  diabetes\\_mellitus\\_simple &  renal\\_disease &  all\\_central\\_nervous\\_system\\_disease &  pure\\_central\\_nervous\\_system\\_disease &  stroke &  seizure &    oxygen\\_saturation &          temperature &  mean\\_arterial\\_pressure &              D\\_dimer &            platelets &  international\\_normalized\\_ratio &  blood\\_urea\\_nitrogen &           creatinine &               sodium &  aspartate\\_aminotransferase &  alanine\\_aminotransferase &     white\\_blood\\_cell &          lymphocytes &         interleukin6 &   C\\_reactive\\_protein &        procalcitonin &             troponin &               temp\\_F &   race &              age\\_cen &  oxygen\\_saturation\\_cen &  mean\\_arterial\\_pressure\\_cen &          D\\_dimer\\_cen &        platelets\\_cen &       creatinine\\_cen &           sodium\\_cen &  aspartate\\_aminotransferase\\_cen &  alanine\\_aminotransferase\\_cen &  white\\_blood\\_cell\\_cen &     interleukin6\\_cen &  C\\_reactive\\_protein\\_cen &    procalcitonin\\_cen &         troponin\\_cen &   length\\_of\\_stay\\_cen \\\\\n",
       "\\midrule\n",
       "\\endfirsthead\n",
       "\n",
       "\\toprule\n",
       "{} &  length\\_of\\_stay &  age &  death &  severity &  black &  white &  asian &  latino &  myocardial\\_infarction &  peripheral\\_vascular\\_disease &  congestive\\_heart\\_disease &  cardiovascular\\_disease &  dementia &  chronic\\_obstructive\\_pulmonary\\_disease &  diabetes\\_mellitus\\_complicated &  diabetes\\_mellitus\\_simple &  renal\\_disease &  all\\_central\\_nervous\\_system\\_disease &  pure\\_central\\_nervous\\_system\\_disease &  stroke &  seizure &    oxygen\\_saturation &          temperature &  mean\\_arterial\\_pressure &              D\\_dimer &            platelets &  international\\_normalized\\_ratio &  blood\\_urea\\_nitrogen &           creatinine &               sodium &  aspartate\\_aminotransferase &  alanine\\_aminotransferase &     white\\_blood\\_cell &          lymphocytes &         interleukin6 &   C\\_reactive\\_protein &        procalcitonin &             troponin &               temp\\_F &   race &              age\\_cen &  oxygen\\_saturation\\_cen &  mean\\_arterial\\_pressure\\_cen &          D\\_dimer\\_cen &        platelets\\_cen &       creatinine\\_cen &           sodium\\_cen &  aspartate\\_aminotransferase\\_cen &  alanine\\_aminotransferase\\_cen &  white\\_blood\\_cell\\_cen &     interleukin6\\_cen &  C\\_reactive\\_protein\\_cen &    procalcitonin\\_cen &         troponin\\_cen &   length\\_of\\_stay\\_cen \\\\\n",
       "\\midrule\n",
       "\\endhead\n",
       "\\midrule\n",
       "\\multicolumn{56}{r}{{Continued on next page}} \\\\\n",
       "\\midrule\n",
       "\\endfoot\n",
       "\n",
       "\\bottomrule\n",
       "\\endlastfoot\n",
       "0 &               1 &   89 &      0 &         3 &      0 &      0 &      0 &       0 &                      0 &                            0 &                         0 &                       0 &         0 &                                      0 &                              0 &                         0 &              0 &                                   0 &                                    0 &       0 &        0 &              95.0000 &              36.8889 &                102.6667 &               0.6300 &             205.0000 &                          1.1000 &              16.0000 &               0.7000 &             135.0000 &                     26.0000 &                   14.0000 &               5.6000 &               1.4000 &               0.0000 &               0.4999 &               0.0000 &               0.0100 &              98.4000 &  black &              25.2345 &                 2.2366 &                     16.9800 &              -2.7211 &             -30.3198 &              -1.2882 &              -3.0767 &                        -38.5925 &                      -30.8902 &               -3.1687 &            -123.6834 &                -10.3102 &              -1.6078 &              -0.0429 &              -6.0925 \\\\\n",
       "1 &               2 &   67 &      1 &         7 &      0 &      1 &      0 &       0 &                      0 &                            1 &                         0 &                       0 &         0 &                                      0 &                              0 &                         0 &              0 &                                   0 &                                    0 &       0 &        0 &              89.0000 &              36.3333 &                 86.0000 &               2.8600 &             254.0000 &                          1.4000 &             206.0000 &               9.2000 &             137.0000 &                     85.0000 &                   32.0000 &              12.2000 &               0.3000 &               0.0000 &              14.9000 &               0.6000 &               1.2000 &              97.4000 &  white &               3.2345 &                -3.7634 &                      0.3134 &              -0.4911 &              18.6802 &               7.2118 &              -1.0767 &                         20.4075 &                      -12.8902 &                3.4313 &            -123.6834 &                  4.0899 &              -1.0078 &               1.1471 &              -5.0925 \\\\\n",
       "2 &               2 &   94 &      1 &         7 &      0 &      1 &      0 &       0 &                      0 &                            1 &                         1 &                       1 &         1 &                                      1 &                              0 &                         0 &              1 &                                   0 &                                    0 &       0 &        0 &              99.0000 &              39.2222 &                 67.3333 &               2.7800 &             137.0000 &                          1.0000 &              85.0000 &               3.4600 &             140.0000 &                     32.0000 &                   18.0000 &               6.1000 &               0.5000 &             324.1000 &              33.9000 &               1.2000 &               0.0000 &             102.6000 &  white &              30.2345 &                 6.2366 &                    -18.3533 &              -0.5711 &             -98.3198 &               1.4718 &               1.9233 &                        -32.5925 &                      -26.8902 &               -2.6687 &             200.4166 &                 23.0899 &              -0.4078 &              -0.0529 &              -5.0925 \\\\\n",
       "3 &              15 &   72 &      0 &         9 &      1 &      0 &      0 &       0 &                      1 &                            0 &                         0 &                       0 &         1 &                                      0 &                              0 &                         1 &              0 &                                   1 &                                    1 &       0 &        0 &              86.0000 &              38.8889 &                102.6667 &               3.0200 &             223.0000 &                          1.3000 &               0.0000 &               8.3000 &             132.0000 &                     44.0000 &                   17.0000 &               3.7000 &               0.5000 &               0.0000 &              18.4000 &               7.3000 &               0.0500 &             102.0000 &  black &               8.2345 &                -6.7634 &                     16.9800 &              -0.3311 &             -12.3198 &               6.3118 &              -6.0767 &                        -20.5925 &                      -27.8902 &               -5.0687 &            -123.6834 &                  7.5899 &               5.6922 &              -0.0029 &               7.9075 \\\\\n",
       "4 &               9 &   71 &      0 &         7 &      1 &      0 &      0 &       0 &                      0 &                            0 &                         0 &                       0 &         0 &                                      0 &                              0 &                         0 &              0 &                                   0 &                                    0 &       0 &        0 &              93.0000 &              38.0556 &                104.3333 &               1.6500 &             125.0000 &                          1.0000 &               0.0000 &               2.6000 &             149.0000 &                     38.0000 &                   28.0000 &               5.7000 &               1.4000 &              39.4000 &              11.6000 &               0.0000 &               0.0100 &             100.5000 &  black &               7.2345 &                 0.2366 &                     18.6467 &              -1.7011 &            -110.3198 &               0.6118 &              10.9233 &                        -26.5925 &                      -16.8902 &               -3.0687 &             -84.2834 &                  0.7899 &              -1.6078 &              -0.0429 &               1.9075 \\\\\n",
       "\\end{longtable}\n"
      ],
      "text/plain": [
       "   length_of_stay  age  death  severity  black  white  asian  latino  \\\n",
       "0               1   89      0         3      0      0      0       0   \n",
       "1               2   67      1         7      0      1      0       0   \n",
       "2               2   94      1         7      0      1      0       0   \n",
       "3              15   72      0         9      1      0      0       0   \n",
       "4               9   71      0         7      1      0      0       0   \n",
       "\n",
       "   myocardial_infarction  peripheral_vascular_disease  ...  \\\n",
       "0                      0                            0  ...   \n",
       "1                      0                            1  ...   \n",
       "2                      0                            1  ...   \n",
       "3                      1                            0  ...   \n",
       "4                      0                            0  ...   \n",
       "\n",
       "        creatinine_cen           sodium_cen  aspartate_aminotransferase_cen  \\\n",
       "0              -1.2882              -3.0767                        -38.5925   \n",
       "1               7.2118              -1.0767                         20.4075   \n",
       "2               1.4718               1.9233                        -32.5925   \n",
       "3               6.3118              -6.0767                        -20.5925   \n",
       "4               0.6118              10.9233                        -26.5925   \n",
       "\n",
       "   alanine_aminotransferase_cen  white_blood_cell_cen     interleukin6_cen  \\\n",
       "0                      -30.8902               -3.1687            -123.6834   \n",
       "1                      -12.8902                3.4313            -123.6834   \n",
       "2                      -26.8902               -2.6687             200.4166   \n",
       "3                      -27.8902               -5.0687            -123.6834   \n",
       "4                      -16.8902               -3.0687             -84.2834   \n",
       "\n",
       "   C_reactive_protein_cen    procalcitonin_cen         troponin_cen  \\\n",
       "0                -10.3102              -1.6078              -0.0429   \n",
       "1                  4.0899              -1.0078               1.1471   \n",
       "2                 23.0899              -0.4078              -0.0529   \n",
       "3                  7.5899               5.6922              -0.0029   \n",
       "4                  0.7899              -1.6078              -0.0429   \n",
       "\n",
       "    length_of_stay_cen  \n",
       "0              -6.0925  \n",
       "1              -5.0925  \n",
       "2              -5.0925  \n",
       "3               7.9075  \n",
       "4               1.9075  \n",
       "\n",
       "[5 rows x 55 columns]"
      ]
     },
     "execution_count": 27,
     "metadata": {},
     "output_type": "execute_result"
    }
   ],
   "source": [
    "data.head()"
   ]
  },
  {
   "cell_type": "markdown",
   "id": "143a91e9-ee20-4fa9-a6da-f5d774189aee",
   "metadata": {},
   "source": [
    "Let's try using this these mean centered numerical variables in the model to see if the error rate decreases and the specificity increases."
   ]
  },
  {
   "cell_type": "code",
   "execution_count": 28,
   "id": "10940a7f-8686-47ad-8290-a22580ac2fe5",
   "metadata": {},
   "outputs": [
    {
     "data": {
      "text/html": [
       "<p><strong>Model: death ~ age_cen + congestive_heart_disease + chronic_obstructive_pulmonary_disease + all_central_nervous_system_disease                 + renal_disease + stroke + seizure + oxygen_saturation_cen + mean_arterial_pressure_cen                 + D_dimer_cen + platelets_cen + creatinine_cen + sodium_cen + aspartate_aminotransferase_cen + alanine_aminotransferase_cen + white_blood_cell_cen                 + interleukin6_cen + C_reactive_protein_cen + procalcitonin_cen + troponin_cen + length_of_stay_cen</strong><br/><table>\n",
       "<tbody>\n",
       "<tr><td>                                     </td><td>                     </td><td>                     </td><td><strong>95% BCI</strong</td><td>                   </td><td>                       </td></tr>\n",
       "<tr><td><strong>Coefficients</strong        </td><td>                     </td><td><strong>Mean</strong</td><td><strong>Lo</strong     </td><td><strong>Hi</strong</td><td><strong>P(y=1)</strong</td></tr>\n",
       "<tr><td>                                     </td><td>$\\beta_{0}$          </td><td>-0.56183             </td><td>-1.55144                </td><td>-0.07694           </td><td>0.36312                </td></tr>\n",
       "<tr><td>age_cen                              </td><td>$\\beta_{1}$          </td><td>0.02200              </td><td>0.02157                 </td><td>0.05744            </td><td>0.00550                </td></tr>\n",
       "<tr><td>congestive_heart_disease             </td><td>$\\beta_{2}$          </td><td>-0.06140             </td><td>-0.18604                </td><td>-0.00871           </td><td>-0.01535               </td></tr>\n",
       "<tr><td>chronic_obstructive_pulmonary_disease</td><td>$\\beta_{3}$          </td><td>-0.02926             </td><td>-0.09863                </td><td>-0.00393           </td><td>-0.00731               </td></tr>\n",
       "<tr><td>all_central_nervous_system_disease   </td><td>$\\beta_{4}$          </td><td>-0.05668             </td><td>-0.16226                </td><td>-0.00824           </td><td>-0.01417               </td></tr>\n",
       "<tr><td>renal_disease                        </td><td>$\\beta_{5}$          </td><td>-0.08513             </td><td>-0.22847                </td><td>-0.01211           </td><td>-0.02128               </td></tr>\n",
       "<tr><td>stroke                               </td><td>$\\beta_{6}$          </td><td>-0.00172             </td><td>-0.00715                </td><td>0.02724            </td><td>-0.00043               </td></tr>\n",
       "<tr><td>seizure                              </td><td>$\\beta_{7}$          </td><td>-0.00360             </td><td>-0.01874                </td><td>-0.00011           </td><td>-0.00090               </td></tr>\n",
       "<tr><td>oxygen_saturation_cen                </td><td>$\\beta_{8}$          </td><td>-0.02025             </td><td>-0.07546                </td><td>-0.02115           </td><td>-0.00506               </td></tr>\n",
       "<tr><td>mean_arterial_pressure_cen           </td><td>$\\beta_{9}$          </td><td>-0.03464             </td><td>-0.05400                </td><td>-0.02899           </td><td>-0.00866               </td></tr>\n",
       "<tr><td>D_dimer_cen                          </td><td>$\\beta_{10}$         </td><td>0.01281              </td><td>-0.02149                </td><td>0.05507            </td><td>0.00320                </td></tr>\n",
       "<tr><td>platelets_cen                        </td><td>$\\beta_{11}$         </td><td>-0.00124             </td><td>-0.00296                </td><td>-0.00071           </td><td>-0.00031               </td></tr>\n",
       "<tr><td>creatinine_cen                       </td><td>$\\beta_{12}$         </td><td>0.08011              </td><td>0.00200                 </td><td>0.17887            </td><td>0.02003                </td></tr>\n",
       "<tr><td>sodium_cen                           </td><td>$\\beta_{13}$         </td><td>-0.01353             </td><td>-0.02345                </td><td>0.03694            </td><td>-0.00338               </td></tr>\n",
       "<tr><td>aspartate_aminotransferase_cen       </td><td>$\\beta_{14}$         </td><td>-0.00022             </td><td>-0.00187                </td><td>0.00258            </td><td>-0.00005               </td></tr>\n",
       "<tr><td>alanine_aminotransferase_cen         </td><td>$\\beta_{15}$         </td><td>0.00134              </td><td>-0.00327                </td><td>0.00445            </td><td>0.00034                </td></tr>\n",
       "<tr><td>white_blood_cell_cen                 </td><td>$\\beta_{16}$         </td><td>-0.00503             </td><td>-0.02759                </td><td>0.04182            </td><td>-0.00126               </td></tr>\n",
       "<tr><td>interleukin6_cen                     </td><td>$\\beta_{17}$         </td><td>-0.00001             </td><td>-0.00003                </td><td>0.00098            </td><td>-0.00000               </td></tr>\n",
       "<tr><td>C_reactive_protein_cen               </td><td>$\\beta_{18}$         </td><td>0.02693              </td><td>-0.01453                </td><td>0.02725            </td><td>0.00673                </td></tr>\n",
       "<tr><td>procalcitonin_cen                    </td><td>$\\beta_{19}$         </td><td>0.11153              </td><td>0.01340                 </td><td>0.21124            </td><td>0.02788                </td></tr>\n",
       "<tr><td>troponin_cen                         </td><td>$\\beta_{20}$         </td><td>0.01735              </td><td>0.00193                 </td><td>0.09202            </td><td>0.00434                </td></tr>\n",
       "<tr><td>length_of_stay_cen                   </td><td>$\\beta_{21}$         </td><td>0.00176              </td><td>-0.00946                </td><td>0.05530            </td><td>0.00044                </td></tr>\n",
       "<tr><td>                                     </td><td>                     </td><td>                     </td><td>                        </td><td>                   </td><td>                       </td></tr>\n",
       "<tr><td><strong>Metrics</strong             </td><td><strong>Mean</strong</td><td><strong>Lo</strong  </td><td><strong>Hi</strong     </td><td>                   </td><td>                       </td></tr>\n",
       "<tr><td>Error (%)                            </td><td>19.25749             </td><td>17.03341             </td><td>27.59389                </td><td>                   </td><td>                       </td></tr>\n",
       "<tr><td>Efron&#x27;s $R^2$                        </td><td>0.15514              </td><td>-0.05117             </td><td>0.31499                 </td><td>                   </td><td>                       </td></tr>\n",
       "</tbody>\n",
       "</table></p>"
      ],
      "text/latex": [
       "\\textbf{Model: death \\(\\sim\\) age\\_cen + congestive\\_heart\\_disease + chronic\\_obstructive\\_pulmonary\\_disease + all\\_central\\_nervous\\_system\\_disease                 + renal\\_disease + stroke + seizure + oxygen\\_saturation\\_cen + mean\\_arterial\\_pressure\\_cen                 + D\\_dimer\\_cen + platelets\\_cen + creatinine\\_cen + sodium\\_cen + aspartate\\_aminotransferase\\_cen + alanine\\_aminotransferase\\_cen + white\\_blood\\_cell\\_cen                 + interleukin6\\_cen + C\\_reactive\\_protein\\_cen + procalcitonin\\_cen + troponin\\_cen + length\\_of\\_stay\\_cen}\n",
       "\n",
       "\\begin{tabular}{llllll}\n",
       "\\toprule\n",
       "                                          &                &               & \\textbf{95\\% BCI} &             &                 \\\\\n",
       " \\textbf{Coefficients}                    &                & \\textbf{Mean} & \\textbf{Lo}      & \\textbf{Hi} & \\textbf{P(y=1)} \\\\\n",
       "                                          & \\(\\beta_{0}\\)  & -0.56183      & -1.55144         & -0.07694    & 0.36312         \\\\\n",
       " age\\_cen                                 & \\(\\beta_{1}\\)  & 0.02200       & 0.02157          & 0.05744     & 0.00550         \\\\\n",
       " congestive\\_heart\\_disease               & \\(\\beta_{2}\\)  & -0.06140      & -0.18604         & -0.00871    & -0.01535        \\\\\n",
       " chronic\\_obstructive\\_pulmonary\\_disease & \\(\\beta_{3}\\)  & -0.02926      & -0.09863         & -0.00393    & -0.00731        \\\\\n",
       " all\\_central\\_nervous\\_system\\_disease   & \\(\\beta_{4}\\)  & -0.05668      & -0.16226         & -0.00824    & -0.01417        \\\\\n",
       " renal\\_disease                           & \\(\\beta_{5}\\)  & -0.08513      & -0.22847         & -0.01211    & -0.02128        \\\\\n",
       " stroke                                   & \\(\\beta_{6}\\)  & -0.00172      & -0.00715         & 0.02724     & -0.00043        \\\\\n",
       " seizure                                  & \\(\\beta_{7}\\)  & -0.00360      & -0.01874         & -0.00011    & -0.00090        \\\\\n",
       " oxygen\\_saturation\\_cen                  & \\(\\beta_{8}\\)  & -0.02025      & -0.07546         & -0.02115    & -0.00506        \\\\\n",
       " mean\\_arterial\\_pressure\\_cen            & \\(\\beta_{9}\\)  & -0.03464      & -0.05400         & -0.02899    & -0.00866        \\\\\n",
       " D\\_dimer\\_cen                            & \\(\\beta_{10}\\) & 0.01281       & -0.02149         & 0.05507     & 0.00320         \\\\\n",
       " platelets\\_cen                           & \\(\\beta_{11}\\) & -0.00124      & -0.00296         & -0.00071    & -0.00031        \\\\\n",
       " creatinine\\_cen                          & \\(\\beta_{12}\\) & 0.08011       & 0.00200          & 0.17887     & 0.02003         \\\\\n",
       " sodium\\_cen                              & \\(\\beta_{13}\\) & -0.01353      & -0.02345         & 0.03694     & -0.00338        \\\\\n",
       " aspartate\\_aminotransferase\\_cen         & \\(\\beta_{14}\\) & -0.00022      & -0.00187         & 0.00258     & -0.00005        \\\\\n",
       " alanine\\_aminotransferase\\_cen           & \\(\\beta_{15}\\) & 0.00134       & -0.00327         & 0.00445     & 0.00034         \\\\\n",
       " white\\_blood\\_cell\\_cen                  & \\(\\beta_{16}\\) & -0.00503      & -0.02759         & 0.04182     & -0.00126        \\\\\n",
       " interleukin6\\_cen                        & \\(\\beta_{17}\\) & -0.00001      & -0.00003         & 0.00098     & -0.00000        \\\\\n",
       " C\\_reactive\\_protein\\_cen                & \\(\\beta_{18}\\) & 0.02693       & -0.01453         & 0.02725     & 0.00673         \\\\\n",
       " procalcitonin\\_cen                       & \\(\\beta_{19}\\) & 0.11153       & 0.01340          & 0.21124     & 0.02788         \\\\\n",
       " troponin\\_cen                            & \\(\\beta_{20}\\) & 0.01735       & 0.00193          & 0.09202     & 0.00434         \\\\\n",
       " length\\_of\\_stay\\_cen                    & \\(\\beta_{21}\\) & 0.00176       & -0.00946         & 0.05530     & 0.00044         \\\\\n",
       "                                          &                &               &                  &             &                 \\\\\n",
       " \\textbf{Metrics}                         & \\textbf{Mean}  & \\textbf{Lo}   & \\textbf{Hi}      &             &                 \\\\\n",
       " Error (\\%)                                & 19.25749       & 17.03341      & 27.59389         &             &                 \\\\\n",
       " Efron's \\(R^2\\)                          & 0.15514        & -0.05117      & 0.31499          &             &                 \\\\\n",
       "\\bottomrule\n",
       "\\end{tabular}"
      ],
      "text/markdown": [
       "Model: death ~ age_cen + congestive_heart_disease + chronic_obstructive_pulmonary_disease + all_central_nervous_system_disease                 + renal_disease + stroke + seizure + oxygen_saturation_cen + mean_arterial_pressure_cen                 + D_dimer_cen + platelets_cen + creatinine_cen + sodium_cen + aspartate_aminotransferase_cen + alanine_aminotransferase_cen + white_blood_cell_cen                 + interleukin6_cen + C_reactive_protein_cen + procalcitonin_cen + troponin_cen + length_of_stay_cen\n",
       "|---------------------------------------|--------------|----------|-------------|----------|------------|\n",
       "|                                       |              |          | **95% BCI** |          |            |\n",
       "| **Coefficients**                      |              | **Mean** | **Lo**      | **Hi**   | **P(y=1)** |\n",
       "|                                       | $\\beta_{0}$  | -0.56183 | -1.55144    | -0.07694 | 0.36312    |\n",
       "| age_cen                               | $\\beta_{1}$  | 0.02200  | 0.02157     | 0.05744  | 0.00550    |\n",
       "| congestive_heart_disease              | $\\beta_{2}$  | -0.06140 | -0.18604    | -0.00871 | -0.01535   |\n",
       "| chronic_obstructive_pulmonary_disease | $\\beta_{3}$  | -0.02926 | -0.09863    | -0.00393 | -0.00731   |\n",
       "| all_central_nervous_system_disease    | $\\beta_{4}$  | -0.05668 | -0.16226    | -0.00824 | -0.01417   |\n",
       "| renal_disease                         | $\\beta_{5}$  | -0.08513 | -0.22847    | -0.01211 | -0.02128   |\n",
       "| stroke                                | $\\beta_{6}$  | -0.00172 | -0.00715    | 0.02724  | -0.00043   |\n",
       "| seizure                               | $\\beta_{7}$  | -0.00360 | -0.01874    | -0.00011 | -0.00090   |\n",
       "| oxygen_saturation_cen                 | $\\beta_{8}$  | -0.02025 | -0.07546    | -0.02115 | -0.00506   |\n",
       "| mean_arterial_pressure_cen            | $\\beta_{9}$  | -0.03464 | -0.05400    | -0.02899 | -0.00866   |\n",
       "| D_dimer_cen                           | $\\beta_{10}$ | 0.01281  | -0.02149    | 0.05507  | 0.00320    |\n",
       "| platelets_cen                         | $\\beta_{11}$ | -0.00124 | -0.00296    | -0.00071 | -0.00031   |\n",
       "| creatinine_cen                        | $\\beta_{12}$ | 0.08011  | 0.00200     | 0.17887  | 0.02003    |\n",
       "| sodium_cen                            | $\\beta_{13}$ | -0.01353 | -0.02345    | 0.03694  | -0.00338   |\n",
       "| aspartate_aminotransferase_cen        | $\\beta_{14}$ | -0.00022 | -0.00187    | 0.00258  | -0.00005   |\n",
       "| alanine_aminotransferase_cen          | $\\beta_{15}$ | 0.00134  | -0.00327    | 0.00445  | 0.00034    |\n",
       "| white_blood_cell_cen                  | $\\beta_{16}$ | -0.00503 | -0.02759    | 0.04182  | -0.00126   |\n",
       "| interleukin6_cen                      | $\\beta_{17}$ | -0.00001 | -0.00003    | 0.00098  | -0.00000   |\n",
       "| C_reactive_protein_cen                | $\\beta_{18}$ | 0.02693  | -0.01453    | 0.02725  | 0.00673    |\n",
       "| procalcitonin_cen                     | $\\beta_{19}$ | 0.11153  | 0.01340     | 0.21124  | 0.02788    |\n",
       "| troponin_cen                          | $\\beta_{20}$ | 0.01735  | 0.00193     | 0.09202  | 0.00434    |\n",
       "| length_of_stay_cen                    | $\\beta_{21}$ | 0.00176  | -0.00946    | 0.05530  | 0.00044    |\n",
       "|                                       |              |          |             |          |            |\n",
       "| **Metrics**                           | **Mean**     | **Lo**   | **Hi**      |          |            |\n",
       "| Error (%)                             | 19.25749     | 17.03341 | 27.59389    |          |            |\n",
       "| Efron's $R^2$                         | 0.15514      | -0.05117 | 0.31499     |          |            |"
      ],
      "text/plain": [
       "<models.ResultsWrapper at 0xffff69c99eb0>"
      ]
     },
     "execution_count": 28,
     "metadata": {},
     "output_type": "execute_result"
    }
   ],
   "source": [
    "model3 =  \"death ~ age_cen + congestive_heart_disease + chronic_obstructive_pulmonary_disease + all_central_nervous_system_disease \\\n",
    "                + renal_disease + stroke + seizure + oxygen_saturation_cen + mean_arterial_pressure_cen \\\n",
    "                + D_dimer_cen + platelets_cen + creatinine_cen + sodium_cen + aspartate_aminotransferase_cen + alanine_aminotransferase_cen + white_blood_cell_cen \\\n",
    "                + interleukin6_cen + C_reactive_protein_cen + procalcitonin_cen + troponin_cen + length_of_stay_cen\"\n",
    "result3 = models.bootstrap_logistic_regression(model3, data)\n",
    "models.describe_bootstrap_lgr(result3, sd=5)"
   ]
  },
  {
   "cell_type": "markdown",
   "id": "6410ff1a-0fcf-4ac3-add2-7c7cb23eff3a",
   "metadata": {},
   "source": [
    "Mean centering worsens the model, which is evident in the increase error rate of 19.26% and the decreased pseudo $R^2$ value of 0.16. In addition, many of the coefficients are now unexpected signs with 95% BCI's that would result in variable removal, even though EDA revealed that the coefficients were significant. We will look at the binary confusion matrix and the classification metrics, but we will likely not use this model or mean centering for this data. "
   ]
  },
  {
   "cell_type": "code",
   "execution_count": 29,
   "id": "84933032-7b42-4475-b39f-016aaa9cb02f",
   "metadata": {},
   "outputs": [
    {
     "data": {
      "text/html": [
       "<table>\n",
       "<thead>\n",
       "<tr><th>           </th><th style=\"text-align: right;\">  Actual 1</th><th style=\"text-align: right;\">  Actual 0</th></tr>\n",
       "</thead>\n",
       "<tbody>\n",
       "<tr><td>Predicted 1</td><td style=\"text-align: right;\">       573</td><td style=\"text-align: right;\">       374</td></tr>\n",
       "<tr><td>Predicted 0</td><td style=\"text-align: right;\">       430</td><td style=\"text-align: right;\">      2798</td></tr>\n",
       "</tbody>\n",
       "</table>"
      ],
      "text/plain": [
       "'<table>\\n<thead>\\n<tr><th>           </th><th style=\"text-align: right;\">  Actual 1</th><th style=\"text-align: right;\">  Actual 0</th></tr>\\n</thead>\\n<tbody>\\n<tr><td>Predicted 1</td><td style=\"text-align: right;\">       573</td><td style=\"text-align: right;\">       374</td></tr>\\n<tr><td>Predicted 0</td><td style=\"text-align: right;\">       430</td><td style=\"text-align: right;\">      2798</td></tr>\\n</tbody>\\n</table>'"
      ]
     },
     "execution_count": 29,
     "metadata": {},
     "output_type": "execute_result"
    }
   ],
   "source": [
    "binary_confusion_matrix(result3)"
   ]
  },
  {
   "cell_type": "markdown",
   "id": "02b68064-994b-4bd3-8779-2e2b373f78d4",
   "metadata": {},
   "source": [
    "Compared to model #2, we have more true positives and more false negatives. However, the increase in false negatives is more substantial than the increase in true positives. Let's look at the metrics:"
   ]
  },
  {
   "cell_type": "code",
   "execution_count": 30,
   "id": "61638df9-c03a-4187-b930-d6604b83a3ba",
   "metadata": {},
   "outputs": [
    {
     "data": {
      "text/html": [
       "<table>\n",
       "<thead>\n",
       "<tr><th>Metrics       </th><th style=\"text-align: right;\">  Result</th></tr>\n",
       "</thead>\n",
       "<tbody>\n",
       "<tr><td>Accuracy      </td><td style=\"text-align: right;\">0.807425</td></tr>\n",
       "<tr><td>Error Rate    </td><td style=\"text-align: right;\">0.192575</td></tr>\n",
       "<tr><td>Sensitivity   </td><td style=\"text-align: right;\">0.571286</td></tr>\n",
       "<tr><td>False Negative</td><td style=\"text-align: right;\">0.428714</td></tr>\n",
       "<tr><td>Specificity   </td><td style=\"text-align: right;\">0.882093</td></tr>\n",
       "<tr><td>False Positive</td><td style=\"text-align: right;\">0.117907</td></tr>\n",
       "<tr><td>Precision     </td><td style=\"text-align: right;\">0.605069</td></tr>\n",
       "<tr><td>F1            </td><td style=\"text-align: right;\">0.587692</td></tr>\n",
       "</tbody>\n",
       "</table>"
      ],
      "text/plain": [
       "'<table>\\n<thead>\\n<tr><th>Metrics       </th><th style=\"text-align: right;\">  Result</th></tr>\\n</thead>\\n<tbody>\\n<tr><td>Accuracy      </td><td style=\"text-align: right;\">0.807425</td></tr>\\n<tr><td>Error Rate    </td><td style=\"text-align: right;\">0.192575</td></tr>\\n<tr><td>Sensitivity   </td><td style=\"text-align: right;\">0.571286</td></tr>\\n<tr><td>False Negative</td><td style=\"text-align: right;\">0.428714</td></tr>\\n<tr><td>Specificity   </td><td style=\"text-align: right;\">0.882093</td></tr>\\n<tr><td>False Positive</td><td style=\"text-align: right;\">0.117907</td></tr>\\n<tr><td>Precision     </td><td style=\"text-align: right;\">0.605069</td></tr>\\n<tr><td>F1            </td><td style=\"text-align: right;\">0.587692</td></tr>\\n</tbody>\\n</table>'"
      ]
     },
     "execution_count": 30,
     "metadata": {},
     "output_type": "execute_result"
    }
   ],
   "source": [
    "binary_confusion_matrix(result3, metrics=True)"
   ]
  },
  {
   "cell_type": "markdown",
   "id": "e128608a-45d5-4b41-96b9-e17ee75b7f8a",
   "metadata": {},
   "source": [
    "The false positive rate went from 0.05 to 0.12 and the false negative rate went from 0.57 to 0.43, which aligns with our observations from the confusion matrix. The precision decreased from 0.72 to 0.61, the specificity decreased from 0.95 to 0.88, and the sensitivity increased from 0.43 to 0.57. Overall, the model is *slightly* better at identifying positive cases but has a more significant decrease in performance when identifying negative cases. "
   ]
  },
  {
   "cell_type": "markdown",
   "id": "1b420c61-7b00-4b0b-a38e-011cfe86ed31",
   "metadata": {},
   "source": [
    "Instead of mean centering, we can try to implement interaction terms or variable transformations. Several variables, such as D-dimer, interleukin6, c-reactive protein, procalcitonin, and troponin, **can** be zero, so log transformations on all numerical variables would not work. The same is true for square root transformations. \n",
    "\n",
    "A few of the variables did have a stronger nonlinear relationship with `death` which could be due to either a needed transformation or a missing interaction term. These variables are `age`, `platelets`, `creatinine`, `aspartate_aminotransferase`, `white_blood_cell`, `interleukin6`, `procalcitonin`, `troponin`, and `length_of_stay`. Let's try squaring age and the length of stay variables and creating a new variable from AST and ALT to form the AST/ALT ratio [[1]](https://www.ncbi.nlm.nih.gov/pmc/articles/PMC3609680/#:~:text=A%20normal%20AST%3AALT%20ratio,and%20%3E2%20in%2070%25.&text=AST%3AALT%20scores%20%3E2%20are,more%20suggestive%20of%20NAFLD%2FNASH.) to see if the model performs better:"
   ]
  },
  {
   "cell_type": "code",
   "execution_count": 31,
   "id": "23097ea2-6de8-46fb-8c0b-3f6b7654dd1f",
   "metadata": {},
   "outputs": [],
   "source": [
    "data['age_sq'] = data['age'] ** 2\n",
    "data['LOS_sq'] = data['length_of_stay'] ** 2\n",
    "\n",
    "data['AST_ALT'] = data['aspartate_aminotransferase'] / data ['alanine_aminotransferase']"
   ]
  },
  {
   "cell_type": "code",
   "execution_count": 32,
   "id": "462713c7-0422-44db-9da8-74ec7949b222",
   "metadata": {},
   "outputs": [
    {
     "data": {
      "text/html": [
       "<p><strong>Model: death ~ age_sq + congestive_heart_disease + chronic_obstructive_pulmonary_disease +all_central_nervous_system_disease                 + renal_disease + stroke + seizure + oxygen_saturation + mean_arterial_pressure                 + D_dimer + platelets + creatinine + sodium + AST_ALT + white_blood_cell                 + interleukin6 + C_reactive_protein + procalcitonin + troponin + LOS_sq</strong><br/><table>\n",
       "<tbody>\n",
       "<tr><td>                                     </td><td>                     </td><td>                     </td><td><strong>95% BCI</strong</td><td>                   </td><td>                       </td></tr>\n",
       "<tr><td><strong>Coefficients</strong        </td><td>                     </td><td><strong>Mean</strong</td><td><strong>Lo</strong     </td><td><strong>Hi</strong</td><td><strong>P(y=1)</strong</td></tr>\n",
       "<tr><td>                                     </td><td>$\\beta_{0}$          </td><td>0.00022              </td><td>0.00006                 </td><td>0.00031            </td><td>0.50005                </td></tr>\n",
       "<tr><td>age_sq                               </td><td>$\\beta_{1}$          </td><td>0.00038              </td><td>0.00033                 </td><td>0.00041            </td><td>0.00009                </td></tr>\n",
       "<tr><td>congestive_heart_disease             </td><td>$\\beta_{2}$          </td><td>0.00030              </td><td>-0.00034                </td><td>0.00098            </td><td>0.00007                </td></tr>\n",
       "<tr><td>chronic_obstructive_pulmonary_disease</td><td>$\\beta_{3}$          </td><td>0.00019              </td><td>-0.00035                </td><td>0.00070            </td><td>0.00005                </td></tr>\n",
       "<tr><td>all_central_nervous_system_disease   </td><td>$\\beta_{4}$          </td><td>0.00118              </td><td>0.00013                 </td><td>0.00195            </td><td>0.00030                </td></tr>\n",
       "<tr><td>renal_disease                        </td><td>$\\beta_{5}$          </td><td>0.00128              </td><td>0.00012                 </td><td>0.00183            </td><td>0.00032                </td></tr>\n",
       "<tr><td>stroke                               </td><td>$\\beta_{6}$          </td><td>0.00044              </td><td>0.00010                 </td><td>0.00072            </td><td>0.00011                </td></tr>\n",
       "<tr><td>seizure                              </td><td>$\\beta_{7}$          </td><td>0.00012              </td><td>-0.00006                </td><td>0.00028            </td><td>0.00003                </td></tr>\n",
       "<tr><td>oxygen_saturation                    </td><td>$\\beta_{8}$          </td><td>-0.03622             </td><td>-0.04384                </td><td>-0.02393           </td><td>-0.00906               </td></tr>\n",
       "<tr><td>mean_arterial_pressure               </td><td>$\\beta_{9}$          </td><td>-0.04378             </td><td>-0.04775                </td><td>-0.03656           </td><td>-0.01094               </td></tr>\n",
       "<tr><td>D_dimer                              </td><td>$\\beta_{10}$         </td><td>0.01532              </td><td>0.00491                 </td><td>0.02628            </td><td>0.00383                </td></tr>\n",
       "<tr><td>platelets                            </td><td>$\\beta_{11}$         </td><td>-0.00191             </td><td>-0.00302                </td><td>-0.00100           </td><td>-0.00048               </td></tr>\n",
       "<tr><td>creatinine                           </td><td>$\\beta_{12}$         </td><td>0.01412              </td><td>0.00506                 </td><td>0.02049            </td><td>0.00353                </td></tr>\n",
       "<tr><td>sodium                               </td><td>$\\beta_{13}$         </td><td>0.02817              </td><td>0.01815                 </td><td>0.03318            </td><td>0.00704                </td></tr>\n",
       "<tr><td>AST_ALT                              </td><td>$\\beta_{14}$         </td><td>0.01037              </td><td>0.00386                 </td><td>0.01389            </td><td>0.00259                </td></tr>\n",
       "<tr><td>white_blood_cell                     </td><td>$\\beta_{15}$         </td><td>0.00292              </td><td>-0.00544                </td><td>0.01269            </td><td>0.00073                </td></tr>\n",
       "<tr><td>interleukin6                         </td><td>$\\beta_{16}$         </td><td>0.00000              </td><td>-0.00002                </td><td>0.00088            </td><td>0.00000                </td></tr>\n",
       "<tr><td>C_reactive_protein                   </td><td>$\\beta_{17}$         </td><td>0.02164              </td><td>0.01530                 </td><td>0.03696            </td><td>0.00541                </td></tr>\n",
       "<tr><td>procalcitonin                        </td><td>$\\beta_{18}$         </td><td>0.03305              </td><td>0.01788                 </td><td>0.04463            </td><td>0.00826                </td></tr>\n",
       "<tr><td>troponin                             </td><td>$\\beta_{19}$         </td><td>0.00198              </td><td>0.00055                 </td><td>0.00351            </td><td>0.00049                </td></tr>\n",
       "<tr><td>LOS_sq                               </td><td>$\\beta_{20}$         </td><td>0.00071              </td><td>0.00031                 </td><td>0.00108            </td><td>0.00018                </td></tr>\n",
       "<tr><td>                                     </td><td>                     </td><td>                     </td><td>                        </td><td>                   </td><td>                       </td></tr>\n",
       "<tr><td><strong>Metrics</strong             </td><td><strong>Mean</strong</td><td><strong>Lo</strong  </td><td><strong>Hi</strong     </td><td>                   </td><td>                       </td></tr>\n",
       "<tr><td>Error (%)                            </td><td>17.84431             </td><td>16.60455             </td><td>19.09437                </td><td>                   </td><td>                       </td></tr>\n",
       "<tr><td>Efron&#x27;s $R^2$                        </td><td>0.28401              </td><td>0.26228              </td><td>0.31548                 </td><td>                   </td><td>                       </td></tr>\n",
       "</tbody>\n",
       "</table></p>"
      ],
      "text/latex": [
       "\\textbf{Model: death \\(\\sim\\) age\\_sq + congestive\\_heart\\_disease + chronic\\_obstructive\\_pulmonary\\_disease +all\\_central\\_nervous\\_system\\_disease                 + renal\\_disease + stroke + seizure + oxygen\\_saturation + mean\\_arterial\\_pressure                 + D\\_dimer + platelets + creatinine + sodium + AST\\_ALT + white\\_blood\\_cell                 + interleukin6 + C\\_reactive\\_protein + procalcitonin + troponin + LOS\\_sq}\n",
       "\n",
       "\\begin{tabular}{llllll}\n",
       "\\toprule\n",
       "                                          &                &               & \\textbf{95\\% BCI} &             &                 \\\\\n",
       " \\textbf{Coefficients}                    &                & \\textbf{Mean} & \\textbf{Lo}      & \\textbf{Hi} & \\textbf{P(y=1)} \\\\\n",
       "                                          & \\(\\beta_{0}\\)  & 0.00022       & 0.00006          & 0.00031     & 0.50005         \\\\\n",
       " age\\_sq                                  & \\(\\beta_{1}\\)  & 0.00038       & 0.00033          & 0.00041     & 0.00009         \\\\\n",
       " congestive\\_heart\\_disease               & \\(\\beta_{2}\\)  & 0.00030       & -0.00034         & 0.00098     & 0.00007         \\\\\n",
       " chronic\\_obstructive\\_pulmonary\\_disease & \\(\\beta_{3}\\)  & 0.00019       & -0.00035         & 0.00070     & 0.00005         \\\\\n",
       " all\\_central\\_nervous\\_system\\_disease   & \\(\\beta_{4}\\)  & 0.00118       & 0.00013          & 0.00195     & 0.00030         \\\\\n",
       " renal\\_disease                           & \\(\\beta_{5}\\)  & 0.00128       & 0.00012          & 0.00183     & 0.00032         \\\\\n",
       " stroke                                   & \\(\\beta_{6}\\)  & 0.00044       & 0.00010          & 0.00072     & 0.00011         \\\\\n",
       " seizure                                  & \\(\\beta_{7}\\)  & 0.00012       & -0.00006         & 0.00028     & 0.00003         \\\\\n",
       " oxygen\\_saturation                       & \\(\\beta_{8}\\)  & -0.03622      & -0.04384         & -0.02393    & -0.00906        \\\\\n",
       " mean\\_arterial\\_pressure                 & \\(\\beta_{9}\\)  & -0.04378      & -0.04775         & -0.03656    & -0.01094        \\\\\n",
       " D\\_dimer                                 & \\(\\beta_{10}\\) & 0.01532       & 0.00491          & 0.02628     & 0.00383         \\\\\n",
       " platelets                                & \\(\\beta_{11}\\) & -0.00191      & -0.00302         & -0.00100    & -0.00048        \\\\\n",
       " creatinine                               & \\(\\beta_{12}\\) & 0.01412       & 0.00506          & 0.02049     & 0.00353         \\\\\n",
       " sodium                                   & \\(\\beta_{13}\\) & 0.02817       & 0.01815          & 0.03318     & 0.00704         \\\\\n",
       " AST\\_ALT                                 & \\(\\beta_{14}\\) & 0.01037       & 0.00386          & 0.01389     & 0.00259         \\\\\n",
       " white\\_blood\\_cell                       & \\(\\beta_{15}\\) & 0.00292       & -0.00544         & 0.01269     & 0.00073         \\\\\n",
       " interleukin6                             & \\(\\beta_{16}\\) & 0.00000       & -0.00002         & 0.00088     & 0.00000         \\\\\n",
       " C\\_reactive\\_protein                     & \\(\\beta_{17}\\) & 0.02164       & 0.01530          & 0.03696     & 0.00541         \\\\\n",
       " procalcitonin                            & \\(\\beta_{18}\\) & 0.03305       & 0.01788          & 0.04463     & 0.00826         \\\\\n",
       " troponin                                 & \\(\\beta_{19}\\) & 0.00198       & 0.00055          & 0.00351     & 0.00049         \\\\\n",
       " LOS\\_sq                                  & \\(\\beta_{20}\\) & 0.00071       & 0.00031          & 0.00108     & 0.00018         \\\\\n",
       "                                          &                &               &                  &             &                 \\\\\n",
       " \\textbf{Metrics}                         & \\textbf{Mean}  & \\textbf{Lo}   & \\textbf{Hi}      &             &                 \\\\\n",
       " Error (\\%)                                & 17.84431       & 16.60455      & 19.09437         &             &                 \\\\\n",
       " Efron's \\(R^2\\)                          & 0.28401        & 0.26228       & 0.31548          &             &                 \\\\\n",
       "\\bottomrule\n",
       "\\end{tabular}"
      ],
      "text/markdown": [
       "Model: death ~ age_sq + congestive_heart_disease + chronic_obstructive_pulmonary_disease +all_central_nervous_system_disease                 + renal_disease + stroke + seizure + oxygen_saturation + mean_arterial_pressure                 + D_dimer + platelets + creatinine + sodium + AST_ALT + white_blood_cell                 + interleukin6 + C_reactive_protein + procalcitonin + troponin + LOS_sq\n",
       "|---------------------------------------|--------------|----------|-------------|----------|------------|\n",
       "|                                       |              |          | **95% BCI** |          |            |\n",
       "| **Coefficients**                      |              | **Mean** | **Lo**      | **Hi**   | **P(y=1)** |\n",
       "|                                       | $\\beta_{0}$  | 0.00022  | 0.00006     | 0.00031  | 0.50005    |\n",
       "| age_sq                                | $\\beta_{1}$  | 0.00038  | 0.00033     | 0.00041  | 0.00009    |\n",
       "| congestive_heart_disease              | $\\beta_{2}$  | 0.00030  | -0.00034    | 0.00098  | 0.00007    |\n",
       "| chronic_obstructive_pulmonary_disease | $\\beta_{3}$  | 0.00019  | -0.00035    | 0.00070  | 0.00005    |\n",
       "| all_central_nervous_system_disease    | $\\beta_{4}$  | 0.00118  | 0.00013     | 0.00195  | 0.00030    |\n",
       "| renal_disease                         | $\\beta_{5}$  | 0.00128  | 0.00012     | 0.00183  | 0.00032    |\n",
       "| stroke                                | $\\beta_{6}$  | 0.00044  | 0.00010     | 0.00072  | 0.00011    |\n",
       "| seizure                               | $\\beta_{7}$  | 0.00012  | -0.00006    | 0.00028  | 0.00003    |\n",
       "| oxygen_saturation                     | $\\beta_{8}$  | -0.03622 | -0.04384    | -0.02393 | -0.00906   |\n",
       "| mean_arterial_pressure                | $\\beta_{9}$  | -0.04378 | -0.04775    | -0.03656 | -0.01094   |\n",
       "| D_dimer                               | $\\beta_{10}$ | 0.01532  | 0.00491     | 0.02628  | 0.00383    |\n",
       "| platelets                             | $\\beta_{11}$ | -0.00191 | -0.00302    | -0.00100 | -0.00048   |\n",
       "| creatinine                            | $\\beta_{12}$ | 0.01412  | 0.00506     | 0.02049  | 0.00353    |\n",
       "| sodium                                | $\\beta_{13}$ | 0.02817  | 0.01815     | 0.03318  | 0.00704    |\n",
       "| AST_ALT                               | $\\beta_{14}$ | 0.01037  | 0.00386     | 0.01389  | 0.00259    |\n",
       "| white_blood_cell                      | $\\beta_{15}$ | 0.00292  | -0.00544    | 0.01269  | 0.00073    |\n",
       "| interleukin6                          | $\\beta_{16}$ | 0.00000  | -0.00002    | 0.00088  | 0.00000    |\n",
       "| C_reactive_protein                    | $\\beta_{17}$ | 0.02164  | 0.01530     | 0.03696  | 0.00541    |\n",
       "| procalcitonin                         | $\\beta_{18}$ | 0.03305  | 0.01788     | 0.04463  | 0.00826    |\n",
       "| troponin                              | $\\beta_{19}$ | 0.00198  | 0.00055     | 0.00351  | 0.00049    |\n",
       "| LOS_sq                                | $\\beta_{20}$ | 0.00071  | 0.00031     | 0.00108  | 0.00018    |\n",
       "|                                       |              |          |             |          |            |\n",
       "| **Metrics**                           | **Mean**     | **Lo**   | **Hi**      |          |            |\n",
       "| Error (%)                             | 17.84431     | 16.60455 | 19.09437    |          |            |\n",
       "| Efron's $R^2$                         | 0.28401      | 0.26228  | 0.31548     |          |            |"
      ],
      "text/plain": [
       "<models.ResultsWrapper at 0xffff69cfd5b0>"
      ]
     },
     "execution_count": 32,
     "metadata": {},
     "output_type": "execute_result"
    }
   ],
   "source": [
    "model4 =  \"death ~ age_sq + congestive_heart_disease + chronic_obstructive_pulmonary_disease +all_central_nervous_system_disease \\\n",
    "                + renal_disease + stroke + seizure + oxygen_saturation + mean_arterial_pressure \\\n",
    "                + D_dimer + platelets + creatinine + sodium + AST_ALT + white_blood_cell \\\n",
    "                + interleukin6 + C_reactive_protein + procalcitonin + troponin + LOS_sq\"\n",
    "\n",
    "result4 = models.bootstrap_logistic_regression(model4, data)\n",
    "models.describe_bootstrap_lgr(result4, sd=5)"
   ]
  },
  {
   "cell_type": "markdown",
   "id": "258cc82a-31f0-4682-94d8-a7fb9ecb85c3",
   "metadata": {},
   "source": [
    "The error rate is a bit greater at 17.84% and the pseudo $R^2$ is lower at 0.28. We can evaluate the coefficients that have major changes as follows:\n",
    "\n",
    "- **D_dimer:** For every one unit increase in the D-dimer level, the *log odds* of death increases by 0.01532. The coefficient sign is *expected* and has now has strong support from the 95% BCI.\n",
    "\n",
    "- **AST_ALT:** For every one unit increase in the AST:ALT ratio, the *log odds* of death increases by 0.01037. The coefficient sign is *expected* and has strong support from the 95% BCI.\n",
    "\n",
    "The squared age and length of stay variables seem less interpretable, but the coefficient signs are unchanged from before we transformed the variable and is strongly supported by the data. The rest of the variables are unchanged, for the most part. Let's look at the confusion matrix:"
   ]
  },
  {
   "cell_type": "code",
   "execution_count": 33,
   "id": "df5843b5-732d-43ef-ad52-241fa9160256",
   "metadata": {},
   "outputs": [
    {
     "data": {
      "text/html": [
       "<table>\n",
       "<thead>\n",
       "<tr><th>           </th><th style=\"text-align: right;\">  Actual 1</th><th style=\"text-align: right;\">  Actual 0</th></tr>\n",
       "</thead>\n",
       "<tbody>\n",
       "<tr><td>Predicted 1</td><td style=\"text-align: right;\">       420</td><td style=\"text-align: right;\">       162</td></tr>\n",
       "<tr><td>Predicted 0</td><td style=\"text-align: right;\">       583</td><td style=\"text-align: right;\">      3010</td></tr>\n",
       "</tbody>\n",
       "</table>"
      ],
      "text/plain": [
       "'<table>\\n<thead>\\n<tr><th>           </th><th style=\"text-align: right;\">  Actual 1</th><th style=\"text-align: right;\">  Actual 0</th></tr>\\n</thead>\\n<tbody>\\n<tr><td>Predicted 1</td><td style=\"text-align: right;\">       420</td><td style=\"text-align: right;\">       162</td></tr>\\n<tr><td>Predicted 0</td><td style=\"text-align: right;\">       583</td><td style=\"text-align: right;\">      3010</td></tr>\\n</tbody>\\n</table>'"
      ]
     },
     "execution_count": 33,
     "metadata": {},
     "output_type": "execute_result"
    }
   ],
   "source": [
    "binary_confusion_matrix(result4)"
   ]
  },
  {
   "cell_type": "markdown",
   "id": "7fff74e2-d75d-498e-98f9-7cbf7a8b6baf",
   "metadata": {},
   "source": [
    "We will compare these results to model #2, since we are not using mean centering after attempting to try it in model #3. Compared to model #2, we have more cases of false negatives which is what is affecting the error rate the most. We have a few more true negatives, but it is not enough to balance out the number of false negatives. Let's look at the metrics:"
   ]
  },
  {
   "cell_type": "code",
   "execution_count": 34,
   "id": "723b8761-5d2a-42e3-acf1-b846caa45edc",
   "metadata": {},
   "outputs": [
    {
     "data": {
      "text/html": [
       "<table>\n",
       "<thead>\n",
       "<tr><th>Metrics       </th><th style=\"text-align: right;\">   Result</th></tr>\n",
       "</thead>\n",
       "<tbody>\n",
       "<tr><td>Accuracy      </td><td style=\"text-align: right;\">0.821557 </td></tr>\n",
       "<tr><td>Error Rate    </td><td style=\"text-align: right;\">0.178443 </td></tr>\n",
       "<tr><td>Sensitivity   </td><td style=\"text-align: right;\">0.418744 </td></tr>\n",
       "<tr><td>False Negative</td><td style=\"text-align: right;\">0.581256 </td></tr>\n",
       "<tr><td>Specificity   </td><td style=\"text-align: right;\">0.948928 </td></tr>\n",
       "<tr><td>False Positive</td><td style=\"text-align: right;\">0.0510719</td></tr>\n",
       "<tr><td>Precision     </td><td style=\"text-align: right;\">0.721649 </td></tr>\n",
       "<tr><td>F1            </td><td style=\"text-align: right;\">0.529968 </td></tr>\n",
       "</tbody>\n",
       "</table>"
      ],
      "text/plain": [
       "'<table>\\n<thead>\\n<tr><th>Metrics       </th><th style=\"text-align: right;\">   Result</th></tr>\\n</thead>\\n<tbody>\\n<tr><td>Accuracy      </td><td style=\"text-align: right;\">0.821557 </td></tr>\\n<tr><td>Error Rate    </td><td style=\"text-align: right;\">0.178443 </td></tr>\\n<tr><td>Sensitivity   </td><td style=\"text-align: right;\">0.418744 </td></tr>\\n<tr><td>False Negative</td><td style=\"text-align: right;\">0.581256 </td></tr>\\n<tr><td>Specificity   </td><td style=\"text-align: right;\">0.948928 </td></tr>\\n<tr><td>False Positive</td><td style=\"text-align: right;\">0.0510719</td></tr>\\n<tr><td>Precision     </td><td style=\"text-align: right;\">0.721649 </td></tr>\\n<tr><td>F1            </td><td style=\"text-align: right;\">0.529968 </td></tr>\\n</tbody>\\n</table>'"
      ]
     },
     "execution_count": 34,
     "metadata": {},
     "output_type": "execute_result"
    }
   ],
   "source": [
    "binary_confusion_matrix(result4, metrics=True)"
   ]
  },
  {
   "cell_type": "markdown",
   "id": "d06bca26-9f54-4a5f-bbe4-f0d5d95c04c6",
   "metadata": {},
   "source": [
    "Overall, there doesn't seem to be a huge difference between model #2 and model #4, as noted above. The false negative rate increased slightly from 0.57 to 0.58 and the false positive rate decreased from 0.053 to 0.051, which is negligible. Precision is unchanged at 0.72, so once again, we do not have much of an improvement in model #4. "
   ]
  },
  {
   "cell_type": "markdown",
   "id": "e84bbe22-2bfd-4085-8782-c63a56370fda",
   "metadata": {},
   "source": [
    "Let's try removing the squared terms and introducing an interaction term. Based on domain knowledge, creatinine is related to the onset of renal disease and kidney dysfunction. Therefore, we will introduce an interaction term between the two. We would expect the interaction term to have a positive coefficient since we expect an increase in the *log odds* of death when either variable increases, and more so when they both increase.\n",
    "\n",
    "In addition, maybe we have too many features? We will drop interleukin6, since the correlation coefficients and the 95% BCI indicate that it may not be very beneficial to the model. We will also drop seizure since the CNS variable already includes patients who had seizures."
   ]
  },
  {
   "cell_type": "code",
   "execution_count": 35,
   "id": "0583b235-43df-4b0c-89a3-4f43f9257c28",
   "metadata": {},
   "outputs": [
    {
     "data": {
      "text/html": [
       "<p><strong>Model: death ~ age + congestive_heart_disease + chronic_obstructive_pulmonary_disease + all_central_nervous_system_disease                + renal_disease + stroke + oxygen_saturation + white_blood_cell + mean_arterial_pressure + D_dimer + platelets + creatinine + sodium + AST_ALT                  + C_reactive_protein + procalcitonin + troponin + length_of_stay + creatinine:renal_disease</strong><br/><table>\n",
       "<tbody>\n",
       "<tr><td>                                     </td><td>                     </td><td>                     </td><td><strong>95% BCI</strong</td><td>                   </td><td>                       </td></tr>\n",
       "<tr><td><strong>Coefficients</strong        </td><td>                     </td><td><strong>Mean</strong</td><td><strong>Lo</strong     </td><td><strong>Hi</strong</td><td><strong>P(y=1)</strong</td></tr>\n",
       "<tr><td>                                     </td><td>$\\beta_{0}$          </td><td>0.00198              </td><td>-0.00258                </td><td>0.00711            </td><td>0.50050                </td></tr>\n",
       "<tr><td>age                                  </td><td>$\\beta_{1}$          </td><td>0.04738              </td><td>0.04312                 </td><td>0.05389            </td><td>0.01185                </td></tr>\n",
       "<tr><td>congestive_heart_disease             </td><td>$\\beta_{2}$          </td><td>0.00035              </td><td>-0.03817                </td><td>0.03656            </td><td>0.00009                </td></tr>\n",
       "<tr><td>chronic_obstructive_pulmonary_disease</td><td>$\\beta_{3}$          </td><td>0.00651              </td><td>-0.01482                </td><td>0.03448            </td><td>0.00163                </td></tr>\n",
       "<tr><td>all_central_nervous_system_disease   </td><td>$\\beta_{4}$          </td><td>0.04058              </td><td>0.00542                 </td><td>0.07901            </td><td>0.01014                </td></tr>\n",
       "<tr><td>renal_disease                        </td><td>$\\beta_{5}$          </td><td>0.03436              </td><td>0.00190                 </td><td>0.07796            </td><td>0.00859                </td></tr>\n",
       "<tr><td>stroke                               </td><td>$\\beta_{6}$          </td><td>0.01778              </td><td>0.00172                 </td><td>0.03502            </td><td>0.00445                </td></tr>\n",
       "<tr><td>oxygen_saturation                    </td><td>$\\beta_{7}$          </td><td>-0.04036             </td><td>-0.05002                </td><td>-0.03288           </td><td>-0.01009               </td></tr>\n",
       "<tr><td>white_blood_cell                     </td><td>$\\beta_{8}$          </td><td>0.00293              </td><td>-0.00867                </td><td>0.01451            </td><td>0.00073                </td></tr>\n",
       "<tr><td>mean_arterial_pressure               </td><td>$\\beta_{9}$          </td><td>-0.04342             </td><td>-0.04934                </td><td>-0.03780           </td><td>-0.01085               </td></tr>\n",
       "<tr><td>D_dimer                              </td><td>$\\beta_{10}$         </td><td>0.01376              </td><td>0.00134                 </td><td>0.03240            </td><td>0.00344                </td></tr>\n",
       "<tr><td>platelets                            </td><td>$\\beta_{11}$         </td><td>-0.00187             </td><td>-0.00286                </td><td>-0.00086           </td><td>-0.00047               </td></tr>\n",
       "<tr><td>creatinine                           </td><td>$\\beta_{12}$         </td><td>0.02986              </td><td>-0.00693                </td><td>0.06779            </td><td>0.00746                </td></tr>\n",
       "<tr><td>sodium                               </td><td>$\\beta_{13}$         </td><td>0.01522              </td><td>0.00787                 </td><td>0.02245            </td><td>0.00381                </td></tr>\n",
       "<tr><td>AST_ALT                              </td><td>$\\beta_{14}$         </td><td>0.28320              </td><td>0.17961                 </td><td>0.37947            </td><td>0.07080                </td></tr>\n",
       "<tr><td>C_reactive_protein                   </td><td>$\\beta_{15}$         </td><td>0.02004              </td><td>0.01049                 </td><td>0.02777            </td><td>0.00501                </td></tr>\n",
       "<tr><td>procalcitonin                        </td><td>$\\beta_{16}$         </td><td>0.02489              </td><td>0.01443                 </td><td>0.04277            </td><td>0.00622                </td></tr>\n",
       "<tr><td>troponin                             </td><td>$\\beta_{17}$         </td><td>0.07390              </td><td>0.02384                 </td><td>0.15843            </td><td>0.01848                </td></tr>\n",
       "<tr><td>length_of_stay                       </td><td>$\\beta_{18}$         </td><td>0.03638              </td><td>0.02251                 </td><td>0.04589            </td><td>0.00910                </td></tr>\n",
       "<tr><td>creatinine:renal_disease             </td><td>$\\beta_{19}$         </td><td>0.12685              </td><td>0.03668                 </td><td>0.19567            </td><td>0.03171                </td></tr>\n",
       "<tr><td>                                     </td><td>                     </td><td>                     </td><td>                        </td><td>                   </td><td>                       </td></tr>\n",
       "<tr><td><strong>Metrics</strong             </td><td><strong>Mean</strong</td><td><strong>Lo</strong  </td><td><strong>Hi</strong     </td><td>                   </td><td>                       </td></tr>\n",
       "<tr><td>Error (%)                            </td><td>17.34132             </td><td>16.05485             </td><td>18.51952                </td><td>                   </td><td>                       </td></tr>\n",
       "<tr><td>Efron&#x27;s $R^2$                        </td><td>0.30350              </td><td>0.27766              </td><td>0.32986                 </td><td>                   </td><td>                       </td></tr>\n",
       "</tbody>\n",
       "</table></p>"
      ],
      "text/latex": [
       "\\textbf{Model: death \\(\\sim\\) age + congestive\\_heart\\_disease + chronic\\_obstructive\\_pulmonary\\_disease + all\\_central\\_nervous\\_system\\_disease                + renal\\_disease + stroke + oxygen\\_saturation + white\\_blood\\_cell + mean\\_arterial\\_pressure + D\\_dimer + platelets + creatinine + sodium + AST\\_ALT                  + C\\_reactive\\_protein + procalcitonin + troponin + length\\_of\\_stay + creatinine:renal\\_disease}\n",
       "\n",
       "\\begin{tabular}{llllll}\n",
       "\\toprule\n",
       "                                          &                &               & \\textbf{95\\% BCI} &             &                 \\\\\n",
       " \\textbf{Coefficients}                    &                & \\textbf{Mean} & \\textbf{Lo}      & \\textbf{Hi} & \\textbf{P(y=1)} \\\\\n",
       "                                          & \\(\\beta_{0}\\)  & 0.00198       & -0.00258         & 0.00711     & 0.50050         \\\\\n",
       " age                                      & \\(\\beta_{1}\\)  & 0.04738       & 0.04312          & 0.05389     & 0.01185         \\\\\n",
       " congestive\\_heart\\_disease               & \\(\\beta_{2}\\)  & 0.00035       & -0.03817         & 0.03656     & 0.00009         \\\\\n",
       " chronic\\_obstructive\\_pulmonary\\_disease & \\(\\beta_{3}\\)  & 0.00651       & -0.01482         & 0.03448     & 0.00163         \\\\\n",
       " all\\_central\\_nervous\\_system\\_disease   & \\(\\beta_{4}\\)  & 0.04058       & 0.00542          & 0.07901     & 0.01014         \\\\\n",
       " renal\\_disease                           & \\(\\beta_{5}\\)  & 0.03436       & 0.00190          & 0.07796     & 0.00859         \\\\\n",
       " stroke                                   & \\(\\beta_{6}\\)  & 0.01778       & 0.00172          & 0.03502     & 0.00445         \\\\\n",
       " oxygen\\_saturation                       & \\(\\beta_{7}\\)  & -0.04036      & -0.05002         & -0.03288    & -0.01009        \\\\\n",
       " white\\_blood\\_cell                       & \\(\\beta_{8}\\)  & 0.00293       & -0.00867         & 0.01451     & 0.00073         \\\\\n",
       " mean\\_arterial\\_pressure                 & \\(\\beta_{9}\\)  & -0.04342      & -0.04934         & -0.03780    & -0.01085        \\\\\n",
       " D\\_dimer                                 & \\(\\beta_{10}\\) & 0.01376       & 0.00134          & 0.03240     & 0.00344         \\\\\n",
       " platelets                                & \\(\\beta_{11}\\) & -0.00187      & -0.00286         & -0.00086    & -0.00047        \\\\\n",
       " creatinine                               & \\(\\beta_{12}\\) & 0.02986       & -0.00693         & 0.06779     & 0.00746         \\\\\n",
       " sodium                                   & \\(\\beta_{13}\\) & 0.01522       & 0.00787          & 0.02245     & 0.00381         \\\\\n",
       " AST\\_ALT                                 & \\(\\beta_{14}\\) & 0.28320       & 0.17961          & 0.37947     & 0.07080         \\\\\n",
       " C\\_reactive\\_protein                     & \\(\\beta_{15}\\) & 0.02004       & 0.01049          & 0.02777     & 0.00501         \\\\\n",
       " procalcitonin                            & \\(\\beta_{16}\\) & 0.02489       & 0.01443          & 0.04277     & 0.00622         \\\\\n",
       " troponin                                 & \\(\\beta_{17}\\) & 0.07390       & 0.02384          & 0.15843     & 0.01848         \\\\\n",
       " length\\_of\\_stay                         & \\(\\beta_{18}\\) & 0.03638       & 0.02251          & 0.04589     & 0.00910         \\\\\n",
       " creatinine:renal\\_disease                & \\(\\beta_{19}\\) & 0.12685       & 0.03668          & 0.19567     & 0.03171         \\\\\n",
       "                                          &                &               &                  &             &                 \\\\\n",
       " \\textbf{Metrics}                         & \\textbf{Mean}  & \\textbf{Lo}   & \\textbf{Hi}      &             &                 \\\\\n",
       " Error (\\%)                                & 17.34132       & 16.05485      & 18.51952         &             &                 \\\\\n",
       " Efron's \\(R^2\\)                          & 0.30350        & 0.27766       & 0.32986          &             &                 \\\\\n",
       "\\bottomrule\n",
       "\\end{tabular}"
      ],
      "text/markdown": [
       "Model: death ~ age + congestive_heart_disease + chronic_obstructive_pulmonary_disease + all_central_nervous_system_disease                + renal_disease + stroke + oxygen_saturation + white_blood_cell + mean_arterial_pressure + D_dimer + platelets + creatinine + sodium + AST_ALT                  + C_reactive_protein + procalcitonin + troponin + length_of_stay + creatinine:renal_disease\n",
       "|---------------------------------------|--------------|----------|-------------|----------|------------|\n",
       "|                                       |              |          | **95% BCI** |          |            |\n",
       "| **Coefficients**                      |              | **Mean** | **Lo**      | **Hi**   | **P(y=1)** |\n",
       "|                                       | $\\beta_{0}$  | 0.00198  | -0.00258    | 0.00711  | 0.50050    |\n",
       "| age                                   | $\\beta_{1}$  | 0.04738  | 0.04312     | 0.05389  | 0.01185    |\n",
       "| congestive_heart_disease              | $\\beta_{2}$  | 0.00035  | -0.03817    | 0.03656  | 0.00009    |\n",
       "| chronic_obstructive_pulmonary_disease | $\\beta_{3}$  | 0.00651  | -0.01482    | 0.03448  | 0.00163    |\n",
       "| all_central_nervous_system_disease    | $\\beta_{4}$  | 0.04058  | 0.00542     | 0.07901  | 0.01014    |\n",
       "| renal_disease                         | $\\beta_{5}$  | 0.03436  | 0.00190     | 0.07796  | 0.00859    |\n",
       "| stroke                                | $\\beta_{6}$  | 0.01778  | 0.00172     | 0.03502  | 0.00445    |\n",
       "| oxygen_saturation                     | $\\beta_{7}$  | -0.04036 | -0.05002    | -0.03288 | -0.01009   |\n",
       "| white_blood_cell                      | $\\beta_{8}$  | 0.00293  | -0.00867    | 0.01451  | 0.00073    |\n",
       "| mean_arterial_pressure                | $\\beta_{9}$  | -0.04342 | -0.04934    | -0.03780 | -0.01085   |\n",
       "| D_dimer                               | $\\beta_{10}$ | 0.01376  | 0.00134     | 0.03240  | 0.00344    |\n",
       "| platelets                             | $\\beta_{11}$ | -0.00187 | -0.00286    | -0.00086 | -0.00047   |\n",
       "| creatinine                            | $\\beta_{12}$ | 0.02986  | -0.00693    | 0.06779  | 0.00746    |\n",
       "| sodium                                | $\\beta_{13}$ | 0.01522  | 0.00787     | 0.02245  | 0.00381    |\n",
       "| AST_ALT                               | $\\beta_{14}$ | 0.28320  | 0.17961     | 0.37947  | 0.07080    |\n",
       "| C_reactive_protein                    | $\\beta_{15}$ | 0.02004  | 0.01049     | 0.02777  | 0.00501    |\n",
       "| procalcitonin                         | $\\beta_{16}$ | 0.02489  | 0.01443     | 0.04277  | 0.00622    |\n",
       "| troponin                              | $\\beta_{17}$ | 0.07390  | 0.02384     | 0.15843  | 0.01848    |\n",
       "| length_of_stay                        | $\\beta_{18}$ | 0.03638  | 0.02251     | 0.04589  | 0.00910    |\n",
       "| creatinine:renal_disease              | $\\beta_{19}$ | 0.12685  | 0.03668     | 0.19567  | 0.03171    |\n",
       "|                                       |              |          |             |          |            |\n",
       "| **Metrics**                           | **Mean**     | **Lo**   | **Hi**      |          |            |\n",
       "| Error (%)                             | 17.34132     | 16.05485 | 18.51952    |          |            |\n",
       "| Efron's $R^2$                         | 0.30350      | 0.27766  | 0.32986     |          |            |"
      ],
      "text/plain": [
       "<models.ResultsWrapper at 0xffff69cf5070>"
      ]
     },
     "execution_count": 35,
     "metadata": {},
     "output_type": "execute_result"
    }
   ],
   "source": [
    "model5 =  \"death ~ age + congestive_heart_disease + chronic_obstructive_pulmonary_disease + all_central_nervous_system_disease\\\n",
    "                + renal_disease + stroke + oxygen_saturation + white_blood_cell + mean_arterial_pressure + D_dimer + platelets + creatinine + sodium + AST_ALT  \\\n",
    "                + C_reactive_protein + procalcitonin + troponin + length_of_stay + creatinine:renal_disease\"\n",
    "\n",
    "result5 = models.bootstrap_logistic_regression(model5, data)\n",
    "models.describe_bootstrap_lgr(result5, sd=5)"
   ]
  },
  {
   "cell_type": "markdown",
   "id": "3d8636c0-857a-4618-a9ed-ffc2bab161e9",
   "metadata": {},
   "source": [
    "The error rate is 17.34%, which is a slight improvement from the previous model, and the pseudo $R^2$ is higher at 0.304. There are no major changes to the coefficient signs. The interaction term has a positive coefficient, which is *expected* and is strongly supported by the data. As usualy, we will refer to the confusion matrix and the metrics to evaluate the model:"
   ]
  },
  {
   "cell_type": "code",
   "execution_count": 36,
   "id": "84c085e7-d3a7-4d4f-ab29-df4e54fa1d79",
   "metadata": {},
   "outputs": [
    {
     "data": {
      "text/html": [
       "<table>\n",
       "<thead>\n",
       "<tr><th>           </th><th style=\"text-align: right;\">  Actual 1</th><th style=\"text-align: right;\">  Actual 0</th></tr>\n",
       "</thead>\n",
       "<tbody>\n",
       "<tr><td>Predicted 1</td><td style=\"text-align: right;\">       461</td><td style=\"text-align: right;\">       182</td></tr>\n",
       "<tr><td>Predicted 0</td><td style=\"text-align: right;\">       542</td><td style=\"text-align: right;\">      2990</td></tr>\n",
       "</tbody>\n",
       "</table>"
      ],
      "text/plain": [
       "'<table>\\n<thead>\\n<tr><th>           </th><th style=\"text-align: right;\">  Actual 1</th><th style=\"text-align: right;\">  Actual 0</th></tr>\\n</thead>\\n<tbody>\\n<tr><td>Predicted 1</td><td style=\"text-align: right;\">       461</td><td style=\"text-align: right;\">       182</td></tr>\\n<tr><td>Predicted 0</td><td style=\"text-align: right;\">       542</td><td style=\"text-align: right;\">      2990</td></tr>\\n</tbody>\\n</table>'"
      ]
     },
     "execution_count": 36,
     "metadata": {},
     "output_type": "execute_result"
    }
   ],
   "source": [
    "binary_confusion_matrix(result5)"
   ]
  },
  {
   "cell_type": "markdown",
   "id": "74b14223-d343-4043-a3dd-f8db1d323775",
   "metadata": {},
   "source": [
    "Compared to model #4, we have can identify more true positives but a few less true negatives. Let's look at the metrics:"
   ]
  },
  {
   "cell_type": "code",
   "execution_count": 37,
   "id": "dd4ad9c8-f360-45c9-a682-2574ce988051",
   "metadata": {},
   "outputs": [
    {
     "data": {
      "text/html": [
       "<table>\n",
       "<thead>\n",
       "<tr><th>Metrics       </th><th style=\"text-align: right;\">  Result</th></tr>\n",
       "</thead>\n",
       "<tbody>\n",
       "<tr><td>Accuracy      </td><td style=\"text-align: right;\">0.826587</td></tr>\n",
       "<tr><td>Error Rate    </td><td style=\"text-align: right;\">0.173413</td></tr>\n",
       "<tr><td>Sensitivity   </td><td style=\"text-align: right;\">0.459621</td></tr>\n",
       "<tr><td>False Negative</td><td style=\"text-align: right;\">0.540379</td></tr>\n",
       "<tr><td>Specificity   </td><td style=\"text-align: right;\">0.942623</td></tr>\n",
       "<tr><td>False Positive</td><td style=\"text-align: right;\">0.057377</td></tr>\n",
       "<tr><td>Precision     </td><td style=\"text-align: right;\">0.716952</td></tr>\n",
       "<tr><td>F1            </td><td style=\"text-align: right;\">0.560146</td></tr>\n",
       "</tbody>\n",
       "</table>"
      ],
      "text/plain": [
       "'<table>\\n<thead>\\n<tr><th>Metrics       </th><th style=\"text-align: right;\">  Result</th></tr>\\n</thead>\\n<tbody>\\n<tr><td>Accuracy      </td><td style=\"text-align: right;\">0.826587</td></tr>\\n<tr><td>Error Rate    </td><td style=\"text-align: right;\">0.173413</td></tr>\\n<tr><td>Sensitivity   </td><td style=\"text-align: right;\">0.459621</td></tr>\\n<tr><td>False Negative</td><td style=\"text-align: right;\">0.540379</td></tr>\\n<tr><td>Specificity   </td><td style=\"text-align: right;\">0.942623</td></tr>\\n<tr><td>False Positive</td><td style=\"text-align: right;\">0.057377</td></tr>\\n<tr><td>Precision     </td><td style=\"text-align: right;\">0.716952</td></tr>\\n<tr><td>F1            </td><td style=\"text-align: right;\">0.560146</td></tr>\\n</tbody>\\n</table>'"
      ]
     },
     "execution_count": 37,
     "metadata": {},
     "output_type": "execute_result"
    }
   ],
   "source": [
    "binary_confusion_matrix(result5, metrics=True)"
   ]
  },
  {
   "cell_type": "markdown",
   "id": "ce5a2216-54a3-493e-917c-3d1113c6398a",
   "metadata": {},
   "source": [
    "Compared to model #4, the false positive rate increased from 0.05 to 0.06 and the false negative rate decreased from 0.58 to 0.54. Relative to each other, the decrease in false negative rate is more significant so we have better accuracy in model #5. Sensitivity increased compared to the previous model and precision decreased. If we look at F1, the rate increased from 0.53 to 0.55, so sensitivity had a more significant increase compared to the amount that precision decreased which results in greater accuracy in this model. "
   ]
  },
  {
   "cell_type": "markdown",
   "id": "1188bf78-c944-43a8-9185-0a5d4f465a04",
   "metadata": {},
   "source": [
    "We can try implementing a few more variable transformations based on the variables that have higher Spearman's coefficients, indicating a nonlinear relationship. We can try log transforming creatinine and squaring troponin to see how the model performs:"
   ]
  },
  {
   "cell_type": "code",
   "execution_count": 38,
   "id": "b4025d68-616b-44d9-b9de-a36f2d648113",
   "metadata": {},
   "outputs": [],
   "source": [
    "data['creatinine_log'] = data['creatinine'].apply(lambda x: np.log(x))\n",
    "data['troponin_sq'] = data['troponin']**2"
   ]
  },
  {
   "cell_type": "code",
   "execution_count": 39,
   "id": "9706c3c2-9b29-462e-87aa-769addfd0f76",
   "metadata": {},
   "outputs": [
    {
     "data": {
      "text/html": [
       "<p><strong>Model: death ~ age + congestive_heart_disease + chronic_obstructive_pulmonary_disease + all_central_nervous_system_disease + renal_disease                 + stroke + oxygen_saturation + white_blood_cell + mean_arterial_pressure + D_dimer + platelets + creatinine_log                 + sodium + AST_ALT + C_reactive_protein + procalcitonin + troponin_sq + length_of_stay + creatinine_log:renal_disease</strong><br/><table>\n",
       "<tbody>\n",
       "<tr><td>                                     </td><td>                     </td><td>                     </td><td><strong>95% BCI</strong</td><td>                   </td><td>                       </td></tr>\n",
       "<tr><td><strong>Coefficients</strong        </td><td>                     </td><td><strong>Mean</strong</td><td><strong>Lo</strong     </td><td><strong>Hi</strong</td><td><strong>P(y=1)</strong</td></tr>\n",
       "<tr><td>                                     </td><td>$\\beta_{0}$          </td><td>0.00201              </td><td>-0.00719                </td><td>0.01131            </td><td>0.50050                </td></tr>\n",
       "<tr><td>age                                  </td><td>$\\beta_{1}$          </td><td>0.04772              </td><td>0.04148                 </td><td>0.05333            </td><td>0.01193                </td></tr>\n",
       "<tr><td>congestive_heart_disease             </td><td>$\\beta_{2}$          </td><td>0.00701              </td><td>-0.03109                </td><td>0.05122            </td><td>0.00175                </td></tr>\n",
       "<tr><td>chronic_obstructive_pulmonary_disease</td><td>$\\beta_{3}$          </td><td>0.00876              </td><td>-0.02383                </td><td>0.05527            </td><td>0.00219                </td></tr>\n",
       "<tr><td>all_central_nervous_system_disease   </td><td>$\\beta_{4}$          </td><td>0.04743              </td><td>0.01253                 </td><td>0.13710            </td><td>0.01186                </td></tr>\n",
       "<tr><td>renal_disease                        </td><td>$\\beta_{5}$          </td><td>0.05294              </td><td>0.00810                 </td><td>0.16343            </td><td>0.01324                </td></tr>\n",
       "<tr><td>stroke                               </td><td>$\\beta_{6}$          </td><td>0.01961              </td><td>0.00597                 </td><td>0.06496            </td><td>0.00490                </td></tr>\n",
       "<tr><td>oxygen_saturation                    </td><td>$\\beta_{7}$          </td><td>-0.03985             </td><td>-0.04926                </td><td>-0.03069           </td><td>-0.00996               </td></tr>\n",
       "<tr><td>white_blood_cell                     </td><td>$\\beta_{8}$          </td><td>-0.00047             </td><td>-0.01264                </td><td>0.01101            </td><td>-0.00012               </td></tr>\n",
       "<tr><td>mean_arterial_pressure               </td><td>$\\beta_{9}$          </td><td>-0.04317             </td><td>-0.04921                </td><td>-0.03733           </td><td>-0.01079               </td></tr>\n",
       "<tr><td>D_dimer                              </td><td>$\\beta_{10}$         </td><td>0.01446              </td><td>-0.00366                </td><td>0.03172            </td><td>0.00362                </td></tr>\n",
       "<tr><td>platelets                            </td><td>$\\beta_{11}$         </td><td>-0.00170             </td><td>-0.00260                </td><td>-0.00088           </td><td>-0.00042               </td></tr>\n",
       "<tr><td>creatinine_log                       </td><td>$\\beta_{12}$         </td><td>0.21824              </td><td>0.14264                 </td><td>0.35030            </td><td>0.05456                </td></tr>\n",
       "<tr><td>sodium                               </td><td>$\\beta_{13}$         </td><td>0.01408              </td><td>0.00734                 </td><td>0.02233            </td><td>0.00352                </td></tr>\n",
       "<tr><td>AST_ALT                              </td><td>$\\beta_{14}$         </td><td>0.31475              </td><td>0.20581                 </td><td>0.40985            </td><td>0.07869                </td></tr>\n",
       "<tr><td>C_reactive_protein                   </td><td>$\\beta_{15}$         </td><td>0.01883              </td><td>0.01186                 </td><td>0.02841            </td><td>0.00471                </td></tr>\n",
       "<tr><td>procalcitonin                        </td><td>$\\beta_{16}$         </td><td>0.02580              </td><td>0.01399                 </td><td>0.03651            </td><td>0.00645                </td></tr>\n",
       "<tr><td>troponin_sq                          </td><td>$\\beta_{17}$         </td><td>0.29858              </td><td>0.04933                 </td><td>0.45561            </td><td>0.07464                </td></tr>\n",
       "<tr><td>length_of_stay                       </td><td>$\\beta_{18}$         </td><td>0.03728              </td><td>0.02593                 </td><td>0.04726            </td><td>0.00932                </td></tr>\n",
       "<tr><td>creatinine_log:renal_disease         </td><td>$\\beta_{19}$         </td><td>0.09298              </td><td>0.04165                 </td><td>0.21519            </td><td>0.02325                </td></tr>\n",
       "<tr><td>                                     </td><td>                     </td><td>                     </td><td>                        </td><td>                   </td><td>                       </td></tr>\n",
       "<tr><td><strong>Metrics</strong             </td><td><strong>Mean</strong</td><td><strong>Lo</strong  </td><td><strong>Hi</strong     </td><td>                   </td><td>                       </td></tr>\n",
       "<tr><td>Error (%)                            </td><td>17.24551             </td><td>15.99090             </td><td>18.54455                </td><td>                   </td><td>                       </td></tr>\n",
       "<tr><td>Efron&#x27;s $R^2$                        </td><td>0.30867              </td><td>0.26949              </td><td>0.33788                 </td><td>                   </td><td>                       </td></tr>\n",
       "</tbody>\n",
       "</table></p>"
      ],
      "text/latex": [
       "\\textbf{Model: death \\(\\sim\\) age + congestive\\_heart\\_disease + chronic\\_obstructive\\_pulmonary\\_disease + all\\_central\\_nervous\\_system\\_disease + renal\\_disease                 + stroke + oxygen\\_saturation + white\\_blood\\_cell + mean\\_arterial\\_pressure + D\\_dimer + platelets + creatinine\\_log                 + sodium + AST\\_ALT + C\\_reactive\\_protein + procalcitonin + troponin\\_sq + length\\_of\\_stay + creatinine\\_log:renal\\_disease}\n",
       "\n",
       "\\begin{tabular}{llllll}\n",
       "\\toprule\n",
       "                                          &                &               & \\textbf{95\\% BCI} &             &                 \\\\\n",
       " \\textbf{Coefficients}                    &                & \\textbf{Mean} & \\textbf{Lo}      & \\textbf{Hi} & \\textbf{P(y=1)} \\\\\n",
       "                                          & \\(\\beta_{0}\\)  & 0.00201       & -0.00719         & 0.01131     & 0.50050         \\\\\n",
       " age                                      & \\(\\beta_{1}\\)  & 0.04772       & 0.04148          & 0.05333     & 0.01193         \\\\\n",
       " congestive\\_heart\\_disease               & \\(\\beta_{2}\\)  & 0.00701       & -0.03109         & 0.05122     & 0.00175         \\\\\n",
       " chronic\\_obstructive\\_pulmonary\\_disease & \\(\\beta_{3}\\)  & 0.00876       & -0.02383         & 0.05527     & 0.00219         \\\\\n",
       " all\\_central\\_nervous\\_system\\_disease   & \\(\\beta_{4}\\)  & 0.04743       & 0.01253          & 0.13710     & 0.01186         \\\\\n",
       " renal\\_disease                           & \\(\\beta_{5}\\)  & 0.05294       & 0.00810          & 0.16343     & 0.01324         \\\\\n",
       " stroke                                   & \\(\\beta_{6}\\)  & 0.01961       & 0.00597          & 0.06496     & 0.00490         \\\\\n",
       " oxygen\\_saturation                       & \\(\\beta_{7}\\)  & -0.03985      & -0.04926         & -0.03069    & -0.00996        \\\\\n",
       " white\\_blood\\_cell                       & \\(\\beta_{8}\\)  & -0.00047      & -0.01264         & 0.01101     & -0.00012        \\\\\n",
       " mean\\_arterial\\_pressure                 & \\(\\beta_{9}\\)  & -0.04317      & -0.04921         & -0.03733    & -0.01079        \\\\\n",
       " D\\_dimer                                 & \\(\\beta_{10}\\) & 0.01446       & -0.00366         & 0.03172     & 0.00362         \\\\\n",
       " platelets                                & \\(\\beta_{11}\\) & -0.00170      & -0.00260         & -0.00088    & -0.00042        \\\\\n",
       " creatinine\\_log                          & \\(\\beta_{12}\\) & 0.21824       & 0.14264          & 0.35030     & 0.05456         \\\\\n",
       " sodium                                   & \\(\\beta_{13}\\) & 0.01408       & 0.00734          & 0.02233     & 0.00352         \\\\\n",
       " AST\\_ALT                                 & \\(\\beta_{14}\\) & 0.31475       & 0.20581          & 0.40985     & 0.07869         \\\\\n",
       " C\\_reactive\\_protein                     & \\(\\beta_{15}\\) & 0.01883       & 0.01186          & 0.02841     & 0.00471         \\\\\n",
       " procalcitonin                            & \\(\\beta_{16}\\) & 0.02580       & 0.01399          & 0.03651     & 0.00645         \\\\\n",
       " troponin\\_sq                             & \\(\\beta_{17}\\) & 0.29858       & 0.04933          & 0.45561     & 0.07464         \\\\\n",
       " length\\_of\\_stay                         & \\(\\beta_{18}\\) & 0.03728       & 0.02593          & 0.04726     & 0.00932         \\\\\n",
       " creatinine\\_log:renal\\_disease           & \\(\\beta_{19}\\) & 0.09298       & 0.04165          & 0.21519     & 0.02325         \\\\\n",
       "                                          &                &               &                  &             &                 \\\\\n",
       " \\textbf{Metrics}                         & \\textbf{Mean}  & \\textbf{Lo}   & \\textbf{Hi}      &             &                 \\\\\n",
       " Error (\\%)                                & 17.24551       & 15.99090      & 18.54455         &             &                 \\\\\n",
       " Efron's \\(R^2\\)                          & 0.30867        & 0.26949       & 0.33788          &             &                 \\\\\n",
       "\\bottomrule\n",
       "\\end{tabular}"
      ],
      "text/markdown": [
       "Model: death ~ age + congestive_heart_disease + chronic_obstructive_pulmonary_disease + all_central_nervous_system_disease + renal_disease                 + stroke + oxygen_saturation + white_blood_cell + mean_arterial_pressure + D_dimer + platelets + creatinine_log                 + sodium + AST_ALT + C_reactive_protein + procalcitonin + troponin_sq + length_of_stay + creatinine_log:renal_disease\n",
       "|---------------------------------------|--------------|----------|-------------|----------|------------|\n",
       "|                                       |              |          | **95% BCI** |          |            |\n",
       "| **Coefficients**                      |              | **Mean** | **Lo**      | **Hi**   | **P(y=1)** |\n",
       "|                                       | $\\beta_{0}$  | 0.00201  | -0.00719    | 0.01131  | 0.50050    |\n",
       "| age                                   | $\\beta_{1}$  | 0.04772  | 0.04148     | 0.05333  | 0.01193    |\n",
       "| congestive_heart_disease              | $\\beta_{2}$  | 0.00701  | -0.03109    | 0.05122  | 0.00175    |\n",
       "| chronic_obstructive_pulmonary_disease | $\\beta_{3}$  | 0.00876  | -0.02383    | 0.05527  | 0.00219    |\n",
       "| all_central_nervous_system_disease    | $\\beta_{4}$  | 0.04743  | 0.01253     | 0.13710  | 0.01186    |\n",
       "| renal_disease                         | $\\beta_{5}$  | 0.05294  | 0.00810     | 0.16343  | 0.01324    |\n",
       "| stroke                                | $\\beta_{6}$  | 0.01961  | 0.00597     | 0.06496  | 0.00490    |\n",
       "| oxygen_saturation                     | $\\beta_{7}$  | -0.03985 | -0.04926    | -0.03069 | -0.00996   |\n",
       "| white_blood_cell                      | $\\beta_{8}$  | -0.00047 | -0.01264    | 0.01101  | -0.00012   |\n",
       "| mean_arterial_pressure                | $\\beta_{9}$  | -0.04317 | -0.04921    | -0.03733 | -0.01079   |\n",
       "| D_dimer                               | $\\beta_{10}$ | 0.01446  | -0.00366    | 0.03172  | 0.00362    |\n",
       "| platelets                             | $\\beta_{11}$ | -0.00170 | -0.00260    | -0.00088 | -0.00042   |\n",
       "| creatinine_log                        | $\\beta_{12}$ | 0.21824  | 0.14264     | 0.35030  | 0.05456    |\n",
       "| sodium                                | $\\beta_{13}$ | 0.01408  | 0.00734     | 0.02233  | 0.00352    |\n",
       "| AST_ALT                               | $\\beta_{14}$ | 0.31475  | 0.20581     | 0.40985  | 0.07869    |\n",
       "| C_reactive_protein                    | $\\beta_{15}$ | 0.01883  | 0.01186     | 0.02841  | 0.00471    |\n",
       "| procalcitonin                         | $\\beta_{16}$ | 0.02580  | 0.01399     | 0.03651  | 0.00645    |\n",
       "| troponin_sq                           | $\\beta_{17}$ | 0.29858  | 0.04933     | 0.45561  | 0.07464    |\n",
       "| length_of_stay                        | $\\beta_{18}$ | 0.03728  | 0.02593     | 0.04726  | 0.00932    |\n",
       "| creatinine_log:renal_disease          | $\\beta_{19}$ | 0.09298  | 0.04165     | 0.21519  | 0.02325    |\n",
       "|                                       |              |          |             |          |            |\n",
       "| **Metrics**                           | **Mean**     | **Lo**   | **Hi**      |          |            |\n",
       "| Error (%)                             | 17.24551     | 15.99090 | 18.54455    |          |            |\n",
       "| Efron's $R^2$                         | 0.30867      | 0.26949  | 0.33788     |          |            |"
      ],
      "text/plain": [
       "<models.ResultsWrapper at 0xffff69d22100>"
      ]
     },
     "execution_count": 39,
     "metadata": {},
     "output_type": "execute_result"
    }
   ],
   "source": [
    "model6 = \"death ~ age + congestive_heart_disease + chronic_obstructive_pulmonary_disease + all_central_nervous_system_disease + renal_disease \\\n",
    "                + stroke + oxygen_saturation + white_blood_cell + mean_arterial_pressure + D_dimer + platelets + creatinine_log \\\n",
    "                + sodium + AST_ALT + C_reactive_protein + procalcitonin + troponin_sq + length_of_stay + creatinine_log:renal_disease\"\n",
    "\n",
    "result6 = models.bootstrap_logistic_regression(model6, data)\n",
    "models.describe_bootstrap_lgr(result6, sd=5)"
   ]
  },
  {
   "cell_type": "markdown",
   "id": "2a6035a4-393d-4e7e-bf21-723a0392276d",
   "metadata": {},
   "source": [
    "The error rate is 17.24% and the pseudo $R^2$ is 0.31, so we have improved the model with the modifications. Some of the coefficients have changed, such as white blood cell which is now negative, which is unexpected. The rest of the coefficients have the same signs and support as the previous model. "
   ]
  },
  {
   "cell_type": "code",
   "execution_count": 40,
   "id": "0981e924-8ea9-4554-8dad-0f9411cd3d7f",
   "metadata": {},
   "outputs": [
    {
     "data": {
      "text/html": [
       "<table>\n",
       "<thead>\n",
       "<tr><th>           </th><th style=\"text-align: right;\">  Actual 1</th><th style=\"text-align: right;\">  Actual 0</th></tr>\n",
       "</thead>\n",
       "<tbody>\n",
       "<tr><td>Predicted 1</td><td style=\"text-align: right;\">       456</td><td style=\"text-align: right;\">       173</td></tr>\n",
       "<tr><td>Predicted 0</td><td style=\"text-align: right;\">       547</td><td style=\"text-align: right;\">      2999</td></tr>\n",
       "</tbody>\n",
       "</table>"
      ],
      "text/plain": [
       "'<table>\\n<thead>\\n<tr><th>           </th><th style=\"text-align: right;\">  Actual 1</th><th style=\"text-align: right;\">  Actual 0</th></tr>\\n</thead>\\n<tbody>\\n<tr><td>Predicted 1</td><td style=\"text-align: right;\">       456</td><td style=\"text-align: right;\">       173</td></tr>\\n<tr><td>Predicted 0</td><td style=\"text-align: right;\">       547</td><td style=\"text-align: right;\">      2999</td></tr>\\n</tbody>\\n</table>'"
      ]
     },
     "execution_count": 40,
     "metadata": {},
     "output_type": "execute_result"
    }
   ],
   "source": [
    "binary_confusion_matrix(result6)"
   ]
  },
  {
   "cell_type": "markdown",
   "id": "f4e5d4a0-3668-40bb-b78f-62bfb9469339",
   "metadata": {},
   "source": [
    "Compared to model #5, we have more false negatives and less false positives, so there is still room for improvement, if possible. Let's look at the metrics:"
   ]
  },
  {
   "cell_type": "code",
   "execution_count": 41,
   "id": "828682e7-c9dc-45eb-90a3-7eefbbb9d08c",
   "metadata": {},
   "outputs": [
    {
     "data": {
      "text/html": [
       "<table>\n",
       "<thead>\n",
       "<tr><th>Metrics       </th><th style=\"text-align: right;\">   Result</th></tr>\n",
       "</thead>\n",
       "<tbody>\n",
       "<tr><td>Accuracy      </td><td style=\"text-align: right;\">0.827545 </td></tr>\n",
       "<tr><td>Error Rate    </td><td style=\"text-align: right;\">0.172455 </td></tr>\n",
       "<tr><td>Sensitivity   </td><td style=\"text-align: right;\">0.454636 </td></tr>\n",
       "<tr><td>False Negative</td><td style=\"text-align: right;\">0.545364 </td></tr>\n",
       "<tr><td>Specificity   </td><td style=\"text-align: right;\">0.94546  </td></tr>\n",
       "<tr><td>False Positive</td><td style=\"text-align: right;\">0.0545397</td></tr>\n",
       "<tr><td>Precision     </td><td style=\"text-align: right;\">0.72496  </td></tr>\n",
       "<tr><td>F1            </td><td style=\"text-align: right;\">0.558824 </td></tr>\n",
       "</tbody>\n",
       "</table>"
      ],
      "text/plain": [
       "'<table>\\n<thead>\\n<tr><th>Metrics       </th><th style=\"text-align: right;\">   Result</th></tr>\\n</thead>\\n<tbody>\\n<tr><td>Accuracy      </td><td style=\"text-align: right;\">0.827545 </td></tr>\\n<tr><td>Error Rate    </td><td style=\"text-align: right;\">0.172455 </td></tr>\\n<tr><td>Sensitivity   </td><td style=\"text-align: right;\">0.454636 </td></tr>\\n<tr><td>False Negative</td><td style=\"text-align: right;\">0.545364 </td></tr>\\n<tr><td>Specificity   </td><td style=\"text-align: right;\">0.94546  </td></tr>\\n<tr><td>False Positive</td><td style=\"text-align: right;\">0.0545397</td></tr>\\n<tr><td>Precision     </td><td style=\"text-align: right;\">0.72496  </td></tr>\\n<tr><td>F1            </td><td style=\"text-align: right;\">0.558824 </td></tr>\\n</tbody>\\n</table>'"
      ]
     },
     "execution_count": 41,
     "metadata": {},
     "output_type": "execute_result"
    }
   ],
   "source": [
    "binary_confusion_matrix(result6, metrics=True)"
   ]
  },
  {
   "cell_type": "markdown",
   "id": "56471372-f882-4809-b2a3-04770c76dc2c",
   "metadata": {},
   "source": [
    "Compared to model #5, there isn't huge differences in the metrics. The false negative rate has increased from 0.54 to 0.55, the false positive rate has decreased a negligible amount, and the precision has increased a negligible amount. Although the differences are not huge, this model seems to perform *slightly* better based on the error rate. "
   ]
  },
  {
   "cell_type": "markdown",
   "id": "cd358f2b-97de-400e-8d02-6eff718b3772",
   "metadata": {},
   "source": [
    "For our final iteration to improve the model, we can consider any multicollinearity in the model that may be reducing the classification accuracy. White blood cell counts may correlate with procalcitonin, since they both increase in the presence of infection. In addition, white blood cell counts may correlate with C-reactive protien since both increase in the presence of an inflammatory condition. Since we know Covid-19 is both an infectious condition and an inflammatory condition, we may drop the `white_blood_cell` variable. "
   ]
  },
  {
   "cell_type": "code",
   "execution_count": 42,
   "id": "8c26a2f2-03ce-4c2b-9688-9df019611638",
   "metadata": {},
   "outputs": [
    {
     "data": {
      "text/html": [
       "<p><strong>Model: death ~ age + congestive_heart_disease + chronic_obstructive_pulmonary_disease + all_central_nervous_system_disease + renal_disease                 + stroke + oxygen_saturation + mean_arterial_pressure + D_dimer + platelets + creatinine_log                 + sodium + AST_ALT + C_reactive_protein + procalcitonin + troponin_sq + length_of_stay + creatinine_log:renal_disease</strong><br/><table>\n",
       "<tbody>\n",
       "<tr><td>                                     </td><td>                     </td><td>                     </td><td><strong>95% BCI</strong</td><td>                   </td><td>                       </td></tr>\n",
       "<tr><td><strong>Coefficients</strong        </td><td>                     </td><td><strong>Mean</strong</td><td><strong>Lo</strong     </td><td><strong>Hi</strong</td><td><strong>P(y=1)</strong</td></tr>\n",
       "<tr><td>                                     </td><td>$\\beta_{0}$          </td><td>0.00333              </td><td>-0.00995                </td><td>0.01315            </td><td>0.50083                </td></tr>\n",
       "<tr><td>age                                  </td><td>$\\beta_{1}$          </td><td>0.04674              </td><td>0.03974                 </td><td>0.05431            </td><td>0.01168                </td></tr>\n",
       "<tr><td>congestive_heart_disease             </td><td>$\\beta_{2}$          </td><td>0.00662              </td><td>-0.06403                </td><td>0.07698            </td><td>0.00165                </td></tr>\n",
       "<tr><td>chronic_obstructive_pulmonary_disease</td><td>$\\beta_{3}$          </td><td>0.02130              </td><td>-0.03325                </td><td>0.06849            </td><td>0.00533                </td></tr>\n",
       "<tr><td>all_central_nervous_system_disease   </td><td>$\\beta_{4}$          </td><td>0.10106              </td><td>0.01120                 </td><td>0.18516            </td><td>0.02526                </td></tr>\n",
       "<tr><td>renal_disease                        </td><td>$\\beta_{5}$          </td><td>0.11127              </td><td>0.01897                 </td><td>0.26578            </td><td>0.02782                </td></tr>\n",
       "<tr><td>stroke                               </td><td>$\\beta_{6}$          </td><td>0.04968              </td><td>-0.00024                </td><td>0.10048            </td><td>0.01242                </td></tr>\n",
       "<tr><td>oxygen_saturation                    </td><td>$\\beta_{7}$          </td><td>-0.03992             </td><td>-0.04937                </td><td>-0.03165           </td><td>-0.00998               </td></tr>\n",
       "<tr><td>mean_arterial_pressure               </td><td>$\\beta_{8}$          </td><td>-0.04239             </td><td>-0.04930                </td><td>-0.03723           </td><td>-0.01060               </td></tr>\n",
       "<tr><td>D_dimer                              </td><td>$\\beta_{9}$          </td><td>0.01036              </td><td>-0.00402                </td><td>0.02574            </td><td>0.00259                </td></tr>\n",
       "<tr><td>platelets                            </td><td>$\\beta_{10}$         </td><td>-0.00174             </td><td>-0.00265                </td><td>-0.00088           </td><td>-0.00044               </td></tr>\n",
       "<tr><td>creatinine_log                       </td><td>$\\beta_{11}$         </td><td>0.29186              </td><td>0.15148                 </td><td>0.36044            </td><td>0.07296                </td></tr>\n",
       "<tr><td>sodium                               </td><td>$\\beta_{12}$         </td><td>0.01467              </td><td>0.00965                 </td><td>0.02158            </td><td>0.00367                </td></tr>\n",
       "<tr><td>AST_ALT                              </td><td>$\\beta_{13}$         </td><td>0.25416              </td><td>0.19092                 </td><td>0.38509            </td><td>0.06354                </td></tr>\n",
       "<tr><td>C_reactive_protein                   </td><td>$\\beta_{14}$         </td><td>0.02062              </td><td>0.01235                 </td><td>0.02740            </td><td>0.00515                </td></tr>\n",
       "<tr><td>procalcitonin                        </td><td>$\\beta_{15}$         </td><td>0.02253              </td><td>0.01064                 </td><td>0.03797            </td><td>0.00563                </td></tr>\n",
       "<tr><td>troponin_sq                          </td><td>$\\beta_{16}$         </td><td>0.29724              </td><td>0.07044                 </td><td>0.46911            </td><td>0.07431                </td></tr>\n",
       "<tr><td>length_of_stay                       </td><td>$\\beta_{17}$         </td><td>0.03574              </td><td>0.02261                 </td><td>0.04647            </td><td>0.00893                </td></tr>\n",
       "<tr><td>creatinine_log:renal_disease         </td><td>$\\beta_{18}$         </td><td>0.17192              </td><td>0.05483                 </td><td>0.31800            </td><td>0.04298                </td></tr>\n",
       "<tr><td>                                     </td><td>                     </td><td>                     </td><td>                        </td><td>                   </td><td>                       </td></tr>\n",
       "<tr><td><strong>Metrics</strong             </td><td><strong>Mean</strong</td><td><strong>Lo</strong  </td><td><strong>Hi</strong     </td><td>                   </td><td>                       </td></tr>\n",
       "<tr><td>Error (%)                            </td><td>16.93413             </td><td>15.88024             </td><td>18.38036                </td><td>                   </td><td>                       </td></tr>\n",
       "<tr><td>Efron&#x27;s $R^2$                        </td><td>0.30983              </td><td>0.27642              </td><td>0.34625                 </td><td>                   </td><td>                       </td></tr>\n",
       "</tbody>\n",
       "</table></p>"
      ],
      "text/latex": [
       "\\textbf{Model: death \\(\\sim\\) age + congestive\\_heart\\_disease + chronic\\_obstructive\\_pulmonary\\_disease + all\\_central\\_nervous\\_system\\_disease + renal\\_disease                 + stroke + oxygen\\_saturation + mean\\_arterial\\_pressure + D\\_dimer + platelets + creatinine\\_log                 + sodium + AST\\_ALT + C\\_reactive\\_protein + procalcitonin + troponin\\_sq + length\\_of\\_stay + creatinine\\_log:renal\\_disease}\n",
       "\n",
       "\\begin{tabular}{llllll}\n",
       "\\toprule\n",
       "                                          &                &               & \\textbf{95\\% BCI} &             &                 \\\\\n",
       " \\textbf{Coefficients}                    &                & \\textbf{Mean} & \\textbf{Lo}      & \\textbf{Hi} & \\textbf{P(y=1)} \\\\\n",
       "                                          & \\(\\beta_{0}\\)  & 0.00333       & -0.00995         & 0.01315     & 0.50083         \\\\\n",
       " age                                      & \\(\\beta_{1}\\)  & 0.04674       & 0.03974          & 0.05431     & 0.01168         \\\\\n",
       " congestive\\_heart\\_disease               & \\(\\beta_{2}\\)  & 0.00662       & -0.06403         & 0.07698     & 0.00165         \\\\\n",
       " chronic\\_obstructive\\_pulmonary\\_disease & \\(\\beta_{3}\\)  & 0.02130       & -0.03325         & 0.06849     & 0.00533         \\\\\n",
       " all\\_central\\_nervous\\_system\\_disease   & \\(\\beta_{4}\\)  & 0.10106       & 0.01120          & 0.18516     & 0.02526         \\\\\n",
       " renal\\_disease                           & \\(\\beta_{5}\\)  & 0.11127       & 0.01897          & 0.26578     & 0.02782         \\\\\n",
       " stroke                                   & \\(\\beta_{6}\\)  & 0.04968       & -0.00024         & 0.10048     & 0.01242         \\\\\n",
       " oxygen\\_saturation                       & \\(\\beta_{7}\\)  & -0.03992      & -0.04937         & -0.03165    & -0.00998        \\\\\n",
       " mean\\_arterial\\_pressure                 & \\(\\beta_{8}\\)  & -0.04239      & -0.04930         & -0.03723    & -0.01060        \\\\\n",
       " D\\_dimer                                 & \\(\\beta_{9}\\)  & 0.01036       & -0.00402         & 0.02574     & 0.00259         \\\\\n",
       " platelets                                & \\(\\beta_{10}\\) & -0.00174      & -0.00265         & -0.00088    & -0.00044        \\\\\n",
       " creatinine\\_log                          & \\(\\beta_{11}\\) & 0.29186       & 0.15148          & 0.36044     & 0.07296         \\\\\n",
       " sodium                                   & \\(\\beta_{12}\\) & 0.01467       & 0.00965          & 0.02158     & 0.00367         \\\\\n",
       " AST\\_ALT                                 & \\(\\beta_{13}\\) & 0.25416       & 0.19092          & 0.38509     & 0.06354         \\\\\n",
       " C\\_reactive\\_protein                     & \\(\\beta_{14}\\) & 0.02062       & 0.01235          & 0.02740     & 0.00515         \\\\\n",
       " procalcitonin                            & \\(\\beta_{15}\\) & 0.02253       & 0.01064          & 0.03797     & 0.00563         \\\\\n",
       " troponin\\_sq                             & \\(\\beta_{16}\\) & 0.29724       & 0.07044          & 0.46911     & 0.07431         \\\\\n",
       " length\\_of\\_stay                         & \\(\\beta_{17}\\) & 0.03574       & 0.02261          & 0.04647     & 0.00893         \\\\\n",
       " creatinine\\_log:renal\\_disease           & \\(\\beta_{18}\\) & 0.17192       & 0.05483          & 0.31800     & 0.04298         \\\\\n",
       "                                          &                &               &                  &             &                 \\\\\n",
       " \\textbf{Metrics}                         & \\textbf{Mean}  & \\textbf{Lo}   & \\textbf{Hi}      &             &                 \\\\\n",
       " Error (\\%)                                & 16.93413       & 15.88024      & 18.38036         &             &                 \\\\\n",
       " Efron's \\(R^2\\)                          & 0.30983        & 0.27642       & 0.34625          &             &                 \\\\\n",
       "\\bottomrule\n",
       "\\end{tabular}"
      ],
      "text/markdown": [
       "Model: death ~ age + congestive_heart_disease + chronic_obstructive_pulmonary_disease + all_central_nervous_system_disease + renal_disease                 + stroke + oxygen_saturation + mean_arterial_pressure + D_dimer + platelets + creatinine_log                 + sodium + AST_ALT + C_reactive_protein + procalcitonin + troponin_sq + length_of_stay + creatinine_log:renal_disease\n",
       "|---------------------------------------|--------------|----------|-------------|----------|------------|\n",
       "|                                       |              |          | **95% BCI** |          |            |\n",
       "| **Coefficients**                      |              | **Mean** | **Lo**      | **Hi**   | **P(y=1)** |\n",
       "|                                       | $\\beta_{0}$  | 0.00333  | -0.00995    | 0.01315  | 0.50083    |\n",
       "| age                                   | $\\beta_{1}$  | 0.04674  | 0.03974     | 0.05431  | 0.01168    |\n",
       "| congestive_heart_disease              | $\\beta_{2}$  | 0.00662  | -0.06403    | 0.07698  | 0.00165    |\n",
       "| chronic_obstructive_pulmonary_disease | $\\beta_{3}$  | 0.02130  | -0.03325    | 0.06849  | 0.00533    |\n",
       "| all_central_nervous_system_disease    | $\\beta_{4}$  | 0.10106  | 0.01120     | 0.18516  | 0.02526    |\n",
       "| renal_disease                         | $\\beta_{5}$  | 0.11127  | 0.01897     | 0.26578  | 0.02782    |\n",
       "| stroke                                | $\\beta_{6}$  | 0.04968  | -0.00024    | 0.10048  | 0.01242    |\n",
       "| oxygen_saturation                     | $\\beta_{7}$  | -0.03992 | -0.04937    | -0.03165 | -0.00998   |\n",
       "| mean_arterial_pressure                | $\\beta_{8}$  | -0.04239 | -0.04930    | -0.03723 | -0.01060   |\n",
       "| D_dimer                               | $\\beta_{9}$  | 0.01036  | -0.00402    | 0.02574  | 0.00259    |\n",
       "| platelets                             | $\\beta_{10}$ | -0.00174 | -0.00265    | -0.00088 | -0.00044   |\n",
       "| creatinine_log                        | $\\beta_{11}$ | 0.29186  | 0.15148     | 0.36044  | 0.07296    |\n",
       "| sodium                                | $\\beta_{12}$ | 0.01467  | 0.00965     | 0.02158  | 0.00367    |\n",
       "| AST_ALT                               | $\\beta_{13}$ | 0.25416  | 0.19092     | 0.38509  | 0.06354    |\n",
       "| C_reactive_protein                    | $\\beta_{14}$ | 0.02062  | 0.01235     | 0.02740  | 0.00515    |\n",
       "| procalcitonin                         | $\\beta_{15}$ | 0.02253  | 0.01064     | 0.03797  | 0.00563    |\n",
       "| troponin_sq                           | $\\beta_{16}$ | 0.29724  | 0.07044     | 0.46911  | 0.07431    |\n",
       "| length_of_stay                        | $\\beta_{17}$ | 0.03574  | 0.02261     | 0.04647  | 0.00893    |\n",
       "| creatinine_log:renal_disease          | $\\beta_{18}$ | 0.17192  | 0.05483     | 0.31800  | 0.04298    |\n",
       "|                                       |              |          |             |          |            |\n",
       "| **Metrics**                           | **Mean**     | **Lo**   | **Hi**      |          |            |\n",
       "| Error (%)                             | 16.93413     | 15.88024 | 18.38036    |          |            |\n",
       "| Efron's $R^2$                         | 0.30983      | 0.27642  | 0.34625     |          |            |"
      ],
      "text/plain": [
       "<models.ResultsWrapper at 0xffff69ceee80>"
      ]
     },
     "execution_count": 42,
     "metadata": {},
     "output_type": "execute_result"
    }
   ],
   "source": [
    "formula = \"death ~ age + congestive_heart_disease + chronic_obstructive_pulmonary_disease + all_central_nervous_system_disease + renal_disease \\\n",
    "                + stroke + oxygen_saturation + mean_arterial_pressure + D_dimer + platelets + creatinine_log \\\n",
    "                + sodium + AST_ALT + C_reactive_protein + procalcitonin + troponin_sq + length_of_stay + creatinine_log:renal_disease\"\n",
    "\n",
    "final = models.bootstrap_logistic_regression(formula, data)\n",
    "models.describe_bootstrap_lgr(final, sd=5)"
   ]
  },
  {
   "cell_type": "markdown",
   "id": "d6339785-16e4-4386-9a8e-bef49165c10b",
   "metadata": {},
   "source": [
    "The error rate is 16.93% and the pseudo $R^2$ is 0.31, which is the most accurate model we have generated so far. There aren't additional cases for interaction terms or variable transformations that makes sense, given the results from EDA, and the remaining variables all have significant linear relationships. Let's look at the confusion matrix for this model:"
   ]
  },
  {
   "cell_type": "code",
   "execution_count": 43,
   "id": "8df660c8-4255-49fe-b8d1-58c7b10630e4",
   "metadata": {},
   "outputs": [
    {
     "data": {
      "text/html": [
       "<table>\n",
       "<thead>\n",
       "<tr><th>           </th><th style=\"text-align: right;\">  Actual 1</th><th style=\"text-align: right;\">  Actual 0</th></tr>\n",
       "</thead>\n",
       "<tbody>\n",
       "<tr><td>Predicted 1</td><td style=\"text-align: right;\">       462</td><td style=\"text-align: right;\">       166</td></tr>\n",
       "<tr><td>Predicted 0</td><td style=\"text-align: right;\">       541</td><td style=\"text-align: right;\">      3006</td></tr>\n",
       "</tbody>\n",
       "</table>"
      ],
      "text/plain": [
       "'<table>\\n<thead>\\n<tr><th>           </th><th style=\"text-align: right;\">  Actual 1</th><th style=\"text-align: right;\">  Actual 0</th></tr>\\n</thead>\\n<tbody>\\n<tr><td>Predicted 1</td><td style=\"text-align: right;\">       462</td><td style=\"text-align: right;\">       166</td></tr>\\n<tr><td>Predicted 0</td><td style=\"text-align: right;\">       541</td><td style=\"text-align: right;\">      3006</td></tr>\\n</tbody>\\n</table>'"
      ]
     },
     "execution_count": 43,
     "metadata": {},
     "output_type": "execute_result"
    }
   ],
   "source": [
    "binary_confusion_matrix(final)"
   ]
  },
  {
   "cell_type": "markdown",
   "id": "1c8c6a23-e622-48ea-b188-f34c8968f359",
   "metadata": {},
   "source": [
    "We still have a slight issue with identifying true positives, but it's an improvement from the \"all-in\" model when we started. Let's look at the classification metrics:"
   ]
  },
  {
   "cell_type": "code",
   "execution_count": 44,
   "id": "d7ea3be4-d94c-4e96-9987-ee26dbf707db",
   "metadata": {},
   "outputs": [
    {
     "data": {
      "text/html": [
       "<table>\n",
       "<thead>\n",
       "<tr><th>Metrics       </th><th style=\"text-align: right;\">   Result</th></tr>\n",
       "</thead>\n",
       "<tbody>\n",
       "<tr><td>Accuracy      </td><td style=\"text-align: right;\">0.830659 </td></tr>\n",
       "<tr><td>Error Rate    </td><td style=\"text-align: right;\">0.169341 </td></tr>\n",
       "<tr><td>Sensitivity   </td><td style=\"text-align: right;\">0.460618 </td></tr>\n",
       "<tr><td>False Negative</td><td style=\"text-align: right;\">0.539382 </td></tr>\n",
       "<tr><td>Specificity   </td><td style=\"text-align: right;\">0.947667 </td></tr>\n",
       "<tr><td>False Positive</td><td style=\"text-align: right;\">0.0523329</td></tr>\n",
       "<tr><td>Precision     </td><td style=\"text-align: right;\">0.735669 </td></tr>\n",
       "<tr><td>F1            </td><td style=\"text-align: right;\">0.566524 </td></tr>\n",
       "</tbody>\n",
       "</table>"
      ],
      "text/plain": [
       "'<table>\\n<thead>\\n<tr><th>Metrics       </th><th style=\"text-align: right;\">   Result</th></tr>\\n</thead>\\n<tbody>\\n<tr><td>Accuracy      </td><td style=\"text-align: right;\">0.830659 </td></tr>\\n<tr><td>Error Rate    </td><td style=\"text-align: right;\">0.169341 </td></tr>\\n<tr><td>Sensitivity   </td><td style=\"text-align: right;\">0.460618 </td></tr>\\n<tr><td>False Negative</td><td style=\"text-align: right;\">0.539382 </td></tr>\\n<tr><td>Specificity   </td><td style=\"text-align: right;\">0.947667 </td></tr>\\n<tr><td>False Positive</td><td style=\"text-align: right;\">0.0523329</td></tr>\\n<tr><td>Precision     </td><td style=\"text-align: right;\">0.735669 </td></tr>\\n<tr><td>F1            </td><td style=\"text-align: right;\">0.566524 </td></tr>\\n</tbody>\\n</table>'"
      ]
     },
     "execution_count": 44,
     "metadata": {},
     "output_type": "execute_result"
    }
   ],
   "source": [
    "binary_confusion_matrix(final, metrics=True)"
   ]
  },
  {
   "cell_type": "markdown",
   "id": "0251eb86-a9a8-487d-b882-f5beb3c32cae",
   "metadata": {},
   "source": [
    "Compared to model #6, we have increased sensitivity (0.45 to 0.46), increased precision (0.73 to 0.74), and a negligible increase in specificity. The false negative rate has decreased from 0.55 to 0.54 and the false positive rate has decreased from 0.06 to 0.05, so we have better classification accuracy. Still, this model is only able to identify cases where patients may die from Covid-19 *half the time*."
   ]
  },
  {
   "cell_type": "markdown",
   "id": "52a41d96-3741-4492-87fa-145e866acaae",
   "metadata": {
    "tags": []
   },
   "source": [
    "<a id=\"3\"></a>\n",
    "## Evaluating the Final Model"
   ]
  },
  {
   "cell_type": "markdown",
   "id": "440b4df3-678b-48c5-aa6c-7f1fc9374b7e",
   "metadata": {},
   "source": [
    "<a id=\"3a\"></a>\n",
    "### Cross Validation\n",
    "\n",
    "[Back to Contents](#00)"
   ]
  },
  {
   "cell_type": "markdown",
   "id": "52260093-cbc8-4133-b4c5-107afddfd607",
   "metadata": {},
   "source": [
    "One of the methods we will use to evaluate the final model is K-Fold cross validation. For our case, we will perform three rounds of 10-fold cross validation and estimate the *error rate* and the *Efron's $R^2$*. We will use two helper functions, as follows:"
   ]
  },
  {
   "cell_type": "code",
   "execution_count": 45,
   "id": "f930afb2-6f3a-4858-82cc-219a82693e7d",
   "metadata": {},
   "outputs": [],
   "source": [
    "def chunk(xs, n):\n",
    "    k, m = divmod(len(xs), n)\n",
    "    return [xs[i * k + min(i, m):(i + 1) * k + min(i + 1, m)] for i in range(n)]"
   ]
  },
  {
   "cell_type": "code",
   "execution_count": 46,
   "id": "8209dbed-b21d-4149-8678-0785e6d617f9",
   "metadata": {},
   "outputs": [],
   "source": [
    "def cross_validation(algorithm, formula, data, evaluate, fold_count=10, repetitions=3):\n",
    "    indices = list(range(len( data)))\n",
    "    metrics = []\n",
    "    for _ in range(repetitions):\n",
    "        random.shuffle(indices)\n",
    "        folds = chunk(indices, fold_count)\n",
    "        for fold in folds:\n",
    "            test_data = data.iloc[fold]\n",
    "            train_indices = [idx not in fold for idx in indices]\n",
    "            train_data = data.iloc[train_indices]\n",
    "            result = algorithm(formula, data=train_data)\n",
    "            model = result[\"model\"]\n",
    "            y, X = patsy.dmatrices(formula, test_data, return_type=\"matrix\")\n",
    "            y = np.ravel( y) # might need for logistic regression\n",
    "            results = models.summarize(formula, X, y, model, style='logistic')\n",
    "            metric = evaluate(results)\n",
    "            metrics.append(metric)\n",
    "    return metrics"
   ]
  },
  {
   "cell_type": "markdown",
   "id": "47d32c6b-acf5-49d0-860a-8c0dba90ff07",
   "metadata": {},
   "source": [
    "Using the helper functions, we can generate the cross validation results:"
   ]
  },
  {
   "cell_type": "code",
   "execution_count": 47,
   "id": "8101e5c4-3712-4391-a5a0-d57b54a0f886",
   "metadata": {},
   "outputs": [],
   "source": [
    "cv_result = cross_validation(models.logistic_regression, formula, data, lambda r: (r[\"sigma\"], r[\"r_squared\"]))"
   ]
  },
  {
   "cell_type": "markdown",
   "id": "c2bab092-fd5c-4bce-a864-f39344f3becb",
   "metadata": {},
   "source": [
    "The results consist of *30 estimates* for each metric, the error rate and Efron's $R^2$. We can use these results to estimate the credible bounds:"
   ]
  },
  {
   "cell_type": "code",
   "execution_count": 48,
   "id": "dbc2b896-9052-4f17-aae3-6d944c594a0d",
   "metadata": {},
   "outputs": [
    {
     "name": "stdout",
     "output_type": "stream",
     "text": [
      "95% CI for error rate: [14.35940243 19.18465228]\n"
     ]
    }
   ],
   "source": [
    "print(r\"95% CI for error rate:\", stats.mstats.mquantiles([r[0] for r in cv_result], [0.025, 0.975]))"
   ]
  },
  {
   "cell_type": "code",
   "execution_count": 49,
   "id": "b7962fd0-8aab-4423-bf3f-5f507f98b751",
   "metadata": {},
   "outputs": [
    {
     "name": "stdout",
     "output_type": "stream",
     "text": [
      "95% CI for Efron's R^2: [0.19665994 0.39666003]\n"
     ]
    }
   ],
   "source": [
    "print(r\"95% CI for Efron's R^2:\", stats.mstats.mquantiles([r[1] for r in cv_result], [0.025, 0.975]))"
   ]
  },
  {
   "cell_type": "markdown",
   "id": "75ee28df-7921-4a8e-a24d-d94a8517d067",
   "metadata": {},
   "source": [
    "There is a 95% probability that the error rate falls between 14.36% and 19.19% and a 95% probability that the Efron's $R^2$ falls between 0.20 and 0.40, given the data and the priors. These results simulate how the model would perform if it was used on data that was not used to train it.\n",
    "\n",
    "Another use case of the cross validation results is to estimate the *average performance* of the model. To do this, we will calculate the *mean* metrics and find their 95% credible intervals. "
   ]
  },
  {
   "cell_type": "code",
   "execution_count": 50,
   "id": "0422cb8c-7055-4c13-9536-bc8392f2f92b",
   "metadata": {},
   "outputs": [],
   "source": [
    "sigmas = [r[0] for r in cv_result]\n",
    "r_squareds = [r[1] for r in cv_result]"
   ]
  },
  {
   "cell_type": "code",
   "execution_count": 51,
   "id": "9027cd33-53e3-435a-b1a5-e15053e37c22",
   "metadata": {},
   "outputs": [
    {
     "name": "stdout",
     "output_type": "stream",
     "text": [
      "mean error rate:  17.229412642135095\n",
      "mean Efron's R^2:  0.30581434151306913\n"
     ]
    }
   ],
   "source": [
    "print(\"mean error rate: \", np.mean(sigmas))\n",
    "print(\"mean Efron's R^2: \", np.mean(r_squareds))"
   ]
  },
  {
   "cell_type": "markdown",
   "id": "e13923f4-379c-4439-b3e9-cf3e015eee8d",
   "metadata": {},
   "source": [
    "To start, we have an estimated mean error rate of 17.23% and an estimated mean Efron's $R^2$ of 0.31. Now, let's generate bootstrap estimates and find the 95% credible intervals for the *mean* metrics:"
   ]
  },
  {
   "cell_type": "code",
   "execution_count": 52,
   "id": "2bd042a6-37f3-41b9-af3b-e49e973881f7",
   "metadata": {},
   "outputs": [],
   "source": [
    "def resample(data):\n",
    "    n = len(data)\n",
    "    return [data[ i] for i in [stats.randint.rvs(0, n - 1) for _ in range( 0, n)]]"
   ]
  },
  {
   "cell_type": "code",
   "execution_count": 53,
   "id": "962009e4-664c-475f-b738-465918aa5c59",
   "metadata": {},
   "outputs": [],
   "source": [
    "bootstrap = {}\n",
    "bootstrap[\"sigma\"] = np.array([np.mean(s) for s in [resample(sigmas) for i in range( 0, 1000)]])\n",
    "bootstrap[\"r_squared\"] = np.array([np.mean(r) for r in [resample(r_squareds) for i in range( 0, 1000)]])"
   ]
  },
  {
   "cell_type": "code",
   "execution_count": 54,
   "id": "73497cf7-50f9-42dc-96f5-fe16ec852632",
   "metadata": {},
   "outputs": [
    {
     "name": "stdout",
     "output_type": "stream",
     "text": [
      "95% CI for *mean* error rate: [16.69603829 17.67317084]\n"
     ]
    }
   ],
   "source": [
    "print(r\"95% CI for *mean* error rate:\", stats.mstats.mquantiles(bootstrap[\"sigma\"], [0.025, 0.975]))"
   ]
  },
  {
   "cell_type": "code",
   "execution_count": 55,
   "id": "6a7104fb-2894-42a6-92ad-f80393358792",
   "metadata": {},
   "outputs": [
    {
     "name": "stdout",
     "output_type": "stream",
     "text": [
      "95% CI for *mean* Efron's R^2: [0.293155   0.32323162]\n"
     ]
    }
   ],
   "source": [
    "print(r\"95% CI for *mean* Efron's R^2:\", stats.mstats.mquantiles(bootstrap[\"r_squared\"], [0.025, 0.975]))"
   ]
  },
  {
   "cell_type": "markdown",
   "id": "6b6c49bd-a310-4a5b-af51-5f64b78dbf97",
   "metadata": {},
   "source": [
    "There is a 95% probability that the *mean* error rate is between 16.70% and 17.67% and there is a 95% probability that the *mean* Efron's $R^2$ falls between 0.29 and 0.32, given the data and the priors. "
   ]
  },
  {
   "cell_type": "markdown",
   "id": "a0857943-99ca-43f9-8991-d172ab219c35",
   "metadata": {},
   "source": [
    "<a id=\"3b\"></a>\n",
    "### Learning Curves\n",
    "\n",
    "[Back to Contents](#00)"
   ]
  },
  {
   "cell_type": "markdown",
   "id": "7739bcfd-de4c-41a2-bc6d-da9751239fe0",
   "metadata": {},
   "source": [
    "Another evaluation technique we can implement is learning curves, which can indicate if more data would benefit the model. First, we will use the following helper functions to generate the learning curve data:"
   ]
  },
  {
   "cell_type": "code",
   "execution_count": 56,
   "id": "93c476f9-9012-4e8d-804b-ae72cb5d6c67",
   "metadata": {},
   "outputs": [],
   "source": [
    "def data_collection():\n",
    "    result = dict()\n",
    "    result[ \"train\"] = defaultdict( list)\n",
    "    result[ \"test\"] = defaultdict( list)\n",
    "    return result"
   ]
  },
  {
   "cell_type": "code",
   "execution_count": 57,
   "id": "b3c30620-8577-432e-800f-80fa725b159a",
   "metadata": {},
   "outputs": [],
   "source": [
    " def learning_curves(algorithm, formula, data, evaluate, fold_count=10, repetitions=3, increment=1):\n",
    "    indices = list(range(len( data)))\n",
    "    results = data_collection()\n",
    "    for _ in range(repetitions):\n",
    "        random.shuffle(indices)\n",
    "        folds = chunk(indices, fold_count)\n",
    "        for fold in folds:\n",
    "            test_data = data.iloc[ fold]\n",
    "            train_indices = [idx for idx in indices if idx not in fold]\n",
    "            train_data = data.iloc[train_indices]\n",
    "            for i in list(range(increment, 100, increment)) + [100]: # ensures 100% is always picked.\n",
    "                # the indices are already shuffled so we only need to take ever increasing chunks\n",
    "                train_chunk_size = int( np.ceil((i/100)*len( train_indices)))\n",
    "                train_data_chunk = data.iloc[train_indices[0:train_chunk_size]]\n",
    "                # we calculate the model\n",
    "                result = algorithm(formula, data=train_data_chunk)\n",
    "                model = result[\"model\"]\n",
    "                # we calculate the results for the training data subset\n",
    "                y, X = patsy.dmatrices( formula, train_data_chunk, return_type=\"matrix\")\n",
    "                y = np.ravel( y)\n",
    "                result = models.summarize(formula, X, y, model, style = 'logistic')\n",
    "                metric = evaluate(result)\n",
    "                results[\"train\"][i].append( metric)\n",
    "                \n",
    "                # we calculate the results for the test data.\n",
    "                y, X = patsy.dmatrices( formula, test_data, return_type=\"matrix\")\n",
    "                y = np.ravel( y)\n",
    "                result = models.summarize(formula, X, y, model, style='logistic')\n",
    "                metric = evaluate(result)\n",
    "                results[\"test\"][i].append( metric)\n",
    "            #\n",
    "        #\n",
    "    # process results\n",
    "    # Rely on the CLT...\n",
    "    statistics = {}\n",
    "    for k, v in results[\"train\"].items():\n",
    "        statistics[ k] = (np.mean(v), np.std(v))\n",
    "    results[\"train\"] = statistics\n",
    "    statistics = {}\n",
    "    for k, v in results[\"test\"].items():\n",
    "        statistics[ k] = (np.mean(v), np.std(v))\n",
    "    results[\"test\"] = statistics\n",
    "    return results\n",
    "#"
   ]
  },
  {
   "cell_type": "markdown",
   "id": "e3bafd43-f19b-4a24-b137-91a486bbdbc8",
   "metadata": {},
   "source": [
    "Now, we can generate the learning curve data using the functions as follows:"
   ]
  },
  {
   "cell_type": "code",
   "execution_count": 58,
   "id": "b7986142-35b3-48a2-a94c-6b09d6028d1d",
   "metadata": {},
   "outputs": [],
   "source": [
    "lc_result = learning_curves(models.logistic_regression, formula, data, lambda r: r[\"sigma\"])"
   ]
  },
  {
   "cell_type": "markdown",
   "id": "9c88d107-fa17-4e3d-a16e-631f92733a74",
   "metadata": {},
   "source": [
    "The next step is to visualize the learning curve results, which we can do with the following helper functions:"
   ]
  },
  {
   "cell_type": "code",
   "execution_count": 59,
   "id": "b4657526-b058-4363-939c-100c4c05c179",
   "metadata": {},
   "outputs": [],
   "source": [
    "def results_to_curves( curve, results):\n",
    "    all_statistics = results[ curve]\n",
    "    keys = list( all_statistics.keys())\n",
    "    keys.sort()\n",
    "    mean = []\n",
    "    upper = []\n",
    "    lower = []\n",
    "    for k in keys:\n",
    "        m, s = all_statistics[ k]\n",
    "        mean.append( m)\n",
    "        upper.append( m + 2 * s)\n",
    "        lower.append( m - 2 * s)\n",
    "    return keys, lower, mean, upper"
   ]
  },
  {
   "cell_type": "code",
   "execution_count": 60,
   "id": "0e83ae81-d8d2-440f-97f4-09c9843eeada",
   "metadata": {},
   "outputs": [],
   "source": [
    "def plot_learning_curves( results, metric, zoom=False):\n",
    "    figure = plt.figure(figsize=(10,6))\n",
    "\n",
    "    axes = figure.add_subplot(1, 1, 1)\n",
    "\n",
    "    xs, train_lower, train_mean, train_upper = results_to_curves( \"train\", results)\n",
    "    _, test_lower, test_mean, test_upper = results_to_curves( \"test\", results)\n",
    "\n",
    "    axes.plot( xs, train_mean, color=\"steelblue\")\n",
    "    axes.fill_between( xs, train_upper, train_lower, color=\"steelblue\", alpha=0.25, label=\"train\")\n",
    "    axes.plot( xs, test_mean, color=\"firebrick\")\n",
    "    axes.fill_between( xs, test_upper, test_lower, color=\"firebrick\", alpha=0.25, label=\"test\")\n",
    "    axes.legend()\n",
    "    axes.set_xlabel( \"training set (%)\")\n",
    "    axes.set_ylabel( metric)\n",
    "    axes.set_title(\"Learning Curves\")\n",
    "\n",
    "    if zoom:\n",
    "        y_lower = int( 0.9 * np.amin([train_lower[-1], test_lower[-1]]))\n",
    "        y_upper = int( 1.1 * np.amax([train_upper[-1], test_upper[-1]]))\n",
    "        axes.set_ylim((y_lower, y_upper))\n",
    "\n",
    "    plt.show()\n",
    "    plt.close()"
   ]
  },
  {
   "cell_type": "markdown",
   "id": "0e41a5b2-bbba-47f6-bcf9-a35eaf0d5e27",
   "metadata": {},
   "source": [
    "We can plot the results as follows:"
   ]
  },
  {
   "cell_type": "code",
   "execution_count": 61,
   "id": "faca9f79-339c-47e4-83cb-99f67f06475e",
   "metadata": {},
   "outputs": [
    {
     "data": {
      "image/png": "[encoded data removed]",
      "text/plain": [
       "<Figure size 720x432 with 1 Axes>"
      ]
     },
     "metadata": {},
     "output_type": "display_data"
    }
   ],
   "source": [
    "plot_learning_curves(lc_result, r\"$\\sigma$\")"
   ]
  },
  {
   "cell_type": "markdown",
   "id": "4a22eb9d-cf88-4f8b-b47e-88249edc5ce7",
   "metadata": {},
   "source": [
    "Based on the learning curves, the train and test curves are appear well converged, so more data will not improve the model. However, it may be helpful to \"zoom\" in before making any conclusions. "
   ]
  },
  {
   "cell_type": "code",
   "execution_count": 62,
   "id": "36b33553-ea36-4e09-a0e8-de68c5cfee5b",
   "metadata": {},
   "outputs": [
    {
     "data": {
      "image/png": "[encoded data removed]",
      "text/plain": [
       "<Figure size 720x432 with 1 Axes>"
      ]
     },
     "metadata": {},
     "output_type": "display_data"
    }
   ],
   "source": [
    "plot_learning_curves(lc_result, r\"$\\sigma$\", zoom=True)"
   ]
  },
  {
   "cell_type": "markdown",
   "id": "ba9ef70d-31db-40b9-aa89-3b06e2207723",
   "metadata": {},
   "source": [
    "We don't seem to be dealing with a high variance situation, if the difference between the curves is not significant for our *application*. I do not think a less than 1% difference in error rate is very significant, so we can say we are not dealing with high variance. \n",
    "\n",
    "Is the error rate tolerable? Based on where the train and test curves converge, we can expect our model to have an error rate around 17%. In other words, the train and test curves converge where the accuracy of the model is around 83%. Determining if this is high bias depends on if we can live with that error. The main issue with our model is that it can efficiently identify true negatives but only predicts true positives *half the time*. If that is an issue for our *application*, we would say we are dealing with a high bias situation since this level of error for our model is significant. If we deem that the error is not significant, or we only care about identifying patients that will survived, then we are not dealing with a high bias situation. Lastly, if we refer back to the null model, the error rate was 76%. In comparison to the null model, we are not dealing with a high bias scenario."
   ]
  },
  {
   "cell_type": "markdown",
   "id": "432e2eca-6938-4037-a064-9a8b0c35f229",
   "metadata": {},
   "source": [
    "<a id=\"4\"></a>\n",
    "## Describe the Final Linear Model\n",
    "\n",
    "[Back to Contents](#00)"
   ]
  },
  {
   "cell_type": "markdown",
   "id": "3aa843da-f71e-4788-8e41-1c741bae53ff",
   "metadata": {},
   "source": [
    "We can define our final model as follows:\n",
    "\n",
    "$\n",
    "\\begin{align}\n",
    "P(\\hat{death}=1) = logistic^{-1}(\\beta_0 + & \\beta_1 age + \\beta_2 chd + \\beta_3 copd + \\beta_4 cns + \\beta_5 renal + \\beta_6 stroke + \\beta_7 OSat + \\beta_8 map + \\beta_9 dimer  \\\\\n",
    "+ & \\beta_{10} + platelets + \\beta_{11} creatinine + \\beta_{12} sodium + \\beta_{13} ast~alt + \\beta_{14} c~reactive~protein \\\\\n",
    "+ & \\beta_{15} procalcitonin + \\beta_{16} tropinin + \\beta_{17} length~of~stay + \\beta_{18} creatinine:renal) \\\\\n",
    "\\end{align}\n",
    "$"
   ]
  },
  {
   "cell_type": "markdown",
   "id": "4036d9af-a7bf-4432-9d77-5dcc390de32b",
   "metadata": {},
   "source": [
    "We can use the divide by four rule, which is implemented in the bootstrap logistic function, to interpret the coefficients."
   ]
  },
  {
   "cell_type": "code",
   "execution_count": 63,
   "id": "b643bc42-68b8-4d2e-a753-62f790fa5140",
   "metadata": {},
   "outputs": [
    {
     "data": {
      "text/html": [
       "<p><strong>Model: death ~ age + congestive_heart_disease + chronic_obstructive_pulmonary_disease + all_central_nervous_system_disease + renal_disease                 + stroke + oxygen_saturation + mean_arterial_pressure + D_dimer + platelets + creatinine_log                 + sodium + AST_ALT + C_reactive_protein + procalcitonin + troponin_sq + length_of_stay + creatinine_log:renal_disease</strong><br/><table>\n",
       "<tbody>\n",
       "<tr><td>                                     </td><td>                     </td><td>                     </td><td><strong>95% BCI</strong</td><td>                   </td><td>                       </td></tr>\n",
       "<tr><td><strong>Coefficients</strong        </td><td>                     </td><td><strong>Mean</strong</td><td><strong>Lo</strong     </td><td><strong>Hi</strong</td><td><strong>P(y=1)</strong</td></tr>\n",
       "<tr><td>                                     </td><td>$\\beta_{0}$          </td><td>0.0033               </td><td>-0.0099                 </td><td>0.0132             </td><td>0.5008                 </td></tr>\n",
       "<tr><td>age                                  </td><td>$\\beta_{1}$          </td><td>0.0467               </td><td>0.0397                  </td><td>0.0543             </td><td>0.0117                 </td></tr>\n",
       "<tr><td>congestive_heart_disease             </td><td>$\\beta_{2}$          </td><td>0.0066               </td><td>-0.0640                 </td><td>0.0770             </td><td>0.0017                 </td></tr>\n",
       "<tr><td>chronic_obstructive_pulmonary_disease</td><td>$\\beta_{3}$          </td><td>0.0213               </td><td>-0.0333                 </td><td>0.0685             </td><td>0.0053                 </td></tr>\n",
       "<tr><td>all_central_nervous_system_disease   </td><td>$\\beta_{4}$          </td><td>0.1011               </td><td>0.0112                  </td><td>0.1852             </td><td>0.0253                 </td></tr>\n",
       "<tr><td>renal_disease                        </td><td>$\\beta_{5}$          </td><td>0.1113               </td><td>0.0190                  </td><td>0.2658             </td><td>0.0278                 </td></tr>\n",
       "<tr><td>stroke                               </td><td>$\\beta_{6}$          </td><td>0.0497               </td><td>-0.0002                 </td><td>0.1005             </td><td>0.0124                 </td></tr>\n",
       "<tr><td>oxygen_saturation                    </td><td>$\\beta_{7}$          </td><td>-0.0399              </td><td>-0.0494                 </td><td>-0.0317            </td><td>-0.0100                </td></tr>\n",
       "<tr><td>mean_arterial_pressure               </td><td>$\\beta_{8}$          </td><td>-0.0424              </td><td>-0.0493                 </td><td>-0.0372            </td><td>-0.0106                </td></tr>\n",
       "<tr><td>D_dimer                              </td><td>$\\beta_{9}$          </td><td>0.0104               </td><td>-0.0040                 </td><td>0.0257             </td><td>0.0026                 </td></tr>\n",
       "<tr><td>platelets                            </td><td>$\\beta_{10}$         </td><td>-0.0017              </td><td>-0.0026                 </td><td>-0.0009            </td><td>-0.0004                </td></tr>\n",
       "<tr><td>creatinine_log                       </td><td>$\\beta_{11}$         </td><td>0.2919               </td><td>0.1515                  </td><td>0.3604             </td><td>0.0730                 </td></tr>\n",
       "<tr><td>sodium                               </td><td>$\\beta_{12}$         </td><td>0.0147               </td><td>0.0097                  </td><td>0.0216             </td><td>0.0037                 </td></tr>\n",
       "<tr><td>AST_ALT                              </td><td>$\\beta_{13}$         </td><td>0.2542               </td><td>0.1909                  </td><td>0.3851             </td><td>0.0635                 </td></tr>\n",
       "<tr><td>C_reactive_protein                   </td><td>$\\beta_{14}$         </td><td>0.0206               </td><td>0.0123                  </td><td>0.0274             </td><td>0.0052                 </td></tr>\n",
       "<tr><td>procalcitonin                        </td><td>$\\beta_{15}$         </td><td>0.0225               </td><td>0.0106                  </td><td>0.0380             </td><td>0.0056                 </td></tr>\n",
       "<tr><td>troponin_sq                          </td><td>$\\beta_{16}$         </td><td>0.2972               </td><td>0.0704                  </td><td>0.4691             </td><td>0.0743                 </td></tr>\n",
       "<tr><td>length_of_stay                       </td><td>$\\beta_{17}$         </td><td>0.0357               </td><td>0.0226                  </td><td>0.0465             </td><td>0.0089                 </td></tr>\n",
       "<tr><td>creatinine_log:renal_disease         </td><td>$\\beta_{18}$         </td><td>0.1719               </td><td>0.0548                  </td><td>0.3180             </td><td>0.0430                 </td></tr>\n",
       "<tr><td>                                     </td><td>                     </td><td>                     </td><td>                        </td><td>                   </td><td>                       </td></tr>\n",
       "<tr><td><strong>Metrics</strong             </td><td><strong>Mean</strong</td><td><strong>Lo</strong  </td><td><strong>Hi</strong     </td><td>                   </td><td>                       </td></tr>\n",
       "<tr><td>Error (%)                            </td><td>16.9341              </td><td>15.8802              </td><td>18.3804                 </td><td>                   </td><td>                       </td></tr>\n",
       "<tr><td>Efron&#x27;s $R^2$                        </td><td>0.3098               </td><td>0.2764               </td><td>0.3462                  </td><td>                   </td><td>                       </td></tr>\n",
       "</tbody>\n",
       "</table></p>"
      ],
      "text/latex": [
       "\\textbf{Model: death \\(\\sim\\) age + congestive\\_heart\\_disease + chronic\\_obstructive\\_pulmonary\\_disease + all\\_central\\_nervous\\_system\\_disease + renal\\_disease                 + stroke + oxygen\\_saturation + mean\\_arterial\\_pressure + D\\_dimer + platelets + creatinine\\_log                 + sodium + AST\\_ALT + C\\_reactive\\_protein + procalcitonin + troponin\\_sq + length\\_of\\_stay + creatinine\\_log:renal\\_disease}\n",
       "\n",
       "\\begin{tabular}{llllll}\n",
       "\\toprule\n",
       "                                          &                &               & \\textbf{95\\% BCI} &             &                 \\\\\n",
       " \\textbf{Coefficients}                    &                & \\textbf{Mean} & \\textbf{Lo}      & \\textbf{Hi} & \\textbf{P(y=1)} \\\\\n",
       "                                          & \\(\\beta_{0}\\)  & 0.0033        & -0.0099          & 0.0132      & 0.5008          \\\\\n",
       " age                                      & \\(\\beta_{1}\\)  & 0.0467        & 0.0397           & 0.0543      & 0.0117          \\\\\n",
       " congestive\\_heart\\_disease               & \\(\\beta_{2}\\)  & 0.0066        & -0.0640          & 0.0770      & 0.0017          \\\\\n",
       " chronic\\_obstructive\\_pulmonary\\_disease & \\(\\beta_{3}\\)  & 0.0213        & -0.0333          & 0.0685      & 0.0053          \\\\\n",
       " all\\_central\\_nervous\\_system\\_disease   & \\(\\beta_{4}\\)  & 0.1011        & 0.0112           & 0.1852      & 0.0253          \\\\\n",
       " renal\\_disease                           & \\(\\beta_{5}\\)  & 0.1113        & 0.0190           & 0.2658      & 0.0278          \\\\\n",
       " stroke                                   & \\(\\beta_{6}\\)  & 0.0497        & -0.0002          & 0.1005      & 0.0124          \\\\\n",
       " oxygen\\_saturation                       & \\(\\beta_{7}\\)  & -0.0399       & -0.0494          & -0.0317     & -0.0100         \\\\\n",
       " mean\\_arterial\\_pressure                 & \\(\\beta_{8}\\)  & -0.0424       & -0.0493          & -0.0372     & -0.0106         \\\\\n",
       " D\\_dimer                                 & \\(\\beta_{9}\\)  & 0.0104        & -0.0040          & 0.0257      & 0.0026          \\\\\n",
       " platelets                                & \\(\\beta_{10}\\) & -0.0017       & -0.0026          & -0.0009     & -0.0004         \\\\\n",
       " creatinine\\_log                          & \\(\\beta_{11}\\) & 0.2919        & 0.1515           & 0.3604      & 0.0730          \\\\\n",
       " sodium                                   & \\(\\beta_{12}\\) & 0.0147        & 0.0097           & 0.0216      & 0.0037          \\\\\n",
       " AST\\_ALT                                 & \\(\\beta_{13}\\) & 0.2542        & 0.1909           & 0.3851      & 0.0635          \\\\\n",
       " C\\_reactive\\_protein                     & \\(\\beta_{14}\\) & 0.0206        & 0.0123           & 0.0274      & 0.0052          \\\\\n",
       " procalcitonin                            & \\(\\beta_{15}\\) & 0.0225        & 0.0106           & 0.0380      & 0.0056          \\\\\n",
       " troponin\\_sq                             & \\(\\beta_{16}\\) & 0.2972        & 0.0704           & 0.4691      & 0.0743          \\\\\n",
       " length\\_of\\_stay                         & \\(\\beta_{17}\\) & 0.0357        & 0.0226           & 0.0465      & 0.0089          \\\\\n",
       " creatinine\\_log:renal\\_disease           & \\(\\beta_{18}\\) & 0.1719        & 0.0548           & 0.3180      & 0.0430          \\\\\n",
       "                                          &                &               &                  &             &                 \\\\\n",
       " \\textbf{Metrics}                         & \\textbf{Mean}  & \\textbf{Lo}   & \\textbf{Hi}      &             &                 \\\\\n",
       " Error (\\%)                                & 16.9341        & 15.8802       & 18.3804          &             &                 \\\\\n",
       " Efron's \\(R^2\\)                          & 0.3098         & 0.2764        & 0.3462           &             &                 \\\\\n",
       "\\bottomrule\n",
       "\\end{tabular}"
      ],
      "text/markdown": [
       "Model: death ~ age + congestive_heart_disease + chronic_obstructive_pulmonary_disease + all_central_nervous_system_disease + renal_disease                 + stroke + oxygen_saturation + mean_arterial_pressure + D_dimer + platelets + creatinine_log                 + sodium + AST_ALT + C_reactive_protein + procalcitonin + troponin_sq + length_of_stay + creatinine_log:renal_disease\n",
       "|---------------------------------------|--------------|----------|-------------|---------|------------|\n",
       "|                                       |              |          | **95% BCI** |         |            |\n",
       "| **Coefficients**                      |              | **Mean** | **Lo**      | **Hi**  | **P(y=1)** |\n",
       "|                                       | $\\beta_{0}$  | 0.0033   | -0.0099     | 0.0132  | 0.5008     |\n",
       "| age                                   | $\\beta_{1}$  | 0.0467   | 0.0397      | 0.0543  | 0.0117     |\n",
       "| congestive_heart_disease              | $\\beta_{2}$  | 0.0066   | -0.0640     | 0.0770  | 0.0017     |\n",
       "| chronic_obstructive_pulmonary_disease | $\\beta_{3}$  | 0.0213   | -0.0333     | 0.0685  | 0.0053     |\n",
       "| all_central_nervous_system_disease    | $\\beta_{4}$  | 0.1011   | 0.0112      | 0.1852  | 0.0253     |\n",
       "| renal_disease                         | $\\beta_{5}$  | 0.1113   | 0.0190      | 0.2658  | 0.0278     |\n",
       "| stroke                                | $\\beta_{6}$  | 0.0497   | -0.0002     | 0.1005  | 0.0124     |\n",
       "| oxygen_saturation                     | $\\beta_{7}$  | -0.0399  | -0.0494     | -0.0317 | -0.0100    |\n",
       "| mean_arterial_pressure                | $\\beta_{8}$  | -0.0424  | -0.0493     | -0.0372 | -0.0106    |\n",
       "| D_dimer                               | $\\beta_{9}$  | 0.0104   | -0.0040     | 0.0257  | 0.0026     |\n",
       "| platelets                             | $\\beta_{10}$ | -0.0017  | -0.0026     | -0.0009 | -0.0004    |\n",
       "| creatinine_log                        | $\\beta_{11}$ | 0.2919   | 0.1515      | 0.3604  | 0.0730     |\n",
       "| sodium                                | $\\beta_{12}$ | 0.0147   | 0.0097      | 0.0216  | 0.0037     |\n",
       "| AST_ALT                               | $\\beta_{13}$ | 0.2542   | 0.1909      | 0.3851  | 0.0635     |\n",
       "| C_reactive_protein                    | $\\beta_{14}$ | 0.0206   | 0.0123      | 0.0274  | 0.0052     |\n",
       "| procalcitonin                         | $\\beta_{15}$ | 0.0225   | 0.0106      | 0.0380  | 0.0056     |\n",
       "| troponin_sq                           | $\\beta_{16}$ | 0.2972   | 0.0704      | 0.4691  | 0.0743     |\n",
       "| length_of_stay                        | $\\beta_{17}$ | 0.0357   | 0.0226      | 0.0465  | 0.0089     |\n",
       "| creatinine_log:renal_disease          | $\\beta_{18}$ | 0.1719   | 0.0548      | 0.3180  | 0.0430     |\n",
       "|                                       |              |          |             |         |            |\n",
       "| **Metrics**                           | **Mean**     | **Lo**   | **Hi**      |         |            |\n",
       "| Error (%)                             | 16.9341      | 15.8802  | 18.3804     |         |            |\n",
       "| Efron's $R^2$                         | 0.3098       | 0.2764   | 0.3462      |         |            |"
      ],
      "text/plain": [
       "<models.ResultsWrapper at 0xffff88efddf0>"
      ]
     },
     "execution_count": 63,
     "metadata": {},
     "output_type": "execute_result"
    }
   ],
   "source": [
    "models.describe_bootstrap_lgr(final, sd=4)"
   ]
  },
  {
   "cell_type": "markdown",
   "id": "f1468330-1b48-456f-9a75-49dc7a717915",
   "metadata": {},
   "source": [
    "- $\\beta_1$: For every one year increase in a patients age, the *log odds* of death increases by 0.0467. The coefficient sign is *expected* and is strongly supported by the 95% BCI. Using the *divide by four* rule, the probability of death, or $P(death = 1)$, increases by 1.17 percentage points for each year increase. \n",
    "\n",
    "- $\\beta_2$: When a patient has congestive heart disease, the *log odds* of death increases by 0.0066. The coefficient sign is *expected* and has mixed support from the data based on the 95% credible interval. Using the *divide by four* rule, the probability of death, or $P(death = 1)$, increases by 0.17 percentage points when a patient has congestive heart disease. \n",
    "\n",
    "- $\\beta_3$: When a patient has COPD, the *log odds* of death increases by 0.0213. The coefficient sign is *expected* and has mixed support from the data. Using the *divide by four* rule, the probability of death, or $P(death = 1)$, increases by 0.53 percentage points when a patient has chronic obstructive pulmonary disease. \n",
    "\n",
    "- $\\beta_4$: When a patient has a CNS disease, the *log odds* of death increases by 0.1011. The coefficient sign is *expected* and has strong support from the data. Using the *divide by four* rule, the probability of death, or $P(death = 1)$, increases by 2.53 percentage points when a patient has a central nervous system disease.\n",
    "\n",
    "- $\\beta_5$: When a patient has renal disease, and the creatinine level is unchanged, the *log odds* of death increases by 0.1113. The coefficient sign is *expected* and is strongly supported by the 95% BCI. Using the *divide by four* rule, the probability of death, or $P(death = 1)$, increases by 2.78 percentage points when a patient has a renal disease, and the creatinine level is unchanged or at \"zero\". \n",
    "\n",
    "- $\\beta_6$: When a patient has had a stroke, the *log odds* of death increases by 0.0497. The coefficient sign is *expected* and has strong support from the data. Using the *divide by four* rule, the probability of death, or $P(death = 1)$, increases by 1.24 percentage points when a patient has a stroke.\n",
    "\n",
    "- $\\beta_7$: When the oxygen saturation increases by one unit, the *log odds* of death decreases by -0.0399. The coefficient sign is *expected* and is strongly supported by the data. Using the *divide by four* rule, the probability of death, or $P(death = 1)$, decreases by 1.00 percentage points for each unit increase in oxygen saturation.\n",
    "\n",
    "- $\\beta_8$: For every one unit increase in MAP, the *log odds* of death decreases by -0.0424. The coefficient sign is *expected* and is strongly supported by the data. Using the *divide by four* rule, the probability of death, or $P(death = 1)$, decreases by 1.06 percentage points for each unit increase in mean arterial pressure. \n",
    "\n",
    "- $\\beta_9$: For every one unit increase in the D-dimer level, the *log odds* of death increases by 0.0104. The coefficient sign is *expected* and has mixed support from the data. Using the *divide by four* rule, the probability of death, or $P(death = 1)$, increases by 0.26 percentage points for each unit increase in D-dimer level.\n",
    "\n",
    "- $\\beta_{10}$: For every one unit increase in the platelet counts, the *log odds* of death decrease by -0.0017. The coefficient sign is *expected* and is strongly supported by the data. Using the *divide by four* rule, the probability of death, or $P(death = 1)$, decreases by 0.04 percentage points for each unit increase in D-dimer level.\n",
    "\n",
    "- $\\beta_{11}$: For every 1% increase in the creatinine level, when the patient does not have renal disease, the *log odds* of death increases by 0.2919. The coefficient sign is *expected* and is strongly supported by the data. Using the *divide by four* rule, the probability of death, or $P(death = 1)$, increases by 7.30 percentage points for every 1% increase in creatinine level, when the patient does not have renal disease.\n",
    "\n",
    "- $\\beta_{12}$: For every one unit increase in the sodium level, the *log odds* of death increases by 0.0147. The coefficient sign is *expected* and is strongly supported by the data. Using the *divide by four* rule, the probability of death, or $P(death = 1)$, increases by 0.37 percentage points for every one unit increase in sodium.\n",
    "\n",
    "- $\\beta_{13}$: For every one unit increase in the AST_ALT ratio, the *log odds* of death increases by 0.2542. The coefficient sign is *expected* and is strongly supported by the data. Using the *divide by four* rule, the probability of death, or $P(death = 1)$, increases by 6.35 percentage points for every one unit increase in the AST_ALT ratio.\n",
    "\n",
    "- $\\beta_{14}$: For every one unit increase in the c-reactive protein level, the *log odds* of death increases by 0.0206. The coefficient sign is *expected* and is strongly supported by the data, based on the 95% BCI. Using the *divide by four* rule, the probability of death, or $P(death = 1)$, increases by 0.52 percentage points for every one unit increase in the C-reactive protein level.\n",
    "\n",
    "- $\\beta_{15}$: For every one unit increase in the procalcitonin level, the *log odds* of death increases by 0.0225. The coefficient sign is *expected* and is strongly supported by the data. Using the *divide by four* rule, the probability of death, or $P(death = 1)$, increases by 0.56 percentage points for every one unit increase in the procalcitonin level.\n",
    "\n",
    "- $\\beta_{16}$: For every one unit increase in the troponin_sqaured level, the *log odds* of death increases by 0.2972. The coefficient sign is *expected* and is strongly supported by the data. Using the *divide by four* rule, the probability of death, or $P(death = 1)$, increases by 7.43 percentage points for every one unit increase in the troponin_squared level.\n",
    "\n",
    "- $\\beta_{17}$: For every addition day that a patient stays in the hospital for Covid-19, the *log odds* of death increases by 0.0357. The coefficient sign is *expected* and is strongly supported by the data. Using the *divide by four* rule, the probability of death, or $P(death = 1)$, increases by 0.89 percentage points for every additional day that a patient is in the hospital.\n",
    "\n",
    "- $\\beta_{18}$: For every 1% increase in the creatinine level, when the patient has renal disease, the *log odds* of death increases by 0.1719. The coefficient sign is *expected* and is strongly supported by the data. Using the *divide by four* rule, the probability of death, or $P(death = 1)$, increases by 4.30 percentage points for every 1% increase in creatinine level, when the patient has renal disease."
   ]
  },
  {
   "cell_type": "markdown",
   "id": "d3f8346a-3584-41ea-b145-10aeb26d5b8e",
   "metadata": {},
   "source": [
    "One of the machine learning techniques we used to evaluate the model was K-Fold Cross validation. First, we found that the mean error rate was 17.23% and the 95% BCI for the mean error rate was 16.70% to 17.67%, given the data and the priors. Second, we found that the mean Efron's $R^2$ was 0.31 and the 95% BCI for the mean Efron's $R^2$ was 0.29 to 0.32, given the data and the priors. These mean metrics and their corresponding intervals indicate the *average performance* that could be expected when using the linear model. \n",
    "\n",
    "The second machine learning technique used was learning curves. Based on the results, we are not dealing with a high variance scenario, since the test and train curves were pretty well converged. We may or may not be dealing with a high bias situation, depending on the accuracy needed for our *application*. Compared to the null model, which had an error rate of 76%, we have significantly improved our accuracy with the logistic regression model. Therefore, I would consider our error *manageable*, which means we are not dealing with a high bias scenario. Therefore, our model is neither under or overfitting, based on the learning curves. "
   ]
  },
  {
   "cell_type": "markdown",
   "id": "a41f7d0c-4a5f-4409-9eff-e3de1a2d6b9d",
   "metadata": {},
   "source": [
    "<a id=\"5\"></a>\n",
    "## Using the Linear Model\n",
    "\n",
    "[Back to Contents](#00)"
   ]
  },
  {
   "cell_type": "markdown",
   "id": "3837c767-f7b0-4b17-9e1b-22faefe23d1f",
   "metadata": {},
   "source": [
    "For each prediction, we will refer back to our null model for comparison:\n",
    "\n",
    "```\n",
    "P(death = 0) = 0.76\n",
    "P(death = 1) = 0.24 \n",
    "```"
   ]
  },
  {
   "cell_type": "markdown",
   "id": "bffab4c7-940f-4699-a714-2c0f507f94f3",
   "metadata": {},
   "source": [
    "***Let's say we have a 64 year old patient who has COPD and the following physical and blood panel results:***\n",
    "\n",
    "- OSat: 91%\n",
    "- MAP: 80 mm Hg\n",
    "- D-Dimer: 3.5 u/mL\n",
    "- platelets: 210 platelets/uL\n",
    "- creatinine: 1.9 mg/dL\n",
    "- sodium: 140 mEq/L\n",
    "- AST/ALT: 1.5\n",
    "- c-reactive protein: 8 mg/dL\n",
    "- procalcitonin: 1.3 ng/mL\n",
    "- troponin: 0.06 ng/mL\n",
    "- length of stay: 14 days\n",
    "\n",
    "We would expect this patient to survive, since most of their blood panel results are low compared to the mean levels found in patients who died from Covid-19."
   ]
  },
  {
   "cell_type": "code",
   "execution_count": 64,
   "id": "d834e079-55eb-4913-b00e-bdc3c5978369",
   "metadata": {},
   "outputs": [
    {
     "name": "stdout",
     "output_type": "stream",
     "text": [
      "Patient outcome: 0.0\n",
      "P(death = 0): 0.7350188540488497\n",
      "P(death = 1): 0.2649811459511503\n"
     ]
    }
   ],
   "source": [
    "pred1 = [1, 64, 0, 1, 0, 0, 0, 91, 80, 3.5, 210, np.log(1.9), 140, 1.5, 8, 1.3, (0.06 ** 2), 14, (np.log(1.9) * 0)]\n",
    "prediction1 = final[\"model\"].predict([pred1])\n",
    "prob1 = final[\"model\"].predict_proba([pred1])\n",
    "print(f\"Patient outcome: {prediction1[0]}\")\n",
    "print(f\"P(death = 0): {prob1[0][0]}\")\n",
    "print(f\"P(death = 1): {prob1[0][1]}\")"
   ]
  },
  {
   "cell_type": "markdown",
   "id": "a9ee4fb7-3774-4ea3-a298-c6871e5c7b64",
   "metadata": {},
   "source": [
    "Our model would classify this patient as *alive*, meaning they survived Covid-19, as we expected. If we refer to the probabilities, our model determined that there is a 73.50% chance that this patient would survive. In this case, our null model would have had a higher probability that the patient would have survived, at 76%. \n",
    "\n",
    "\n",
    "***Let's say we have a 40 year old patient who has renal disease and the following physical and blood panel results:***\n",
    "\n",
    "- OSat: 82%\n",
    "- MAP: 60 mm Hg\n",
    "- D-Dimer: 5.1 u/mL\n",
    "- platelets: 170 platelets/uL\n",
    "- creatinine: 4.3 mg/dL\n",
    "- sodium: 150 mEq/L\n",
    "- AST/ALT: 1.8\n",
    "- c-reactive protein: 17 mg/dL\n",
    "- procalcitonin: 3.1 ng/mL\n",
    "- troponin: 1.8 ng/mL\n",
    "- length of stay: 8 days\n",
    "\n",
    "We would expect this patient to die from Covid-19, since they present results aligning with severe kidney dysfunction and poor blood circulation in addition to their pre-existing renal disease. In addition, they show signs of heart muscle damage due to the elevated levels of troponin. "
   ]
  },
  {
   "cell_type": "code",
   "execution_count": 65,
   "id": "2c2f4d8d-ae33-4292-9d22-4e1358e4d2b7",
   "metadata": {},
   "outputs": [
    {
     "name": "stdout",
     "output_type": "stream",
     "text": [
      "Patient outcome: 1.0\n",
      "P(death = 0): 0.23802369858493144\n",
      "P(death = 1): 0.7619763014150686\n"
     ]
    }
   ],
   "source": [
    "pred2 = [1, 40, 0, 0, 0, 1, 0, 82, 60, 5.1, 170, np.log(4.3), 150, 1.8, 17, 3.1, (1.8 ** 2), 8, (np.log(17) * 1)]\n",
    "prediction2 = final[\"model\"].predict([pred2])\n",
    "prob2 = final[\"model\"].predict_proba([pred2])\n",
    "print(f\"Patient outcome: {prediction2[0]}\")\n",
    "print(f\"P(death = 0): {prob2[0][0]}\")\n",
    "print(f\"P(death = 1): {prob2[0][1]}\")"
   ]
  },
  {
   "cell_type": "markdown",
   "id": "ab32c88c-abcd-4939-b4a9-354aa757ceb1",
   "metadata": {},
   "source": [
    "As expected, this patient would have a poor outcome from Covid-19 since our model indicated that they would *not survive*. The model determined that there is a 76.20% chance that this patient would die as a result of Covid-19. Our null model would have only given a 27% probability that the patient died from Covid-19. Therefore, in cases where we may want to predict poor patient outcomes, our linear model performs much better.\n",
    "\n",
    "The patient stats we used in this prediction are more \"obvious\", even though the patient is younger. What if the patient is the same age and presents signs of inflammation and blood circulation dysfunction as a direct result of Covid-19, but no other signs related to organ dysfunction or pre-existing conditions? \n",
    "\n",
    "***Let's say we have a 40 year old patient with no pre-existing conditions and the following physical and blood panel results***\n",
    "\n",
    "- OSat: 82%\n",
    "- MAP: 57 mm Hg\n",
    "- D-Dimer: 5.0 u/mL\n",
    "- platelets: 200 platelets/uL\n",
    "- creatinine: 1.5 mg/dL\n",
    "- sodium: 130 mEq/L\n",
    "- AST/ALT: 0.5\n",
    "- c-reactive protein: 17 mg/dL\n",
    "- procalcitonin: 3.0 ng/mL\n",
    "- troponin: 2 ng/mL\n",
    "- length of stay: 8 days\n",
    "\n",
    "This patient has very obvious signs of severe infection and poor blood circulation, so we would expect this patient to have a poor outcome from Covid-19. However, will the model determine the same if no pre-existing conditions or related blood panel results are present?"
   ]
  },
  {
   "cell_type": "code",
   "execution_count": 66,
   "id": "80b3df06-958e-4c70-b4f9-ddc40feb883e",
   "metadata": {},
   "outputs": [
    {
     "name": "stdout",
     "output_type": "stream",
     "text": [
      "Patient outcome: 0.0\n",
      "P(death = 0): 0.531181434485827\n",
      "P(death = 1): 0.468818565514173\n"
     ]
    }
   ],
   "source": [
    "pred3 = [1, 40, 0, 0, 0, 0, 0, 82, 57, 5.0, 200, np.log(1.0), 130, 0.5, 20, 3.0, (2 ** 2), 8, (np.log(1) * 0)]\n",
    "prediction3 = final[\"model\"].predict([pred3])\n",
    "prob3 = final[\"model\"].predict_proba([pred3])\n",
    "print(f\"Patient outcome: {prediction3[0]}\")\n",
    "print(f\"P(death = 0): {prob3[0][0]}\")\n",
    "print(f\"P(death = 1): {prob3[0][1]}\")"
   ]
  },
  {
   "cell_type": "markdown",
   "id": "a54b1f2b-27fa-455f-ace9-b37ca2ee0094",
   "metadata": {},
   "source": [
    "This is likely a case where our model may generate a *false negative*. This patient presents clear signs of severe infection with elevated procalcitonin and c-reactive protein levels, as well as low blood oxygen saturation and low mean arterial pressure which are typical in hospitalized Covid-19 patients. Therefore, we might expect that this patient would not survive. The model predicts that the patient would survive, but when we look at the probabilities, we see almost a 50/50 chance that the patient survives or dies. In cases like this, the model is not able to determine if the patient will survive because the patient has severe symptoms but no organ dysfunction or pre-existing condition. Our null model would have predicted that the patient would have survived, as well, and the null model states that there is a 76% chance that the patient would survive. Since this seems more like a case where the patient may have not survived, the linear model likely performs better. \n",
    "\n",
    "Just like we saw during the pandemic, some patients pass away even though they are young with no pre-existing conditions or major organ dysfunction. Even our model is unable to confidently say whether patients with these characteristics will survive. We can try to categorize people based on high or low risk when it comes to Covid-19, but as our model has shown, sometimes treating everyone like they are high risk is safer. "
   ]
  }
 ],
 "metadata": {
  "kernelspec": {
   "display_name": "Python 3 (ipykernel)",
   "language": "python",
   "name": "python3"
  },
  "language_info": {
   "codemirror_mode": {
    "name": "ipython",
    "version": 3
   },
   "file_extension": ".py",
   "mimetype": "text/x-python",
   "name": "python",
   "nbconvert_exporter": "python",
   "pygments_lexer": "ipython3",
   "version": "3.9.10"
  }
 },
 "nbformat": 4,
 "nbformat_minor": 5
}
